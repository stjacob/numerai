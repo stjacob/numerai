{
 "cells": [
  {
   "cell_type": "code",
   "execution_count": 142,
   "metadata": {
    "collapsed": false
   },
   "outputs": [],
   "source": [
    "import pandas as pd\n",
    "import numpy as np\n",
    "from sklearn import metrics, preprocessing, linear_model\n",
    "import tensorflow as tf\n",
    "from tensorflow.examples.tutorials.mnist import input_data\n",
    "#simple dataset\n",
    "class SimpleDataSet(object):\n",
    "    def __init__(self,data,label,batch_size):\n",
    "        self._data=data\n",
    "        self._label=label\n",
    "        self._start=0\n",
    "        self._batch_size=batch_size\n",
    "        assert(len(self._data)==len(self._label))\n",
    "        self._size=len(self._data)\n",
    "    def new_epoch(self):\n",
    "        self._start=0\n",
    "    def next_batch(self):\n",
    "        start=self._start\n",
    "        self._start=start+self._batch_size\n",
    "        if self._start>=self._size:\n",
    "            self._start=self._size-1\n",
    "        return self._data[start:self._start],self._label[start:self._start]\n",
    "    def total_batch(self):\n",
    "        if len(self._data)%self._batch_size==0:\n",
    "            return len(self._data)/self._batch_size\n",
    "        return len(self._data)/self._batch_size + 1"
   ]
  },
  {
   "cell_type": "code",
   "execution_count": null,
   "metadata": {
    "collapsed": false
   },
   "outputs": [],
   "source": [
    "# convert numerai input to tfrecords\n",
    "# tfrecords_fn=\"numerai.train.tfrecords\"\n",
    "# Load the data from the CSV files\n",
    "training_data = pd.read_csv('./numerai/numerai_training_data.csv', header=0)\n",
    "prediction_data = pd.read_csv('./numerai/numerai_tournament_data.csv', header=0)\n",
    "# Transform the loaded CSV data into numpy arrays\n",
    "feas_data = training_data.drop('target', axis=1)\n",
    "label_data = training_data['target']\n",
    "tid_data = prediction_data['t_id']\n",
    "tour_data = prediction_data.drop('t_id', axis=1)\n",
    "_train_feas=feas_data.values\n",
    "_train_label=label_data.values\n",
    "_tour_feas=tour_data.values\n",
    "_tid=tid_data.values\n",
    "\n",
    "onehot_option=1\n",
    "normal_option=0\n",
    "\n",
    "_train_onehot_label=[]\n",
    "onehot_op=tf.one_hot(indices=_train_label,on_value=1.,off_value=0.,depth=2)\n",
    "with tf.Session() as sess:\n",
    "    if onehot_option is 1:\n",
    "        _train_onehot_label=onehot_op.eval()#\n",
    "    else:\n",
    "        _train_onehot_label=np.reshape(_train_label,(-1,1))\n",
    "    \n",
    "def feature_normalize(features):\n",
    "    mu = np.mean(features,axis=0)\n",
    "    sigma = np.std(features,axis=0)\n",
    "    return (features - mu)/sigma\n",
    "if normal_option is 1:\n",
    "    _train_feas=feature_normalize(_train_feas)\n",
    "    _tour_feas=feature_normalize(_tour_feas)"
   ]
  },
  {
   "cell_type": "code",
   "execution_count": null,
   "metadata": {
    "collapsed": false,
    "scrolled": false
   },
   "outputs": [],
   "source": [
    "learning_rate = 0.01\n",
    "training_epochs = 50\n",
    "batch_size = 100\n",
    "display_step = 1\n",
    "batch = tf.Variable(0, trainable=False)\n",
    "learning_rate_op=tf.train.exponential_decay(\n",
    "    0.02*0.01,                # Base learning rate.\n",
    "    batch*batch_size,  # Current index into the dataset.\n",
    "    _train_feas.shape[0],    # Decay step.\n",
    "    0.96,                # Decay rate.\n",
    "    staircase=True)\n",
    "# tf Graph Input\n",
    "x = tf.placeholder(tf.float32, [None, 50])\n",
    "y = tf.placeholder(tf.float32, [None, 1])\n",
    "b = tf.Variable(tf.zeros([1]))\n",
    "W = tf.Variable(tf.zeros([50, 1]))\n",
    "pred_op = tf.nn.sigmoid(tf.matmul(x, W)+b)\n",
    "if onehot_option is 1:\n",
    "    y = tf.placeholder(tf.float32, [None, 2])\n",
    "    b = tf.Variable(tf.zeros([2]))\n",
    "    W = tf.Variable(tf.zeros([50, 2]))\n",
    "    pred_op = tf.nn.softmax(tf.matmul(x, W)+b) \n",
    "# cost_op=tf.reduce_mean(tf.reduce_sum(- y * tf.log(pred_op) - (1 - y) * tf.log(1 - pred_op), reduction_indices=[1]))\\\n",
    "#  + 0.01*tf.nn.l2_loss(W) \n",
    "cost_op = tf.reduce_mean(tf.reduce_sum(-y*tf.log(pred_op), 1))+ 0.01*tf.nn.l2_loss(W) + 0.01*tf.nn.l2_loss(b) \n",
    "cost_op = tf.reduce_mean(tf.nn.sigmoid_cross_entropy_with_logits(y,pred_op))+ 0.01*tf.nn.l2_loss(W) + 0.01*tf.nn.l2_loss(b)\n",
    "optimizer_op = tf.train.GradientDescentOptimizer(0.01).minimize(cost_op)\n",
    "# optimizer_op = tf.train.AdamOptimizer(learning_rate=0.5).minimize(cost_op)#,global_step=batch)\n",
    "init_op = tf.global_variables_initializer()\n",
    "# Launch the graph\n",
    "result=[]\n",
    "with tf.Session() as sess:\n",
    "    sds=SimpleDataSet(_train_feas,_train_onehot_label,batch_size)\n",
    "    total_batch=sds.total_batch()\n",
    "    sess.run(init_op)\n",
    "    # Training cycle\n",
    "    for epoch in range(training_epochs):\n",
    "        sds.new_epoch()\n",
    "        avg_cost = 0.\n",
    "        # Loop over all batches\n",
    "        for i in range(total_batch):\n",
    "            X,Y=sds.next_batch()\n",
    "            _, c = sess.run([optimizer_op, cost_op], feed_dict={x: X,\n",
    "                                                                  y: Y})\n",
    "            avg_cost += c / total_batch\n",
    "#         _, c = sess.run([optimizer_op, cost_op], feed_dict={x: _train_feas,\n",
    "#                                                                   y: _train_onehot_label})\n",
    "        correct_prediction_op = tf.equal(tf.argmax(pred_op, 1), tf.argmax(y, 1))\n",
    "        accuracy_op = tf.reduce_mean(tf.cast(correct_prediction_op, tf.float32))\n",
    "        if (epoch+1) % display_step == 0:\n",
    "            print \"Epoch:\", '%04d' % (epoch+1), \"cost=\", \"{:.9f}\".format(avg_cost),\\\n",
    "            \"accuracy:\", accuracy_op.eval({x: _train_feas, y: _train_onehot_label})\n",
    "        #start to gen tour data\n",
    "    result=pred_op.eval({x:_tour_feas})\n",
    "    print \"Finished!\"\n",
    "result    "
   ]
  },
  {
   "cell_type": "code",
   "execution_count": null,
   "metadata": {
    "collapsed": false
   },
   "outputs": [],
   "source": [
    "results_df = pd.DataFrame(data={'t_id':_tid,'probability':result[:,1]})\n",
    "results_df.to_csv(\"predictions.csv\", index=False,columns=['t_id','probability'])\n"
   ]
  },
  {
   "cell_type": "code",
   "execution_count": null,
   "metadata": {
    "collapsed": true
   },
   "outputs": [],
   "source": []
  },
  {
   "cell_type": "raw",
   "metadata": {},
   "source": [
    "result"
   ]
  },
  {
   "cell_type": "code",
   "execution_count": null,
   "metadata": {
    "collapsed": false
   },
   "outputs": [],
   "source": [
    "train_tfrecords_fn=\"./numerai/numerai_training_data.csv.tfrecords\"\n",
    "writer = tf.python_io.TFRecordWriter(train_tfrecords_fn)\n",
    "r=20\n",
    "for i in training_data.itertuples():\n",
    "    feas=[]\n",
    "    for idx in range(1,51):\n",
    "        feas.append((i[idx]))\n",
    "    label=i[51]\n",
    "    print feas,label\n",
    "    example = tf.train.Example(features=tf.train.Features(feature={\n",
    "        'label': tf.train.Feature(float_list=tf.train.FloatList(value=[label])),\n",
    "        'feas': tf.train.Feature(float_list=tf.train.FloatList(value=feas))\n",
    "    }))\n",
    "    writer.write(example.SerializeToString())   \n",
    "    r-=1\n",
    "    if r<=0:\n",
    "        break\n",
    "writer.close()"
   ]
  },
  {
   "cell_type": "code",
   "execution_count": null,
   "metadata": {
    "collapsed": false
   },
   "outputs": [],
   "source": [
    "#try to read\n",
    "r=2\n",
    "for serialized_example in tf.python_io.tf_record_iterator(train_tfrecords_fn):\n",
    "    example = tf.train.Example()\n",
    "    example.ParseFromString(serialized_example)\n",
    "    print example.features.feature['feas'].float_list.value\n",
    "    print example.features.feature['label'].float_list.value\n",
    "    r-=1\n",
    "    if r<=0:\n",
    "        break"
   ]
  },
  {
   "cell_type": "code",
   "execution_count": null,
   "metadata": {
    "collapsed": false
   },
   "outputs": [],
   "source": [
    "train_tfrecords_fn=\"./numerai/numerai_training_data.csv.tfrecords\"\n",
    "def read_and_decode(filename):\n",
    "    filename_queue = tf.train.string_input_producer([filename])\n",
    "    reader = tf.TFRecordReader()\n",
    "    _, serialized_example = reader.read(filename_queue) \n",
    "    features = tf.parse_single_example(serialized_example,\n",
    "                                       features={\n",
    "                                           'label': tf.FixedLenFeature([], tf.float32),\n",
    "                                           'feas' : tf.FixedLenFeature([], tf.float32),\n",
    "                                       })\n",
    "\n",
    "    feas=features['feas']\n",
    "    label = tf.cast(features['label'], tf.int32)\n",
    "    return feas, label\n",
    "feas,label=read_and_decode(train_tfrecords_fn)"
   ]
  },
  {
   "cell_type": "code",
   "execution_count": null,
   "metadata": {
    "collapsed": true
   },
   "outputs": [],
   "source": []
  },
  {
   "cell_type": "code",
   "execution_count": null,
   "metadata": {
    "collapsed": false
   },
   "outputs": [],
   "source": [
    "learning_rate = 0.01\n",
    "training_epochs = 25\n",
    "batch_size = 200\n",
    "display_step = 1\n",
    "\n",
    "feas_batch, label_batch = tf.train.batch([feas, label],\n",
    "                                                batch_size=batch_size, capacity=2000)\n",
    "                                                #min_after_dequeue=1000)\n",
    "total_batch=int(len(training_data.index)/batch_size)"
   ]
  },
  {
   "cell_type": "code",
   "execution_count": null,
   "metadata": {
    "collapsed": false
   },
   "outputs": [],
   "source": [
    "with tf.Session() as sess:\n",
    "    f,l=sess.run([feas_batch,label_batch])\n",
    "    print f,l"
   ]
  },
  {
   "cell_type": "code",
   "execution_count": null,
   "metadata": {
    "collapsed": true
   },
   "outputs": [],
   "source": [
    "# tf Graph Input\n",
    "x = tf.placeholder(tf.float32, [None, 50]) #50feas\n",
    "y = tf.placeholder(tf.float32, [None, 1]) #0-1\n",
    "\n",
    "W = tf.Variable(tf.zeros([50, 1]))\n",
    "b = tf.Variable(tf.zeros([1]))\n",
    "\n",
    "pred = tf.nn.sigmoid(tf.matmul(x, W) + b) # sigmoid\n",
    "cost = tf.reduce_mean(-tf.reduce_sum(y*tf.log(pred), reduction_indices=1))\n",
    "# cost = tf.nn.l2_loss(pred-y,name=\"squared_error_cost\")\n",
    "optimizer = tf.train.GradientDescentOptimizer(learning_rate).minimize(cost)"
   ]
  },
  {
   "cell_type": "code",
   "execution_count": null,
   "metadata": {
    "collapsed": true
   },
   "outputs": [],
   "source": []
  },
  {
   "cell_type": "code",
   "execution_count": null,
   "metadata": {
    "collapsed": false
   },
   "outputs": [],
   "source": [
    "\n",
    "init = tf.global_variables_initializer()\n",
    "\n",
    "# Launch the graph\n",
    "with tf.Session() as sess:\n",
    "    sess.run(init)\n",
    "    # Training cycle\n",
    "    for epoch in range(training_epochs):\n",
    "        print \"epoch:\",epoch\n",
    "        avg_cost = 0.\n",
    "        # Loop over all batches\n",
    "        for i in range(total_batch):\n",
    "            print \"loop:\",i\n",
    "            _, c = sess.run([optimizer, cost], feed_dict={x: feas_batch.eval(),\n",
    "                                                          y: label_batch.eval()})\n",
    "            # Compute average loss\n",
    "            avg_cost += c / total_batch\n",
    "            print \"avg_cost:\",avg_cost\n",
    "        # Display logs per epoch step\n",
    "        if (epoch+1) % display_step == 0:\n",
    "            print \"Epoch:\", '%04d' % (epoch+1), \"cost=\", \"{:.9f}\".format(avg_cost)\n",
    "\n",
    "    print \"Optimization Finished!\"\n",
    "\n",
    "    # Test model\n",
    "    correct_prediction = tf.equal(tf.argmax(pred, 1), tf.argmax(y, 1))\n",
    "    # Calculate accuracy\n",
    "    accuracy = tf.reduce_mean(tf.cast(correct_prediction, tf.float32))\n",
    "# print(\"Accuracy:\", accuracy.eval({x: mnist.test.images, y: mnist.test.labels}))\n"
   ]
  },
  {
   "cell_type": "code",
   "execution_count": null,
   "metadata": {
    "collapsed": false
   },
   "outputs": [],
   "source": [
    "# Set seed for reproducibility\n",
    "np.random.seed(0)\n",
    "\n",
    "print(\"Loading data...\")\n",
    "# Load the data from the CSV files\n",
    "training_data = pd.read_csv('./numerai/numerai_training_data.csv', header=0)\n",
    "prediction_data = pd.read_csv('./numerai/numerai_tournament_data.csv', header=0)\n",
    "\n",
    "# Transform the loaded CSV data into numpy arrays\n",
    "Y = training_data['target']\n",
    "X = training_data.drop('target', axis=1)\n",
    "t_id = prediction_data['t_id']\n",
    "x_prediction = prediction_data.drop('t_id', axis=1)\n",
    "\n",
    "# This is your model that will learn to predict\n",
    "model = linear_model.LogisticRegression(n_jobs=-1)\n",
    "\n",
    "print(\"Training...\")\n",
    "# Your model is trained on the numerai_training_data\n",
    "model.fit(X, Y)\n",
    "\n",
    "print(\"Predicting...\")\n",
    "# Your trained model is now used to make predictions on the numerai_tournament_data\n",
    "# The model returns two columns: [probability of 0, probability of 1]\n",
    "# We are just interested in the probability that the target is 1.\n",
    "y_prediction = model.predict_proba(x_prediction)\n",
    "results = y_prediction[:, 1]\n",
    "results_df = pd.DataFrame(data={'probability':results})\n",
    "joined = pd.DataFrame(t_id).join(results_df)\n",
    "\n",
    "print(\"Writing predictions to predictions.csv\")\n",
    "# Save the predictions out to a CSV file\n",
    "joined.to_csv(\"predictions.csv\", index=False)\n",
    "# Now you can upload these predictions on numer.ai"
   ]
  }
 ],
 "metadata": {
  "anaconda-cloud": {},
  "kernelspec": {
   "display_name": "Python [conda root]",
   "language": "python",
   "name": "conda-root-py"
  },
  "language_info": {
   "codemirror_mode": {
    "name": "ipython",
    "version": 2
   },
   "file_extension": ".py",
   "mimetype": "text/x-python",
   "name": "python",
   "nbconvert_exporter": "python",
   "pygments_lexer": "ipython2",
   "version": "2.7.12"
  }
 },
 "nbformat": 4,
 "nbformat_minor": 1
}
