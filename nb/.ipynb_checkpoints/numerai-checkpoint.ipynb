{
 "cells": [
  {
   "cell_type": "code",
   "execution_count": null,
   "metadata": {
    "collapsed": false
   },
   "outputs": [],
   "source": [
    "import pandas as pd\n",
    "import numpy as np\n",
    "from sklearn import metrics, preprocessing, linear_model\n",
    "import tensorflow as tf\n",
    "from tensorflow.examples.tutorials.mnist import input_data\n",
    "import seaborn as sns\n",
    "import matplotlib.pyplot as plt\n",
    "\n",
    "\n",
    "#simple dataset\n",
    "class SimpleDataSet(object):\n",
    "    def __init__(self, data, label, batch_size):\n",
    "        self._data = data\n",
    "        self._label = label\n",
    "        self._start = 0\n",
    "        self._batch_size = batch_size\n",
    "        assert (len(self._data) == len(self._label))\n",
    "        self._size = len(self._data)\n",
    "\n",
    "    def new_epoch(self):\n",
    "        self._start = 0\n",
    "\n",
    "    def next_batch(self):\n",
    "        start = self._start\n",
    "        self._start = start + self._batch_size\n",
    "        if self._start >= self._size:\n",
    "            self._start = self._size - 1\n",
    "        return self._data[start:self._start], self._label[start:self._start]\n",
    "\n",
    "    def total_batch(self):\n",
    "        if len(self._data) % self._batch_size == 0:\n",
    "            return len(self._data) / self._batch_size\n",
    "        return len(self._data) / self._batch_size + 1"
   ]
  },
  {
   "cell_type": "code",
   "execution_count": null,
   "metadata": {
    "collapsed": false
   },
   "outputs": [],
   "source": [
    "# convert numerai input to tfrecords\n",
    "# tfrecords_fn=\"numerai.train.tfrecords\"\n",
    "# Load the data from the CSV files\n",
    "training_data = pd.read_csv(\n",
    "    '../../nb/numerai1/numerai_training_data_.csv', header=0)\n",
    "prediction_data = pd.read_csv(\n",
    "    '../../nb/numerai1/numerai_tournament_data.csv', header=0)\n",
    "\n",
    "total_data = training_data.copy()\n",
    "training_data = total_data.sample(frac=0.8, random_state=1)\n",
    "test_data = total_data.loc[~total_data.index.isin(training_data.index)]\n",
    "\n",
    "# Transform the loaded CSV data into numpy arrays\n",
    "feas_data = training_data.drop('target', axis=1)\n",
    "label_data = training_data['target']\n",
    "test_feas_data = test_data.drop('target', axis=1)\n",
    "test_label_data = test_data['target']\n",
    "tid_data = prediction_data['t_id']\n",
    "tour_data = prediction_data.drop('t_id', axis=1)\n",
    "_train_feas = feas_data.values\n",
    "_train_label = label_data.values\n",
    "_test_feas = test_feas_data.values\n",
    "_test_label = test_label_data.values\n",
    "_tour_feas = tour_data.values\n",
    "_tid = tid_data.values\n",
    "\n",
    "onehot_option = 1\n",
    "normal_option = 0\n",
    "\n",
    "_train_onehot_label = []\n",
    "_test_onehot_label = []\n",
    "onehot_op = tf.one_hot(\n",
    "    indices=_train_label, on_value=1., off_value=0., depth=2)\n",
    "test_onehot_op = tf.one_hot(\n",
    "    indices=_test_label, on_value=1., off_value=0., depth=2)\n",
    "with tf.Session() as sess:\n",
    "    if onehot_option is 1:\n",
    "        _train_onehot_label = onehot_op.eval()  #\n",
    "        _test_onehot_label = test_onehot_op.eval()\n",
    "    else:\n",
    "        _train_onehot_label = np.reshape(_train_label, (-1, 1))\n",
    "        _test_onehot_label = np.reshape(_test_label, (-1, 1))\n",
    "\n",
    "\n",
    "def feature_normalize(features):\n",
    "    mu = np.mean(features, axis=0)\n",
    "    sigma = np.std(features, axis=0)\n",
    "    return (features - mu) / sigma\n",
    "\n",
    "\n",
    "if normal_option is 1:\n",
    "    _train_feas = feature_normalize(_train_feas)\n",
    "    _tour_feas = feature_normalize(_tour_feas)"
   ]
  },
  {
   "cell_type": "code",
   "execution_count": null,
   "metadata": {
    "collapsed": false
   },
   "outputs": [],
   "source": [
    "test_data.shape"
   ]
  },
  {
   "cell_type": "code",
   "execution_count": null,
   "metadata": {
    "collapsed": false
   },
   "outputs": [],
   "source": [
    "training_data.corr()"
   ]
  },
  {
   "cell_type": "code",
   "execution_count": null,
   "metadata": {
    "collapsed": false
   },
   "outputs": [],
   "source": [
    "sns.pairplot(training_data.head(200)[[\"feature1\",\"feature2\",\"feature3\",\"feature4\",\"feature5\",\"feature6\"]])\n",
    "plt.show()"
   ]
  },
  {
   "cell_type": "code",
   "execution_count": null,
   "metadata": {
    "collapsed": false
   },
   "outputs": [],
   "source": []
  },
  {
   "cell_type": "code",
   "execution_count": 6,
   "metadata": {
    "collapsed": false,
    "scrolled": false
   },
   "outputs": [
    {
     "name": "stdout",
     "output_type": "stream",
     "text": [
      "Epoch: 0001 cost= 0.694324794 accuracy: 0.498078\n",
      "Epoch: 0002 cost= 0.694322739 accuracy: 0.498078\n",
      "Epoch: 0003 cost= 0.694322739 accuracy: 0.498078\n",
      "Epoch: 0004 cost= 0.694322739 accuracy: 0.498078\n",
      "Epoch: 0005 cost= 0.694322739 accuracy: 0.498078\n",
      "Epoch: 0006 cost= 0.694322739 accuracy: 0.498078\n",
      "Epoch: 0007 cost= 0.694322739 accuracy: 0.498078\n",
      "Epoch: 0008 cost= 0.694322739 accuracy: 0.498078\n",
      "Epoch: 0009 cost= 0.694322739 accuracy: 0.498078\n",
      "Epoch: 0010 cost= 0.694322739 accuracy: 0.498078\n",
      "Epoch: 0011 cost= 0.694322739 accuracy: 0.498078\n",
      "Epoch: 0012 cost= 0.694322739 accuracy: 0.498078\n",
      "Epoch: 0013 cost= 0.694322739 accuracy: 0.498078\n",
      "Epoch: 0014 cost= 0.694322739 accuracy: 0.498078\n",
      "Epoch: 0015 cost= 0.694322739 accuracy: 0.498078\n",
      "Epoch: 0016 cost= 0.694322739 accuracy: 0.498078\n",
      "Epoch: 0017 cost= 0.694322739 accuracy: 0.498078\n",
      "Epoch: 0018 cost= 0.694322739 accuracy: 0.498078\n",
      "Epoch: 0019 cost= 0.694322739 accuracy: 0.498078\n",
      "Epoch: 0020 cost= 0.694322739 accuracy: 0.498078\n",
      "Epoch: 0021 cost= 0.694322739 accuracy: 0.498078\n",
      "Epoch: 0022 cost= 0.694322739 accuracy: 0.498078\n",
      "Epoch: 0023 cost= 0.694322740 accuracy: 0.498078\n",
      "Epoch: 0024 cost= 0.694322739 accuracy: 0.498078\n",
      "Epoch: 0025 cost= 0.694322739 accuracy: 0.498078\n",
      "Epoch: 0026 cost= 0.694322739 accuracy: 0.498078\n",
      "Epoch: 0027 cost= 0.694322739 accuracy: 0.498078\n",
      "Epoch: 0028 cost= 0.694322740 accuracy: 0.498078\n",
      "Epoch: 0029 cost= 0.694322739 accuracy: 0.498078\n",
      "Epoch: 0030 cost= 0.694322739 accuracy: 0.498078\n",
      "Epoch: 0031 cost= 0.694322740 accuracy: 0.498078\n",
      "Epoch: 0032 cost= 0.694322739 accuracy: 0.498078\n",
      "Epoch: 0033 cost= 0.694322739 accuracy: 0.498078\n",
      "Epoch: 0034 cost= 0.694322740 accuracy: 0.498078\n",
      "Epoch: 0035 cost= 0.694322739 accuracy: 0.498078\n",
      "Epoch: 0036 cost= 0.694322739 accuracy: 0.498078\n",
      "Epoch: 0037 cost= 0.694322739 accuracy: 0.498078\n",
      "Epoch: 0038 cost= 0.694322739 accuracy: 0.498078\n",
      "Epoch: 0039 cost= 0.694322739 accuracy: 0.498078\n",
      "Epoch: 0040 cost= 0.694322739 accuracy: 0.498078\n",
      "Epoch: 0041 cost= 0.694322740 accuracy: 0.498078\n",
      "Epoch: 0042 cost= 0.694322739 accuracy: 0.498078\n",
      "Epoch: 0043 cost= 0.694322739 accuracy: 0.498078\n",
      "Epoch: 0044 cost= 0.694322739 accuracy: 0.498078\n",
      "Epoch: 0045 cost= 0.694322739 accuracy: 0.498078\n",
      "Epoch: 0046 cost= 0.694322739 accuracy: 0.498078\n",
      "Epoch: 0047 cost= 0.694322739 accuracy: 0.498078\n",
      "Epoch: 0048 cost= 0.694322739 accuracy: 0.498078\n",
      "Epoch: 0049 cost= 0.694322739 accuracy: 0.498078\n",
      "Epoch: 0050 cost= 0.694322739 accuracy: 0.498078\n",
      "Epoch: 0051 cost= 0.694322739 accuracy: 0.498078\n",
      "Epoch: 0052 cost= 0.694322739 accuracy: 0.498078\n",
      "Epoch: 0053 cost= 0.694322740 accuracy: 0.498078\n",
      "Epoch: 0054 cost= 0.694322739 accuracy: 0.498078\n",
      "Epoch: 0055 cost= 0.694322739 accuracy: 0.498078\n",
      "Epoch: 0056 cost= 0.694322738 accuracy: 0.498078\n",
      "Epoch: 0057 cost= 0.694322739 accuracy: 0.498078\n",
      "Epoch: 0058 cost= 0.694322738 accuracy: 0.498078\n",
      "Epoch: 0059 cost= 0.694322739 accuracy: 0.498078\n",
      "Epoch: 0060 cost= 0.694322739 accuracy: 0.498078\n",
      "Epoch: 0061 cost= 0.694322739 accuracy: 0.498078\n",
      "Epoch: 0062 cost= 0.694322739 accuracy: 0.498078\n",
      "Epoch: 0063 cost= 0.694322739 accuracy: 0.498078\n",
      "Epoch: 0064 cost= 0.694322739 accuracy: 0.498078\n",
      "Epoch: 0065 cost= 0.694322739 accuracy: 0.498078\n",
      "Epoch: 0066 cost= 0.694322739 accuracy: 0.498078\n",
      "Epoch: 0067 cost= 0.694322739 accuracy: 0.498078\n",
      "Epoch: 0068 cost= 0.694322739 accuracy: 0.498078\n",
      "Epoch: 0069 cost= 0.694322739 accuracy: 0.498078\n",
      "Epoch: 0070 cost= 0.694322740 accuracy: 0.498078\n",
      "Epoch: 0071 cost= 0.694322739 accuracy: 0.498078\n",
      "Epoch: 0072 cost= 0.694322740 accuracy: 0.498078\n",
      "Epoch: 0073 cost= 0.694322739 accuracy: 0.498078\n",
      "Epoch: 0074 cost= 0.694322739 accuracy: 0.498078\n",
      "Epoch: 0075 cost= 0.694322739 accuracy: 0.498078\n",
      "Epoch: 0076 cost= 0.694322739 accuracy: 0.498078\n",
      "Epoch: 0077 cost= 0.694322739 accuracy: 0.498078\n",
      "Epoch: 0078 cost= 0.694322739 accuracy: 0.498078\n",
      "Epoch: 0079 cost= 0.694322739 accuracy: 0.498078\n",
      "Epoch: 0080 cost= 0.694322739 accuracy: 0.498078\n",
      "Epoch: 0081 cost= 0.694322739 accuracy: 0.498078\n",
      "Epoch: 0082 cost= 0.694322738 accuracy: 0.498078\n"
     ]
    },
    {
     "ename": "KeyboardInterrupt",
     "evalue": "",
     "output_type": "error",
     "traceback": [
      "\u001b[0;31m---------------------------------------------------------------------------\u001b[0m",
      "\u001b[0;31mKeyboardInterrupt\u001b[0m                         Traceback (most recent call last)",
      "\u001b[0;32m<ipython-input-6-50177929f047>\u001b[0m in \u001b[0;36m<module>\u001b[0;34m()\u001b[0m\n\u001b[1;32m     44\u001b[0m         \u001b[0;32mfor\u001b[0m \u001b[0mi\u001b[0m \u001b[0;32min\u001b[0m \u001b[0mrange\u001b[0m\u001b[0;34m(\u001b[0m\u001b[0mtotal_batch\u001b[0m\u001b[0;34m)\u001b[0m\u001b[0;34m:\u001b[0m\u001b[0;34m\u001b[0m\u001b[0m\n\u001b[1;32m     45\u001b[0m             \u001b[0mX\u001b[0m\u001b[0;34m,\u001b[0m \u001b[0mY\u001b[0m \u001b[0;34m=\u001b[0m \u001b[0msds\u001b[0m\u001b[0;34m.\u001b[0m\u001b[0mnext_batch\u001b[0m\u001b[0;34m(\u001b[0m\u001b[0;34m)\u001b[0m\u001b[0;34m\u001b[0m\u001b[0m\n\u001b[0;32m---> 46\u001b[0;31m             \u001b[0m_\u001b[0m\u001b[0;34m,\u001b[0m \u001b[0mc\u001b[0m \u001b[0;34m=\u001b[0m \u001b[0msess\u001b[0m\u001b[0;34m.\u001b[0m\u001b[0mrun\u001b[0m\u001b[0;34m(\u001b[0m\u001b[0;34m[\u001b[0m\u001b[0moptimizer_op\u001b[0m\u001b[0;34m,\u001b[0m \u001b[0mcost_op\u001b[0m\u001b[0;34m]\u001b[0m\u001b[0;34m,\u001b[0m \u001b[0mfeed_dict\u001b[0m\u001b[0;34m=\u001b[0m\u001b[0;34m{\u001b[0m\u001b[0mx\u001b[0m\u001b[0;34m:\u001b[0m \u001b[0mX\u001b[0m\u001b[0;34m,\u001b[0m \u001b[0my\u001b[0m\u001b[0;34m:\u001b[0m \u001b[0mY\u001b[0m\u001b[0;34m}\u001b[0m\u001b[0;34m)\u001b[0m\u001b[0;34m\u001b[0m\u001b[0m\n\u001b[0m\u001b[1;32m     47\u001b[0m             \u001b[0mavg_cost\u001b[0m \u001b[0;34m+=\u001b[0m \u001b[0mc\u001b[0m \u001b[0;34m/\u001b[0m \u001b[0mtotal_batch\u001b[0m\u001b[0;34m\u001b[0m\u001b[0m\n\u001b[1;32m     48\u001b[0m \u001b[0;31m#         _, c = sess.run([optimizer_op, cost_op], feed_dict={x: _train_feas,\u001b[0m\u001b[0;34m\u001b[0m\u001b[0;34m\u001b[0m\u001b[0m\n",
      "\u001b[0;32m/root/anaconda2/lib/python2.7/site-packages/tensorflow/python/client/session.pyc\u001b[0m in \u001b[0;36mrun\u001b[0;34m(self, fetches, feed_dict, options, run_metadata)\u001b[0m\n\u001b[1;32m    764\u001b[0m     \u001b[0;32mtry\u001b[0m\u001b[0;34m:\u001b[0m\u001b[0;34m\u001b[0m\u001b[0m\n\u001b[1;32m    765\u001b[0m       result = self._run(None, fetches, feed_dict, options_ptr,\n\u001b[0;32m--> 766\u001b[0;31m                          run_metadata_ptr)\n\u001b[0m\u001b[1;32m    767\u001b[0m       \u001b[0;32mif\u001b[0m \u001b[0mrun_metadata\u001b[0m\u001b[0;34m:\u001b[0m\u001b[0;34m\u001b[0m\u001b[0m\n\u001b[1;32m    768\u001b[0m         \u001b[0mproto_data\u001b[0m \u001b[0;34m=\u001b[0m \u001b[0mtf_session\u001b[0m\u001b[0;34m.\u001b[0m\u001b[0mTF_GetBuffer\u001b[0m\u001b[0;34m(\u001b[0m\u001b[0mrun_metadata_ptr\u001b[0m\u001b[0;34m)\u001b[0m\u001b[0;34m\u001b[0m\u001b[0m\n",
      "\u001b[0;32m/root/anaconda2/lib/python2.7/site-packages/tensorflow/python/client/session.pyc\u001b[0m in \u001b[0;36m_run\u001b[0;34m(self, handle, fetches, feed_dict, options, run_metadata)\u001b[0m\n\u001b[1;32m    962\u001b[0m     \u001b[0;32mif\u001b[0m \u001b[0mfinal_fetches\u001b[0m \u001b[0;32mor\u001b[0m \u001b[0mfinal_targets\u001b[0m\u001b[0;34m:\u001b[0m\u001b[0;34m\u001b[0m\u001b[0m\n\u001b[1;32m    963\u001b[0m       results = self._do_run(handle, final_targets, final_fetches,\n\u001b[0;32m--> 964\u001b[0;31m                              feed_dict_string, options, run_metadata)\n\u001b[0m\u001b[1;32m    965\u001b[0m     \u001b[0;32melse\u001b[0m\u001b[0;34m:\u001b[0m\u001b[0;34m\u001b[0m\u001b[0m\n\u001b[1;32m    966\u001b[0m       \u001b[0mresults\u001b[0m \u001b[0;34m=\u001b[0m \u001b[0;34m[\u001b[0m\u001b[0;34m]\u001b[0m\u001b[0;34m\u001b[0m\u001b[0m\n",
      "\u001b[0;32m/root/anaconda2/lib/python2.7/site-packages/tensorflow/python/client/session.pyc\u001b[0m in \u001b[0;36m_do_run\u001b[0;34m(self, handle, target_list, fetch_list, feed_dict, options, run_metadata)\u001b[0m\n\u001b[1;32m   1012\u001b[0m     \u001b[0;32mif\u001b[0m \u001b[0mhandle\u001b[0m \u001b[0;32mis\u001b[0m \u001b[0mNone\u001b[0m\u001b[0;34m:\u001b[0m\u001b[0;34m\u001b[0m\u001b[0m\n\u001b[1;32m   1013\u001b[0m       return self._do_call(_run_fn, self._session, feed_dict, fetch_list,\n\u001b[0;32m-> 1014\u001b[0;31m                            target_list, options, run_metadata)\n\u001b[0m\u001b[1;32m   1015\u001b[0m     \u001b[0;32melse\u001b[0m\u001b[0;34m:\u001b[0m\u001b[0;34m\u001b[0m\u001b[0m\n\u001b[1;32m   1016\u001b[0m       return self._do_call(_prun_fn, self._session, handle, feed_dict,\n",
      "\u001b[0;32m/root/anaconda2/lib/python2.7/site-packages/tensorflow/python/client/session.pyc\u001b[0m in \u001b[0;36m_do_call\u001b[0;34m(self, fn, *args)\u001b[0m\n\u001b[1;32m   1019\u001b[0m   \u001b[0;32mdef\u001b[0m \u001b[0m_do_call\u001b[0m\u001b[0;34m(\u001b[0m\u001b[0mself\u001b[0m\u001b[0;34m,\u001b[0m \u001b[0mfn\u001b[0m\u001b[0;34m,\u001b[0m \u001b[0;34m*\u001b[0m\u001b[0margs\u001b[0m\u001b[0;34m)\u001b[0m\u001b[0;34m:\u001b[0m\u001b[0;34m\u001b[0m\u001b[0m\n\u001b[1;32m   1020\u001b[0m     \u001b[0;32mtry\u001b[0m\u001b[0;34m:\u001b[0m\u001b[0;34m\u001b[0m\u001b[0m\n\u001b[0;32m-> 1021\u001b[0;31m       \u001b[0;32mreturn\u001b[0m \u001b[0mfn\u001b[0m\u001b[0;34m(\u001b[0m\u001b[0;34m*\u001b[0m\u001b[0margs\u001b[0m\u001b[0;34m)\u001b[0m\u001b[0;34m\u001b[0m\u001b[0m\n\u001b[0m\u001b[1;32m   1022\u001b[0m     \u001b[0;32mexcept\u001b[0m \u001b[0merrors\u001b[0m\u001b[0;34m.\u001b[0m\u001b[0mOpError\u001b[0m \u001b[0;32mas\u001b[0m \u001b[0me\u001b[0m\u001b[0;34m:\u001b[0m\u001b[0;34m\u001b[0m\u001b[0m\n\u001b[1;32m   1023\u001b[0m       \u001b[0mmessage\u001b[0m \u001b[0;34m=\u001b[0m \u001b[0mcompat\u001b[0m\u001b[0;34m.\u001b[0m\u001b[0mas_text\u001b[0m\u001b[0;34m(\u001b[0m\u001b[0me\u001b[0m\u001b[0;34m.\u001b[0m\u001b[0mmessage\u001b[0m\u001b[0;34m)\u001b[0m\u001b[0;34m\u001b[0m\u001b[0m\n",
      "\u001b[0;32m/root/anaconda2/lib/python2.7/site-packages/tensorflow/python/client/session.pyc\u001b[0m in \u001b[0;36m_run_fn\u001b[0;34m(session, feed_dict, fetch_list, target_list, options, run_metadata)\u001b[0m\n\u001b[1;32m   1001\u001b[0m         return tf_session.TF_Run(session, options,\n\u001b[1;32m   1002\u001b[0m                                  \u001b[0mfeed_dict\u001b[0m\u001b[0;34m,\u001b[0m \u001b[0mfetch_list\u001b[0m\u001b[0;34m,\u001b[0m \u001b[0mtarget_list\u001b[0m\u001b[0;34m,\u001b[0m\u001b[0;34m\u001b[0m\u001b[0m\n\u001b[0;32m-> 1003\u001b[0;31m                                  status, run_metadata)\n\u001b[0m\u001b[1;32m   1004\u001b[0m \u001b[0;34m\u001b[0m\u001b[0m\n\u001b[1;32m   1005\u001b[0m     \u001b[0;32mdef\u001b[0m \u001b[0m_prun_fn\u001b[0m\u001b[0;34m(\u001b[0m\u001b[0msession\u001b[0m\u001b[0;34m,\u001b[0m \u001b[0mhandle\u001b[0m\u001b[0;34m,\u001b[0m \u001b[0mfeed_dict\u001b[0m\u001b[0;34m,\u001b[0m \u001b[0mfetch_list\u001b[0m\u001b[0;34m)\u001b[0m\u001b[0;34m:\u001b[0m\u001b[0;34m\u001b[0m\u001b[0m\n",
      "\u001b[0;31mKeyboardInterrupt\u001b[0m: "
     ]
    }
   ],
   "source": [
    "learning_rate = 0.1\n",
    "training_epochs = 200\n",
    "batch_size = 200\n",
    "display_step = 1\n",
    "batch = tf.Variable(0, trainable=False)\n",
    "learning_rate_op = tf.train.exponential_decay(\n",
    "    0.02 * 0.01,  # Base learning rate.\n",
    "    batch * batch_size,  # Current index into the dataset.\n",
    "    _train_feas.shape[0],  # Decay step.\n",
    "    0.96,  # Decay rate.\n",
    "    staircase=True)\n",
    "# tf Graph Input\n",
    "x = tf.placeholder(tf.float32, [None, 50])\n",
    "y = tf.placeholder(tf.float32, [None, 1])\n",
    "b = tf.Variable(tf.zeros([1]))\n",
    "W = tf.Variable(tf.zeros([50, 1]))\n",
    "pred_op = tf.nn.sigmoid(tf.matmul(x, W) + b)\n",
    "if onehot_option is 1:\n",
    "    y = tf.placeholder(tf.float32, [None, 2])\n",
    "    b = tf.Variable(tf.zeros([2]))\n",
    "    W = tf.Variable(tf.zeros([50, 2]))\n",
    "    pred_op = tf.nn.softmax(tf.matmul(x, W) + b)\n",
    "# cost_op=tf.reduce_mean(tf.reduce_sum(- y * tf.log(pred_op) - (1 - y) * tf.log(1 - pred_op), #                                      reduction_indices=[1])+ tf.nn.l2_loss(W)+tf.nn.l2_loss(b))\n",
    "cost_op = tf.reduce_mean(\n",
    "    tf.reduce_sum(-y * tf.log(pred_op), reduction_indices=[1]) + tf.nn.l2_loss(\n",
    "        W) + tf.nn.l2_loss(b))\n",
    "#cost_op = tf.reduce_mean(tf.reduce_sum(-y*tf.log(pred_op), 1))+ 0.01*tf.nn.l2_loss(W) + 0.01*tf.nn.l2_loss(b) \n",
    "#cost_op = tf.reduce_mean(tf.nn.sigmoid_cross_entropy_with_logits(y,pred_op))+ 0.01*tf.nn.l2_loss(W) + 0.01*tf.nn.l2_loss(b)\n",
    "optimizer_op = tf.train.GradientDescentOptimizer(learning_rate).minimize(\n",
    "    cost_op)\n",
    "# optimizer_op = tf.train.AdamOptimizer(learning_rate).minimize(cost_op)#,global_step=batch)\n",
    "init_op = tf.global_variables_initializer()\n",
    "# Launch the graph\n",
    "result = []\n",
    "with tf.Session() as sess:\n",
    "    sds = SimpleDataSet(_train_feas, _train_onehot_label, batch_size)\n",
    "    total_batch = sds.total_batch()\n",
    "    sess.run(init_op)\n",
    "    # Training cycle\n",
    "    for epoch in range(training_epochs):\n",
    "        sds.new_epoch()\n",
    "        avg_cost = 0.\n",
    "        # Loop over all batches\n",
    "        for i in range(total_batch):\n",
    "            X, Y = sds.next_batch()\n",
    "            _, c = sess.run([optimizer_op, cost_op], feed_dict={x: X, y: Y})\n",
    "            avg_cost += c / total_batch\n",
    "#         _, c = sess.run([optimizer_op, cost_op], feed_dict={x: _train_feas,\n",
    "#                                                                   y: _train_onehot_label})\n",
    "        correct_prediction_op = tf.equal(\n",
    "            tf.argmax(pred_op, 1), tf.argmax(y, 1))\n",
    "        accuracy_op = tf.reduce_mean(\n",
    "            tf.cast(correct_prediction_op, tf.float32))\n",
    "        if (epoch + 1) % display_step == 0:\n",
    "            print \"Epoch:\", '%04d' % (epoch + 1), \"cost=\", \"{:.9f}\".format(\n",
    "                avg_cost), \"accuracy:\", accuracy_op.eval({\n",
    "                    x: _test_feas,\n",
    "                    y: _test_onehot_label\n",
    "                })\n",
    "        #start to gen tour data\n",
    "    result = pred_op.eval({x: _tour_feas})\n",
    "    print \"Finished!\"\n",
    "result"
   ]
  },
  {
   "cell_type": "code",
   "execution_count": null,
   "metadata": {
    "collapsed": false
   },
   "outputs": [],
   "source": [
    "results_df = pd.DataFrame(data={'t_id':_tid,'probability':result[:,1]})\n",
    "results_df.to_csv(\"../../nb/numerai1/predictions.csv\", index=False,columns=['t_id','probability'])\n"
   ]
  },
  {
   "cell_type": "code",
   "execution_count": null,
   "metadata": {
    "collapsed": true
   },
   "outputs": [],
   "source": []
  },
  {
   "cell_type": "raw",
   "metadata": {},
   "source": [
    "result"
   ]
  },
  {
   "cell_type": "code",
   "execution_count": null,
   "metadata": {
    "collapsed": false
   },
   "outputs": [],
   "source": [
    "train_tfrecords_fn=\"../../nb/numerai1/numerai/numerai_training_data.csv.tfrecords\"\n",
    "writer = tf.python_io.TFRecordWriter(train_tfrecords_fn)\n",
    "r=20\n",
    "for i in training_data.itertuples():\n",
    "    feas=[]\n",
    "    for idx in range(1,51):\n",
    "        feas.append((i[idx]))\n",
    "    label=i[51]\n",
    "    print feas,label\n",
    "    example = tf.train.Example(features=tf.train.Features(feature={\n",
    "        'label': tf.train.Feature(float_list=tf.train.FloatList(value=[label])),\n",
    "        'feas': tf.train.Feature(float_list=tf.train.FloatList(value=feas))\n",
    "    }))\n",
    "    writer.write(example.SerializeToString())   \n",
    "    r-=1\n",
    "    if r<=0:\n",
    "        break\n",
    "writer.close()"
   ]
  },
  {
   "cell_type": "code",
   "execution_count": null,
   "metadata": {
    "collapsed": false
   },
   "outputs": [],
   "source": [
    "#try to read\n",
    "r=2\n",
    "for serialized_example in tf.python_io.tf_record_iterator(train_tfrecords_fn):\n",
    "    example = tf.train.Example()\n",
    "    example.ParseFromString(serialized_example)\n",
    "    print example.features.feature['feas'].float_list.value\n",
    "    print example.features.feature['label'].float_list.value\n",
    "    r-=1\n",
    "    if r<=0:\n",
    "        break"
   ]
  },
  {
   "cell_type": "code",
   "execution_count": null,
   "metadata": {
    "collapsed": false
   },
   "outputs": [],
   "source": [
    "train_tfrecords_fn=\"./numerai/numerai_training_data.csv.tfrecords\"\n",
    "def read_and_decode(filename):\n",
    "    filename_queue = tf.train.string_input_producer([filename])\n",
    "    reader = tf.TFRecordReader()\n",
    "    _, serialized_example = reader.read(filename_queue) \n",
    "    features = tf.parse_single_example(serialized_example,\n",
    "                                       features={\n",
    "                                           'label': tf.FixedLenFeature([], tf.float32),\n",
    "                                           'feas' : tf.FixedLenFeature([], tf.float32),\n",
    "                                       })\n",
    "\n",
    "    feas=features['feas']\n",
    "    label = tf.cast(features['label'], tf.int32)\n",
    "    return feas, label\n",
    "feas,label=read_and_decode(train_tfrecords_fn)"
   ]
  },
  {
   "cell_type": "code",
   "execution_count": null,
   "metadata": {
    "collapsed": true
   },
   "outputs": [],
   "source": []
  },
  {
   "cell_type": "code",
   "execution_count": null,
   "metadata": {
    "collapsed": false
   },
   "outputs": [],
   "source": [
    "learning_rate = 0.01\n",
    "training_epochs = 25\n",
    "batch_size = 200\n",
    "display_step = 1\n",
    "\n",
    "feas_batch, label_batch = tf.train.batch([feas, label],\n",
    "                                                batch_size=batch_size, capacity=2000)\n",
    "                                                #min_after_dequeue=1000)\n",
    "total_batch=int(len(training_data.index)/batch_size)"
   ]
  },
  {
   "cell_type": "code",
   "execution_count": null,
   "metadata": {
    "collapsed": false
   },
   "outputs": [],
   "source": [
    "with tf.Session() as sess:\n",
    "    f,l=sess.run([feas_batch,label_batch])\n",
    "    print f,l"
   ]
  },
  {
   "cell_type": "code",
   "execution_count": null,
   "metadata": {
    "collapsed": true
   },
   "outputs": [],
   "source": [
    "# tf Graph Input\n",
    "x = tf.placeholder(tf.float32, [None, 50]) #50feas\n",
    "y = tf.placeholder(tf.float32, [None, 1]) #0-1\n",
    "\n",
    "W = tf.Variable(tf.zeros([50, 1]))\n",
    "b = tf.Variable(tf.zeros([1]))\n",
    "\n",
    "pred = tf.nn.sigmoid(tf.matmul(x, W) + b) # sigmoid\n",
    "cost = tf.reduce_mean(-tf.reduce_sum(y*tf.log(pred), reduction_indices=1))\n",
    "# cost = tf.nn.l2_loss(pred-y,name=\"squared_error_cost\")\n",
    "optimizer = tf.train.GradientDescentOptimizer(learning_rate).minimize(cost)"
   ]
  },
  {
   "cell_type": "code",
   "execution_count": null,
   "metadata": {
    "collapsed": true
   },
   "outputs": [],
   "source": []
  },
  {
   "cell_type": "code",
   "execution_count": null,
   "metadata": {
    "collapsed": false
   },
   "outputs": [],
   "source": [
    "\n",
    "init = tf.global_variables_initializer()\n",
    "\n",
    "# Launch the graph\n",
    "with tf.Session() as sess:\n",
    "    sess.run(init)\n",
    "    # Training cycle\n",
    "    for epoch in range(training_epochs):\n",
    "        print \"epoch:\",epoch\n",
    "        avg_cost = 0.\n",
    "        # Loop over all batches\n",
    "        for i in range(total_batch):\n",
    "            print \"loop:\",i\n",
    "            _, c = sess.run([optimizer, cost], feed_dict={x: feas_batch.eval(),\n",
    "                                                          y: label_batch.eval()})\n",
    "            # Compute average loss\n",
    "            avg_cost += c / total_batch\n",
    "            print \"avg_cost:\",avg_cost\n",
    "        # Display logs per epoch step\n",
    "        if (epoch+1) % display_step == 0:\n",
    "            print \"Epoch:\", '%04d' % (epoch+1), \"cost=\", \"{:.9f}\".format(avg_cost)\n",
    "\n",
    "    print \"Optimization Finished!\"\n",
    "\n",
    "    # Test model\n",
    "    correct_prediction = tf.equal(tf.argmax(pred, 1), tf.argmax(y, 1))\n",
    "    # Calculate accuracy\n",
    "    accuracy = tf.reduce_mean(tf.cast(correct_prediction, tf.float32))\n",
    "# print(\"Accuracy:\", accuracy.eval({x: mnist.test.images, y: mnist.test.labels}))\n"
   ]
  },
  {
   "cell_type": "code",
   "execution_count": null,
   "metadata": {
    "collapsed": false
   },
   "outputs": [],
   "source": [
    "# Set seed for reproducibility\n",
    "np.random.seed(0)\n",
    "\n",
    "print(\"Loading data...\")\n",
    "# Load the data from the CSV files\n",
    "training_data = pd.read_csv('./numerai/numerai_training_data.csv', header=0)\n",
    "prediction_data = pd.read_csv('./numerai/numerai_tournament_data.csv', header=0)\n",
    "\n",
    "# Transform the loaded CSV data into numpy arrays\n",
    "Y = training_data['target']\n",
    "X = training_data.drop('target', axis=1)\n",
    "t_id = prediction_data['t_id']\n",
    "x_prediction = prediction_data.drop('t_id', axis=1)\n",
    "\n",
    "# This is your model that will learn to predict\n",
    "model = linear_model.LogisticRegression(n_jobs=-1)\n",
    "\n",
    "print(\"Training...\")\n",
    "# Your model is trained on the numerai_training_data\n",
    "model.fit(X, Y)\n",
    "\n",
    "print(\"Predicting...\")\n",
    "# Your trained model is now used to make predictions on the numerai_tournament_data\n",
    "# The model returns two columns: [probability of 0, probability of 1]\n",
    "# We are just interested in the probability that the target is 1.\n",
    "y_prediction = model.predict_proba(x_prediction)\n",
    "results = y_prediction[:, 1]\n",
    "results_df = pd.DataFrame(data={'probability':results})\n",
    "joined = pd.DataFrame(t_id).join(results_df)\n",
    "\n",
    "print(\"Writing predictions to predictions.csv\")\n",
    "# Save the predictions out to a CSV file\n",
    "joined.to_csv(\"predictions.csv\", index=False)\n",
    "# Now you can upload these predictions on numer.ai"
   ]
  }
 ],
 "metadata": {
  "anaconda-cloud": {},
  "kernelspec": {
   "display_name": "Python 2",
   "language": "python",
   "name": "python2"
  },
  "language_info": {
   "codemirror_mode": {
    "name": "ipython",
    "version": 2
   },
   "file_extension": ".py",
   "mimetype": "text/x-python",
   "name": "python",
   "nbconvert_exporter": "python",
   "pygments_lexer": "ipython2",
   "version": "2.7.12"
  }
 },
 "nbformat": 4,
 "nbformat_minor": 1
}
