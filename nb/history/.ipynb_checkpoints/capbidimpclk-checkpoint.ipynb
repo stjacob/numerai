{
 "cells": [
  {
   "cell_type": "code",
   "execution_count": 100,
   "metadata": {
    "collapsed": false,
    "scrolled": false
   },
   "outputs": [
    {
     "name": "stdout",
     "output_type": "stream",
     "text": [
      "Populating the interactive namespace from numpy and matplotlib\n",
      "Populating the interactive namespace from numpy and matplotlib\n"
     ]
    },
    {
     "data": {
      "text/html": [
       "<div>\n",
       "<table border=\"1\" class=\"dataframe\">\n",
       "  <thead>\n",
       "    <tr style=\"text-align: right;\">\n",
       "      <th></th>\n",
       "      <th>hour</th>\n",
       "      <th>cap</th>\n",
       "      <th>bid</th>\n",
       "      <th>imp</th>\n",
       "      <th>clk</th>\n",
       "      <th>partR</th>\n",
       "      <th>winR</th>\n",
       "      <th>clkR</th>\n",
       "      <th>204</th>\n",
       "      <th>205</th>\n",
       "      <th>206</th>\n",
       "      <th>allR</th>\n",
       "      <th>budgetR</th>\n",
       "      <th>slowR</th>\n",
       "      <th>smoothR</th>\n",
       "    </tr>\n",
       "  </thead>\n",
       "  <tbody>\n",
       "    <tr>\n",
       "      <th>0</th>\n",
       "      <td>0</td>\n",
       "      <td>83259620</td>\n",
       "      <td>22439863</td>\n",
       "      <td>2101394</td>\n",
       "      <td>7375</td>\n",
       "      <td>0.269517</td>\n",
       "      <td>0.093646</td>\n",
       "      <td>0.350958</td>\n",
       "      <td>496293.0</td>\n",
       "      <td>33814001.0</td>\n",
       "      <td>65559710.0</td>\n",
       "      <td>0.599751</td>\n",
       "      <td>0.002980</td>\n",
       "      <td>0.203064</td>\n",
       "      <td>0.393707</td>\n",
       "    </tr>\n",
       "    <tr>\n",
       "      <th>1</th>\n",
       "      <td>1</td>\n",
       "      <td>45159817</td>\n",
       "      <td>4767020</td>\n",
       "      <td>796048</td>\n",
       "      <td>2630</td>\n",
       "      <td>0.105559</td>\n",
       "      <td>0.166991</td>\n",
       "      <td>0.330382</td>\n",
       "      <td>NaN</td>\n",
       "      <td>12109560.0</td>\n",
       "      <td>33220265.0</td>\n",
       "      <td>NaN</td>\n",
       "      <td>NaN</td>\n",
       "      <td>0.134075</td>\n",
       "      <td>0.367808</td>\n",
       "    </tr>\n",
       "    <tr>\n",
       "      <th>2</th>\n",
       "      <td>2</td>\n",
       "      <td>18233796</td>\n",
       "      <td>1990752</td>\n",
       "      <td>417753</td>\n",
       "      <td>1541</td>\n",
       "      <td>0.109179</td>\n",
       "      <td>0.209847</td>\n",
       "      <td>0.368878</td>\n",
       "      <td>26016.0</td>\n",
       "      <td>3806111.0</td>\n",
       "      <td>11864742.0</td>\n",
       "      <td>0.430433</td>\n",
       "      <td>0.000713</td>\n",
       "      <td>0.104370</td>\n",
       "      <td>0.325350</td>\n",
       "    </tr>\n",
       "    <tr>\n",
       "      <th>3</th>\n",
       "      <td>3</td>\n",
       "      <td>13127638</td>\n",
       "      <td>1554873</td>\n",
       "      <td>318672</td>\n",
       "      <td>1236</td>\n",
       "      <td>0.118443</td>\n",
       "      <td>0.204951</td>\n",
       "      <td>0.387860</td>\n",
       "      <td>33330.0</td>\n",
       "      <td>3780239.0</td>\n",
       "      <td>7605910.0</td>\n",
       "      <td>0.434940</td>\n",
       "      <td>0.001269</td>\n",
       "      <td>0.143980</td>\n",
       "      <td>0.289691</td>\n",
       "    </tr>\n",
       "    <tr>\n",
       "      <th>4</th>\n",
       "      <td>4</td>\n",
       "      <td>11429782</td>\n",
       "      <td>1519879</td>\n",
       "      <td>282573</td>\n",
       "      <td>1132</td>\n",
       "      <td>0.132975</td>\n",
       "      <td>0.185918</td>\n",
       "      <td>0.400604</td>\n",
       "      <td>28136.0</td>\n",
       "      <td>4482919.0</td>\n",
       "      <td>5603413.0</td>\n",
       "      <td>0.442461</td>\n",
       "      <td>0.001231</td>\n",
       "      <td>0.196107</td>\n",
       "      <td>0.245123</td>\n",
       "    </tr>\n",
       "    <tr>\n",
       "      <th>5</th>\n",
       "      <td>5</td>\n",
       "      <td>13661574</td>\n",
       "      <td>1882194</td>\n",
       "      <td>337389</td>\n",
       "      <td>1803</td>\n",
       "      <td>0.137773</td>\n",
       "      <td>0.179253</td>\n",
       "      <td>0.534398</td>\n",
       "      <td>38222.0</td>\n",
       "      <td>5546378.0</td>\n",
       "      <td>6363273.0</td>\n",
       "      <td>0.437280</td>\n",
       "      <td>0.001399</td>\n",
       "      <td>0.202992</td>\n",
       "      <td>0.232889</td>\n",
       "    </tr>\n",
       "    <tr>\n",
       "      <th>6</th>\n",
       "      <td>6</td>\n",
       "      <td>29648352</td>\n",
       "      <td>6558976</td>\n",
       "      <td>887617</td>\n",
       "      <td>3588</td>\n",
       "      <td>0.221226</td>\n",
       "      <td>0.135329</td>\n",
       "      <td>0.404228</td>\n",
       "      <td>204154.0</td>\n",
       "      <td>13841944.0</td>\n",
       "      <td>18419668.0</td>\n",
       "      <td>0.547514</td>\n",
       "      <td>0.003443</td>\n",
       "      <td>0.233435</td>\n",
       "      <td>0.310636</td>\n",
       "    </tr>\n",
       "    <tr>\n",
       "      <th>7</th>\n",
       "      <td>7</td>\n",
       "      <td>76416238</td>\n",
       "      <td>20666032</td>\n",
       "      <td>2158937</td>\n",
       "      <td>8703</td>\n",
       "      <td>0.270440</td>\n",
       "      <td>0.104468</td>\n",
       "      <td>0.403115</td>\n",
       "      <td>279347.0</td>\n",
       "      <td>28039718.0</td>\n",
       "      <td>43114720.0</td>\n",
       "      <td>0.467399</td>\n",
       "      <td>0.001828</td>\n",
       "      <td>0.183467</td>\n",
       "      <td>0.282104</td>\n",
       "    </tr>\n",
       "    <tr>\n",
       "      <th>8</th>\n",
       "      <td>8</td>\n",
       "      <td>178738438</td>\n",
       "      <td>67684461</td>\n",
       "      <td>6087488</td>\n",
       "      <td>15253</td>\n",
       "      <td>0.378679</td>\n",
       "      <td>0.089939</td>\n",
       "      <td>0.250563</td>\n",
       "      <td>1166127.0</td>\n",
       "      <td>89818818.0</td>\n",
       "      <td>124262080.0</td>\n",
       "      <td>0.602129</td>\n",
       "      <td>0.003262</td>\n",
       "      <td>0.251258</td>\n",
       "      <td>0.347609</td>\n",
       "    </tr>\n",
       "    <tr>\n",
       "      <th>9</th>\n",
       "      <td>9</td>\n",
       "      <td>244925890</td>\n",
       "      <td>86957697</td>\n",
       "      <td>7953857</td>\n",
       "      <td>19568</td>\n",
       "      <td>0.355037</td>\n",
       "      <td>0.091468</td>\n",
       "      <td>0.246019</td>\n",
       "      <td>4884724.0</td>\n",
       "      <td>131384721.0</td>\n",
       "      <td>189130051.0</td>\n",
       "      <td>0.664282</td>\n",
       "      <td>0.009972</td>\n",
       "      <td>0.268213</td>\n",
       "      <td>0.386096</td>\n",
       "    </tr>\n",
       "    <tr>\n",
       "      <th>10</th>\n",
       "      <td>10</td>\n",
       "      <td>251494593</td>\n",
       "      <td>84169971</td>\n",
       "      <td>7823809</td>\n",
       "      <td>19653</td>\n",
       "      <td>0.334679</td>\n",
       "      <td>0.092952</td>\n",
       "      <td>0.251195</td>\n",
       "      <td>6150853.0</td>\n",
       "      <td>130845404.0</td>\n",
       "      <td>200163251.0</td>\n",
       "      <td>0.670312</td>\n",
       "      <td>0.012229</td>\n",
       "      <td>0.260136</td>\n",
       "      <td>0.397947</td>\n",
       "    </tr>\n",
       "    <tr>\n",
       "      <th>11</th>\n",
       "      <td>11</td>\n",
       "      <td>249262911</td>\n",
       "      <td>76292106</td>\n",
       "      <td>7295924</td>\n",
       "      <td>17439</td>\n",
       "      <td>0.306071</td>\n",
       "      <td>0.095631</td>\n",
       "      <td>0.239024</td>\n",
       "      <td>10365426.0</td>\n",
       "      <td>134353197.0</td>\n",
       "      <td>190038724.0</td>\n",
       "      <td>0.671494</td>\n",
       "      <td>0.020792</td>\n",
       "      <td>0.269501</td>\n",
       "      <td>0.381201</td>\n",
       "    </tr>\n",
       "    <tr>\n",
       "      <th>12</th>\n",
       "      <td>12</td>\n",
       "      <td>242004621</td>\n",
       "      <td>62617403</td>\n",
       "      <td>7124931</td>\n",
       "      <td>18103</td>\n",
       "      <td>0.258745</td>\n",
       "      <td>0.113785</td>\n",
       "      <td>0.254080</td>\n",
       "      <td>16262847.0</td>\n",
       "      <td>121358281.0</td>\n",
       "      <td>188671059.0</td>\n",
       "      <td>0.674145</td>\n",
       "      <td>0.033600</td>\n",
       "      <td>0.250735</td>\n",
       "      <td>0.389809</td>\n",
       "    </tr>\n",
       "    <tr>\n",
       "      <th>13</th>\n",
       "      <td>13</td>\n",
       "      <td>253437429</td>\n",
       "      <td>63495372</td>\n",
       "      <td>7045266</td>\n",
       "      <td>15061</td>\n",
       "      <td>0.250537</td>\n",
       "      <td>0.110957</td>\n",
       "      <td>0.213775</td>\n",
       "      <td>16734323.0</td>\n",
       "      <td>124297422.0</td>\n",
       "      <td>209119153.0</td>\n",
       "      <td>0.690803</td>\n",
       "      <td>0.033015</td>\n",
       "      <td>0.245223</td>\n",
       "      <td>0.412566</td>\n",
       "    </tr>\n",
       "    <tr>\n",
       "      <th>14</th>\n",
       "      <td>14</td>\n",
       "      <td>263277657</td>\n",
       "      <td>75028643</td>\n",
       "      <td>9871881</td>\n",
       "      <td>19486</td>\n",
       "      <td>0.284979</td>\n",
       "      <td>0.131575</td>\n",
       "      <td>0.197389</td>\n",
       "      <td>64690254.0</td>\n",
       "      <td>144241926.0</td>\n",
       "      <td>188769184.0</td>\n",
       "      <td>0.755289</td>\n",
       "      <td>0.122856</td>\n",
       "      <td>0.273935</td>\n",
       "      <td>0.358498</td>\n",
       "    </tr>\n",
       "    <tr>\n",
       "      <th>15</th>\n",
       "      <td>15</td>\n",
       "      <td>287177800</td>\n",
       "      <td>72180701</td>\n",
       "      <td>8251616</td>\n",
       "      <td>18034</td>\n",
       "      <td>0.251345</td>\n",
       "      <td>0.114319</td>\n",
       "      <td>0.218551</td>\n",
       "      <td>128469281.0</td>\n",
       "      <td>145731027.0</td>\n",
       "      <td>194961468.0</td>\n",
       "      <td>0.816849</td>\n",
       "      <td>0.223676</td>\n",
       "      <td>0.253730</td>\n",
       "      <td>0.339444</td>\n",
       "    </tr>\n",
       "    <tr>\n",
       "      <th>16</th>\n",
       "      <td>16</td>\n",
       "      <td>284951335</td>\n",
       "      <td>71098831</td>\n",
       "      <td>8497272</td>\n",
       "      <td>18431</td>\n",
       "      <td>0.249512</td>\n",
       "      <td>0.119514</td>\n",
       "      <td>0.216905</td>\n",
       "      <td>61357687.0</td>\n",
       "      <td>144063295.0</td>\n",
       "      <td>216679094.0</td>\n",
       "      <td>0.740653</td>\n",
       "      <td>0.107663</td>\n",
       "      <td>0.252786</td>\n",
       "      <td>0.380204</td>\n",
       "    </tr>\n",
       "    <tr>\n",
       "      <th>17</th>\n",
       "      <td>17</td>\n",
       "      <td>264634345</td>\n",
       "      <td>70438404</td>\n",
       "      <td>9867429</td>\n",
       "      <td>20396</td>\n",
       "      <td>0.266173</td>\n",
       "      <td>0.140086</td>\n",
       "      <td>0.206700</td>\n",
       "      <td>24373691.0</td>\n",
       "      <td>143873070.0</td>\n",
       "      <td>210792740.0</td>\n",
       "      <td>0.716157</td>\n",
       "      <td>0.046052</td>\n",
       "      <td>0.271834</td>\n",
       "      <td>0.398272</td>\n",
       "    </tr>\n",
       "    <tr>\n",
       "      <th>18</th>\n",
       "      <td>18</td>\n",
       "      <td>218913881</td>\n",
       "      <td>57371047</td>\n",
       "      <td>8763225</td>\n",
       "      <td>20880</td>\n",
       "      <td>0.262071</td>\n",
       "      <td>0.152746</td>\n",
       "      <td>0.238268</td>\n",
       "      <td>24990125.0</td>\n",
       "      <td>121875990.0</td>\n",
       "      <td>179299253.0</td>\n",
       "      <td>0.744963</td>\n",
       "      <td>0.057078</td>\n",
       "      <td>0.278365</td>\n",
       "      <td>0.409520</td>\n",
       "    </tr>\n",
       "    <tr>\n",
       "      <th>19</th>\n",
       "      <td>19</td>\n",
       "      <td>213683205</td>\n",
       "      <td>48143020</td>\n",
       "      <td>7532800</td>\n",
       "      <td>16325</td>\n",
       "      <td>0.225301</td>\n",
       "      <td>0.156467</td>\n",
       "      <td>0.216719</td>\n",
       "      <td>24899881.0</td>\n",
       "      <td>118116002.0</td>\n",
       "      <td>178251287.0</td>\n",
       "      <td>0.751737</td>\n",
       "      <td>0.058264</td>\n",
       "      <td>0.276381</td>\n",
       "      <td>0.417092</td>\n",
       "    </tr>\n",
       "    <tr>\n",
       "      <th>20</th>\n",
       "      <td>20</td>\n",
       "      <td>235682425</td>\n",
       "      <td>49865216</td>\n",
       "      <td>7709363</td>\n",
       "      <td>19392</td>\n",
       "      <td>0.211578</td>\n",
       "      <td>0.154604</td>\n",
       "      <td>0.251538</td>\n",
       "      <td>44344245.0</td>\n",
       "      <td>134912262.0</td>\n",
       "      <td>197055983.0</td>\n",
       "      <td>0.798347</td>\n",
       "      <td>0.094076</td>\n",
       "      <td>0.286216</td>\n",
       "      <td>0.418054</td>\n",
       "    </tr>\n",
       "    <tr>\n",
       "      <th>21</th>\n",
       "      <td>21</td>\n",
       "      <td>243642943</td>\n",
       "      <td>48821736</td>\n",
       "      <td>8016448</td>\n",
       "      <td>19881</td>\n",
       "      <td>0.200382</td>\n",
       "      <td>0.164198</td>\n",
       "      <td>0.248003</td>\n",
       "      <td>50408597.0</td>\n",
       "      <td>139379360.0</td>\n",
       "      <td>203533025.0</td>\n",
       "      <td>0.807167</td>\n",
       "      <td>0.103448</td>\n",
       "      <td>0.286032</td>\n",
       "      <td>0.417687</td>\n",
       "    </tr>\n",
       "    <tr>\n",
       "      <th>22</th>\n",
       "      <td>22</td>\n",
       "      <td>216443513</td>\n",
       "      <td>42270671</td>\n",
       "      <td>7719935</td>\n",
       "      <td>17798</td>\n",
       "      <td>0.195297</td>\n",
       "      <td>0.182631</td>\n",
       "      <td>0.230546</td>\n",
       "      <td>47890252.0</td>\n",
       "      <td>121571495.0</td>\n",
       "      <td>176566435.0</td>\n",
       "      <td>0.799350</td>\n",
       "      <td>0.110630</td>\n",
       "      <td>0.280839</td>\n",
       "      <td>0.407881</td>\n",
       "    </tr>\n",
       "    <tr>\n",
       "      <th>23</th>\n",
       "      <td>23</td>\n",
       "      <td>162491136</td>\n",
       "      <td>30455131</td>\n",
       "      <td>6578308</td>\n",
       "      <td>13831</td>\n",
       "      <td>0.187426</td>\n",
       "      <td>0.216000</td>\n",
       "      <td>0.210252</td>\n",
       "      <td>58892544.0</td>\n",
       "      <td>93249252.0</td>\n",
       "      <td>113420519.0</td>\n",
       "      <td>0.817159</td>\n",
       "      <td>0.181218</td>\n",
       "      <td>0.286936</td>\n",
       "      <td>0.349005</td>\n",
       "    </tr>\n",
       "  </tbody>\n",
       "</table>\n",
       "</div>"
      ],
      "text/plain": [
       "    hour        cap       bid      imp    clk     partR      winR      clkR  \\\n",
       "0      0   83259620  22439863  2101394   7375  0.269517  0.093646  0.350958   \n",
       "1      1   45159817   4767020   796048   2630  0.105559  0.166991  0.330382   \n",
       "2      2   18233796   1990752   417753   1541  0.109179  0.209847  0.368878   \n",
       "3      3   13127638   1554873   318672   1236  0.118443  0.204951  0.387860   \n",
       "4      4   11429782   1519879   282573   1132  0.132975  0.185918  0.400604   \n",
       "5      5   13661574   1882194   337389   1803  0.137773  0.179253  0.534398   \n",
       "6      6   29648352   6558976   887617   3588  0.221226  0.135329  0.404228   \n",
       "7      7   76416238  20666032  2158937   8703  0.270440  0.104468  0.403115   \n",
       "8      8  178738438  67684461  6087488  15253  0.378679  0.089939  0.250563   \n",
       "9      9  244925890  86957697  7953857  19568  0.355037  0.091468  0.246019   \n",
       "10    10  251494593  84169971  7823809  19653  0.334679  0.092952  0.251195   \n",
       "11    11  249262911  76292106  7295924  17439  0.306071  0.095631  0.239024   \n",
       "12    12  242004621  62617403  7124931  18103  0.258745  0.113785  0.254080   \n",
       "13    13  253437429  63495372  7045266  15061  0.250537  0.110957  0.213775   \n",
       "14    14  263277657  75028643  9871881  19486  0.284979  0.131575  0.197389   \n",
       "15    15  287177800  72180701  8251616  18034  0.251345  0.114319  0.218551   \n",
       "16    16  284951335  71098831  8497272  18431  0.249512  0.119514  0.216905   \n",
       "17    17  264634345  70438404  9867429  20396  0.266173  0.140086  0.206700   \n",
       "18    18  218913881  57371047  8763225  20880  0.262071  0.152746  0.238268   \n",
       "19    19  213683205  48143020  7532800  16325  0.225301  0.156467  0.216719   \n",
       "20    20  235682425  49865216  7709363  19392  0.211578  0.154604  0.251538   \n",
       "21    21  243642943  48821736  8016448  19881  0.200382  0.164198  0.248003   \n",
       "22    22  216443513  42270671  7719935  17798  0.195297  0.182631  0.230546   \n",
       "23    23  162491136  30455131  6578308  13831  0.187426  0.216000  0.210252   \n",
       "\n",
       "            204          205          206      allR   budgetR     slowR  \\\n",
       "0      496293.0   33814001.0   65559710.0  0.599751  0.002980  0.203064   \n",
       "1           NaN   12109560.0   33220265.0       NaN       NaN  0.134075   \n",
       "2       26016.0    3806111.0   11864742.0  0.430433  0.000713  0.104370   \n",
       "3       33330.0    3780239.0    7605910.0  0.434940  0.001269  0.143980   \n",
       "4       28136.0    4482919.0    5603413.0  0.442461  0.001231  0.196107   \n",
       "5       38222.0    5546378.0    6363273.0  0.437280  0.001399  0.202992   \n",
       "6      204154.0   13841944.0   18419668.0  0.547514  0.003443  0.233435   \n",
       "7      279347.0   28039718.0   43114720.0  0.467399  0.001828  0.183467   \n",
       "8     1166127.0   89818818.0  124262080.0  0.602129  0.003262  0.251258   \n",
       "9     4884724.0  131384721.0  189130051.0  0.664282  0.009972  0.268213   \n",
       "10    6150853.0  130845404.0  200163251.0  0.670312  0.012229  0.260136   \n",
       "11   10365426.0  134353197.0  190038724.0  0.671494  0.020792  0.269501   \n",
       "12   16262847.0  121358281.0  188671059.0  0.674145  0.033600  0.250735   \n",
       "13   16734323.0  124297422.0  209119153.0  0.690803  0.033015  0.245223   \n",
       "14   64690254.0  144241926.0  188769184.0  0.755289  0.122856  0.273935   \n",
       "15  128469281.0  145731027.0  194961468.0  0.816849  0.223676  0.253730   \n",
       "16   61357687.0  144063295.0  216679094.0  0.740653  0.107663  0.252786   \n",
       "17   24373691.0  143873070.0  210792740.0  0.716157  0.046052  0.271834   \n",
       "18   24990125.0  121875990.0  179299253.0  0.744963  0.057078  0.278365   \n",
       "19   24899881.0  118116002.0  178251287.0  0.751737  0.058264  0.276381   \n",
       "20   44344245.0  134912262.0  197055983.0  0.798347  0.094076  0.286216   \n",
       "21   50408597.0  139379360.0  203533025.0  0.807167  0.103448  0.286032   \n",
       "22   47890252.0  121571495.0  176566435.0  0.799350  0.110630  0.280839   \n",
       "23   58892544.0   93249252.0  113420519.0  0.817159  0.181218  0.286936   \n",
       "\n",
       "     smoothR  \n",
       "0   0.393707  \n",
       "1   0.367808  \n",
       "2   0.325350  \n",
       "3   0.289691  \n",
       "4   0.245123  \n",
       "5   0.232889  \n",
       "6   0.310636  \n",
       "7   0.282104  \n",
       "8   0.347609  \n",
       "9   0.386096  \n",
       "10  0.397947  \n",
       "11  0.381201  \n",
       "12  0.389809  \n",
       "13  0.412566  \n",
       "14  0.358498  \n",
       "15  0.339444  \n",
       "16  0.380204  \n",
       "17  0.398272  \n",
       "18  0.409520  \n",
       "19  0.417092  \n",
       "20  0.418054  \n",
       "21  0.417687  \n",
       "22  0.407881  \n",
       "23  0.349005  "
      ]
     },
     "execution_count": 100,
     "metadata": {},
     "output_type": "execute_result"
    },
    {
     "data": {
      "image/png": "[encoded data removed]",
      "text/plain": [
       "<matplotlib.figure.Figure at 0x7f17b5490a50>"
      ]
     },
     "metadata": {},
     "output_type": "display_data"
    },
    {
     "data": {
      "image/png": "[encoded data removed]",
      "text/plain": [
       "<matplotlib.figure.Figure at 0x7f17b54904d0>"
      ]
     },
     "metadata": {},
     "output_type": "display_data"
    }
   ],
   "source": [
    "import pandas as pd\n",
    "import matplotlib.pyplot as plt\n",
    "import matplotlib.patches as mpatches\n",
    "from matplotlib.font_manager import FontProperties\n",
    "\n",
    "\n",
    "import matplotlib\n",
    "matplotlib.style.use('ggplot')\n",
    "#matplotlib.style.use('default')\n",
    "from numpy import *\n",
    "import numpy as np\n",
    "d=[]\n",
    "postfix='2016921'\n",
    "d.append(pd.read_table(\"./capturetime\"+postfix,sep='\\t',header=None,names=[\"hour\",\"cap\"]))\n",
    "d.append(pd.read_table(\"./bidtime\"+postfix,sep='\\t',header=None,names=[\"hour\",\"bid\"]))\n",
    "d.append(pd.read_table(\"./imptime\"+postfix,sep='\\t',header=None,names=[\"hour\",\"imp\"]))\n",
    "d.append(pd.read_table(\"./clktime\"+postfix,sep='\\t',header=None,names=[\"hour\",\"clk\"]))\n",
    "m=pd.merge(d[0],d[1],left_on='hour',right_on='hour')\n",
    "\n",
    "for i in d[2:]:\n",
    "    m=pd.merge(m,i,left_on='hour',right_on='hour')\n",
    "m['partR']=m['bid']/m['cap']\n",
    "m['winR']=m['imp']/m['bid']\n",
    "m['clkR']=m['clk']/m['imp']*100\n",
    "\n",
    "k=m[['partR','winR','clkR']]\n",
    "\n",
    "# %matplotlib inline\n",
    "# %pylab inline\n",
    "# # pylab.rcParams['figure.figsize'] = (3, 2)\n",
    "# k.plot()\n",
    "# am=pd.DataFrame()\n",
    "# am['cap']=m['cap']\n",
    "# am['bid']=m['bid']*2\n",
    "# am['imp']=m['imp']*20\n",
    "# am['clk']=m['clk']*1000\n",
    "# am.plot()\n",
    "m\n",
    "%matplotlib inline\n",
    "%pylab inline\n",
    "pylab.rcParams['figure.figsize'] = (8, 6)\n",
    "err=pd.read_table(\"./bankertime\"+postfix,sep='\\t',header=None,names=[\"hour\",\"err\",\"pv\"])\n",
    "err=err.pivot(\"hour\",\"err\",\"pv\")\n",
    "m=pd.merge(m,err,left_on='hour',right_index=True)\n",
    "m['allR']=(m[204]+m[205]+m[206])/m['cap']/2\n",
    "m['budgetR']=m[204]/m['cap']/2\n",
    "m['slowR']=m[205]/m['cap']/2\n",
    "m['smoothR']=m[206]/m['cap']/2\n",
    "m[['partR','allR','budgetR','slowR','smoothR']].plot(linewidth=5)\n",
    "m[['partR','winR','clkR']].plot(linewidth=5)\n"
   ]
  },
  {
   "cell_type": "code",
   "execution_count": null,
   "metadata": {
    "collapsed": true
   },
   "outputs": [],
   "source": []
  },
  {
   "cell_type": "code",
   "execution_count": null,
   "metadata": {
    "collapsed": true
   },
   "outputs": [],
   "source": []
  },
  {
   "cell_type": "code",
   "execution_count": null,
   "metadata": {
    "collapsed": true
   },
   "outputs": [],
   "source": []
  },
  {
   "cell_type": "code",
   "execution_count": null,
   "metadata": {
    "collapsed": true
   },
   "outputs": [],
   "source": []
  },
  {
   "cell_type": "code",
   "execution_count": null,
   "metadata": {
    "collapsed": true
   },
   "outputs": [],
   "source": []
  },
  {
   "cell_type": "code",
   "execution_count": null,
   "metadata": {
    "collapsed": true
   },
   "outputs": [],
   "source": []
  },
  {
   "cell_type": "code",
   "execution_count": null,
   "metadata": {
    "collapsed": true
   },
   "outputs": [],
   "source": []
  },
  {
   "cell_type": "code",
   "execution_count": null,
   "metadata": {
    "collapsed": true
   },
   "outputs": [],
   "source": []
  },
  {
   "cell_type": "code",
   "execution_count": null,
   "metadata": {
    "collapsed": true
   },
   "outputs": [],
   "source": []
  },
  {
   "cell_type": "code",
   "execution_count": null,
   "metadata": {
    "collapsed": true
   },
   "outputs": [],
   "source": []
  },
  {
   "cell_type": "code",
   "execution_count": null,
   "metadata": {
    "collapsed": true
   },
   "outputs": [],
   "source": []
  },
  {
   "cell_type": "code",
   "execution_count": null,
   "metadata": {
    "collapsed": true
   },
   "outputs": [],
   "source": []
  },
  {
   "cell_type": "code",
   "execution_count": null,
   "metadata": {
    "collapsed": true
   },
   "outputs": [],
   "source": []
  },
  {
   "cell_type": "code",
   "execution_count": null,
   "metadata": {
    "collapsed": true
   },
   "outputs": [],
   "source": []
  },
  {
   "cell_type": "code",
   "execution_count": null,
   "metadata": {
    "collapsed": true
   },
   "outputs": [],
   "source": []
  },
  {
   "cell_type": "code",
   "execution_count": null,
   "metadata": {
    "collapsed": true
   },
   "outputs": [],
   "source": []
  },
  {
   "cell_type": "code",
   "execution_count": null,
   "metadata": {
    "collapsed": true
   },
   "outputs": [],
   "source": []
  },
  {
   "cell_type": "code",
   "execution_count": null,
   "metadata": {
    "collapsed": true
   },
   "outputs": [],
   "source": []
  },
  {
   "cell_type": "code",
   "execution_count": null,
   "metadata": {
    "collapsed": true
   },
   "outputs": [],
   "source": []
  },
  {
   "cell_type": "code",
   "execution_count": null,
   "metadata": {
    "collapsed": true
   },
   "outputs": [],
   "source": []
  },
  {
   "cell_type": "code",
   "execution_count": null,
   "metadata": {
    "collapsed": true
   },
   "outputs": [],
   "source": []
  },
  {
   "cell_type": "code",
   "execution_count": null,
   "metadata": {
    "collapsed": true
   },
   "outputs": [],
   "source": []
  },
  {
   "cell_type": "code",
   "execution_count": null,
   "metadata": {
    "collapsed": true
   },
   "outputs": [],
   "source": []
  },
  {
   "cell_type": "code",
   "execution_count": null,
   "metadata": {
    "collapsed": true
   },
   "outputs": [],
   "source": []
  },
  {
   "cell_type": "code",
   "execution_count": null,
   "metadata": {
    "collapsed": true
   },
   "outputs": [],
   "source": []
  },
  {
   "cell_type": "code",
   "execution_count": null,
   "metadata": {
    "collapsed": true
   },
   "outputs": [],
   "source": []
  },
  {
   "cell_type": "code",
   "execution_count": null,
   "metadata": {
    "collapsed": true
   },
   "outputs": [],
   "source": []
  },
  {
   "cell_type": "code",
   "execution_count": null,
   "metadata": {
    "collapsed": true
   },
   "outputs": [],
   "source": []
  },
  {
   "cell_type": "code",
   "execution_count": null,
   "metadata": {
    "collapsed": true
   },
   "outputs": [],
   "source": []
  },
  {
   "cell_type": "code",
   "execution_count": null,
   "metadata": {
    "collapsed": true
   },
   "outputs": [],
   "source": []
  },
  {
   "cell_type": "code",
   "execution_count": null,
   "metadata": {
    "collapsed": true
   },
   "outputs": [],
   "source": []
  },
  {
   "cell_type": "code",
   "execution_count": null,
   "metadata": {
    "collapsed": true
   },
   "outputs": [],
   "source": []
  },
  {
   "cell_type": "code",
   "execution_count": null,
   "metadata": {
    "collapsed": true
   },
   "outputs": [],
   "source": []
  },
  {
   "cell_type": "code",
   "execution_count": null,
   "metadata": {
    "collapsed": true
   },
   "outputs": [],
   "source": []
  },
  {
   "cell_type": "code",
   "execution_count": null,
   "metadata": {
    "collapsed": true
   },
   "outputs": [],
   "source": []
  },
  {
   "cell_type": "code",
   "execution_count": null,
   "metadata": {
    "collapsed": true
   },
   "outputs": [],
   "source": []
  },
  {
   "cell_type": "code",
   "execution_count": null,
   "metadata": {
    "collapsed": true
   },
   "outputs": [],
   "source": []
  },
  {
   "cell_type": "code",
   "execution_count": null,
   "metadata": {
    "collapsed": true
   },
   "outputs": [],
   "source": []
  },
  {
   "cell_type": "code",
   "execution_count": null,
   "metadata": {
    "collapsed": true
   },
   "outputs": [],
   "source": []
  },
  {
   "cell_type": "code",
   "execution_count": null,
   "metadata": {
    "collapsed": true
   },
   "outputs": [],
   "source": []
  },
  {
   "cell_type": "code",
   "execution_count": null,
   "metadata": {
    "collapsed": true
   },
   "outputs": [],
   "source": []
  },
  {
   "cell_type": "code",
   "execution_count": null,
   "metadata": {
    "collapsed": true
   },
   "outputs": [],
   "source": []
  },
  {
   "cell_type": "code",
   "execution_count": null,
   "metadata": {
    "collapsed": true
   },
   "outputs": [],
   "source": []
  },
  {
   "cell_type": "code",
   "execution_count": null,
   "metadata": {
    "collapsed": true
   },
   "outputs": [],
   "source": []
  },
  {
   "cell_type": "code",
   "execution_count": null,
   "metadata": {
    "collapsed": true
   },
   "outputs": [],
   "source": []
  },
  {
   "cell_type": "code",
   "execution_count": null,
   "metadata": {
    "collapsed": true
   },
   "outputs": [],
   "source": []
  },
  {
   "cell_type": "code",
   "execution_count": null,
   "metadata": {
    "collapsed": true
   },
   "outputs": [],
   "source": []
  },
  {
   "cell_type": "code",
   "execution_count": null,
   "metadata": {
    "collapsed": true
   },
   "outputs": [],
   "source": []
  },
  {
   "cell_type": "code",
   "execution_count": null,
   "metadata": {
    "collapsed": true
   },
   "outputs": [],
   "source": []
  },
  {
   "cell_type": "code",
   "execution_count": null,
   "metadata": {
    "collapsed": true
   },
   "outputs": [],
   "source": []
  },
  {
   "cell_type": "code",
   "execution_count": null,
   "metadata": {
    "collapsed": true
   },
   "outputs": [],
   "source": []
  },
  {
   "cell_type": "code",
   "execution_count": null,
   "metadata": {
    "collapsed": true
   },
   "outputs": [],
   "source": []
  },
  {
   "cell_type": "code",
   "execution_count": null,
   "metadata": {
    "collapsed": true
   },
   "outputs": [],
   "source": []
  },
  {
   "cell_type": "code",
   "execution_count": null,
   "metadata": {
    "collapsed": true
   },
   "outputs": [],
   "source": []
  },
  {
   "cell_type": "code",
   "execution_count": null,
   "metadata": {
    "collapsed": true
   },
   "outputs": [],
   "source": []
  },
  {
   "cell_type": "code",
   "execution_count": null,
   "metadata": {
    "collapsed": true
   },
   "outputs": [],
   "source": []
  },
  {
   "cell_type": "code",
   "execution_count": null,
   "metadata": {
    "collapsed": true
   },
   "outputs": [],
   "source": []
  },
  {
   "cell_type": "code",
   "execution_count": null,
   "metadata": {
    "collapsed": true
   },
   "outputs": [],
   "source": []
  },
  {
   "cell_type": "code",
   "execution_count": null,
   "metadata": {
    "collapsed": true
   },
   "outputs": [],
   "source": []
  },
  {
   "cell_type": "code",
   "execution_count": null,
   "metadata": {
    "collapsed": true
   },
   "outputs": [],
   "source": []
  },
  {
   "cell_type": "code",
   "execution_count": null,
   "metadata": {
    "collapsed": true
   },
   "outputs": [],
   "source": []
  },
  {
   "cell_type": "code",
   "execution_count": null,
   "metadata": {
    "collapsed": true
   },
   "outputs": [],
   "source": []
  },
  {
   "cell_type": "code",
   "execution_count": null,
   "metadata": {
    "collapsed": true
   },
   "outputs": [],
   "source": []
  },
  {
   "cell_type": "code",
   "execution_count": null,
   "metadata": {
    "collapsed": true
   },
   "outputs": [],
   "source": []
  },
  {
   "cell_type": "code",
   "execution_count": null,
   "metadata": {
    "collapsed": true
   },
   "outputs": [],
   "source": []
  },
  {
   "cell_type": "code",
   "execution_count": null,
   "metadata": {
    "collapsed": true
   },
   "outputs": [],
   "source": []
  },
  {
   "cell_type": "code",
   "execution_count": null,
   "metadata": {
    "collapsed": true
   },
   "outputs": [],
   "source": []
  },
  {
   "cell_type": "code",
   "execution_count": null,
   "metadata": {
    "collapsed": true
   },
   "outputs": [],
   "source": []
  },
  {
   "cell_type": "code",
   "execution_count": null,
   "metadata": {
    "collapsed": true
   },
   "outputs": [],
   "source": []
  },
  {
   "cell_type": "code",
   "execution_count": null,
   "metadata": {
    "collapsed": true
   },
   "outputs": [],
   "source": []
  },
  {
   "cell_type": "code",
   "execution_count": null,
   "metadata": {
    "collapsed": true
   },
   "outputs": [],
   "source": []
  },
  {
   "cell_type": "code",
   "execution_count": null,
   "metadata": {
    "collapsed": true
   },
   "outputs": [],
   "source": []
  },
  {
   "cell_type": "code",
   "execution_count": null,
   "metadata": {
    "collapsed": true
   },
   "outputs": [],
   "source": []
  },
  {
   "cell_type": "code",
   "execution_count": null,
   "metadata": {
    "collapsed": true
   },
   "outputs": [],
   "source": []
  },
  {
   "cell_type": "code",
   "execution_count": null,
   "metadata": {
    "collapsed": true
   },
   "outputs": [],
   "source": []
  },
  {
   "cell_type": "code",
   "execution_count": null,
   "metadata": {
    "collapsed": true
   },
   "outputs": [],
   "source": []
  },
  {
   "cell_type": "code",
   "execution_count": null,
   "metadata": {
    "collapsed": true
   },
   "outputs": [],
   "source": []
  },
  {
   "cell_type": "code",
   "execution_count": null,
   "metadata": {
    "collapsed": true
   },
   "outputs": [],
   "source": []
  },
  {
   "cell_type": "code",
   "execution_count": null,
   "metadata": {
    "collapsed": true
   },
   "outputs": [],
   "source": []
  },
  {
   "cell_type": "code",
   "execution_count": null,
   "metadata": {
    "collapsed": true
   },
   "outputs": [],
   "source": []
  },
  {
   "cell_type": "code",
   "execution_count": null,
   "metadata": {
    "collapsed": true
   },
   "outputs": [],
   "source": []
  },
  {
   "cell_type": "code",
   "execution_count": null,
   "metadata": {
    "collapsed": true
   },
   "outputs": [],
   "source": []
  },
  {
   "cell_type": "code",
   "execution_count": null,
   "metadata": {
    "collapsed": true
   },
   "outputs": [],
   "source": []
  },
  {
   "cell_type": "code",
   "execution_count": null,
   "metadata": {
    "collapsed": true
   },
   "outputs": [],
   "source": []
  },
  {
   "cell_type": "code",
   "execution_count": null,
   "metadata": {
    "collapsed": true
   },
   "outputs": [],
   "source": []
  },
  {
   "cell_type": "code",
   "execution_count": null,
   "metadata": {
    "collapsed": true
   },
   "outputs": [],
   "source": []
  },
  {
   "cell_type": "code",
   "execution_count": null,
   "metadata": {
    "collapsed": true
   },
   "outputs": [],
   "source": []
  },
  {
   "cell_type": "code",
   "execution_count": null,
   "metadata": {
    "collapsed": true
   },
   "outputs": [],
   "source": []
  },
  {
   "cell_type": "code",
   "execution_count": null,
   "metadata": {
    "collapsed": true
   },
   "outputs": [],
   "source": []
  },
  {
   "cell_type": "code",
   "execution_count": null,
   "metadata": {
    "collapsed": true
   },
   "outputs": [],
   "source": []
  },
  {
   "cell_type": "code",
   "execution_count": null,
   "metadata": {
    "collapsed": true
   },
   "outputs": [],
   "source": []
  },
  {
   "cell_type": "code",
   "execution_count": null,
   "metadata": {
    "collapsed": true
   },
   "outputs": [],
   "source": []
  },
  {
   "cell_type": "code",
   "execution_count": null,
   "metadata": {
    "collapsed": true
   },
   "outputs": [],
   "source": []
  },
  {
   "cell_type": "code",
   "execution_count": null,
   "metadata": {
    "collapsed": true
   },
   "outputs": [],
   "source": []
  },
  {
   "cell_type": "code",
   "execution_count": null,
   "metadata": {
    "collapsed": true
   },
   "outputs": [],
   "source": []
  },
  {
   "cell_type": "code",
   "execution_count": null,
   "metadata": {
    "collapsed": true
   },
   "outputs": [],
   "source": []
  },
  {
   "cell_type": "code",
   "execution_count": null,
   "metadata": {
    "collapsed": true
   },
   "outputs": [],
   "source": []
  },
  {
   "cell_type": "code",
   "execution_count": null,
   "metadata": {
    "collapsed": true
   },
   "outputs": [],
   "source": []
  },
  {
   "cell_type": "code",
   "execution_count": null,
   "metadata": {
    "collapsed": true
   },
   "outputs": [],
   "source": []
  },
  {
   "cell_type": "code",
   "execution_count": null,
   "metadata": {
    "collapsed": true
   },
   "outputs": [],
   "source": []
  }
 ],
 "metadata": {
  "kernelspec": {
   "display_name": "Python 2",
   "language": "python",
   "name": "python2"
  },
  "language_info": {
   "codemirror_mode": {
    "name": "ipython",
    "version": 2
   },
   "file_extension": ".py",
   "mimetype": "text/x-python",
   "name": "python",
   "nbconvert_exporter": "python",
   "pygments_lexer": "ipython2",
   "version": "2.7.11"
  }
 },
 "nbformat": 4,
 "nbformat_minor": 0
}
