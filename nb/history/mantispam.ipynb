{
 "cells": [
  {
   "cell_type": "code",
   "execution_count": 1,
   "metadata": {
    "collapsed": false
   },
   "outputs": [
    {
     "name": "stdout",
     "output_type": "stream",
     "text": [
      "Populating the interactive namespace from numpy and matplotlib\n"
     ]
    }
   ],
   "source": [
    "import pandas as pd\n",
    "import matplotlib.pyplot as plt\n",
    "import matplotlib.patches as mpatches\n",
    "from matplotlib.font_manager import FontProperties\n",
    "\n",
    "# matplotlib.style.use('ggplot')\n",
    "import matplotlib\n",
    "# matplotlib.style.use('ggplot')\n",
    "#matplotlib.style.use('default')\n",
    "from numpy import *\n",
    "import numpy as np\n",
    "%matplotlib inline\n",
    "%pylab inline\n",
    "pylab.rcParams['figure.figsize'] = (8, 6)\n",
    "import subprocess,shlex,sys,select,re,StringIO\n",
    "def readHive(sql):\n",
    "    text = ''\n",
    "    err = ''\n",
    "    cmd = shlex.split('hive -e '+ '\"set mapreduce.job.queuename=zampda_job;set hive.cli.print.header=true;'+sql+'\"')\n",
    "    print >>sys.stderr, cmd\n",
    "    sys.stderr.flush()\n",
    "    proc = subprocess.Popen(cmd, bufsize=0, stdout=subprocess.PIPE, stderr=subprocess.PIPE)\n",
    "    while proc.poll() is None:\n",
    "        ins, outs, errs = select.select([proc.stdout, proc.stderr], [], [])\n",
    "        if proc.stdout in ins:\n",
    "            text += proc.stdout.read()\n",
    "        if proc.stderr in ins:\n",
    "            c = proc.stderr.read(1)\n",
    "            if c == '\\n':\n",
    "                print >>sys.stderr, err\n",
    "                sys.stderr.flush()\n",
    "                err = ''\n",
    "            else:\n",
    "                err += c\n",
    "    text += proc.stdout.read()\n",
    "    print >>sys.stderr, proc.stderr.read()\n",
    "    sys.stderr.flush()\n",
    "    header, content = text.split('\\n',1)\n",
    "    header = re.sub('\\w*\\.','', header)\n",
    "    return pd.read_table(StringIO.StringIO(header+'\\n'+content), error_bad_lines = False)\n",
    "\n",
    "def f(x):\n",
    "    x=str(x)\n",
    "    tmp=x.split(\"//\")\n",
    "    if len(tmp)<=1:\n",
    "        return x\n",
    "    return '.'.join(x.strip().split('//')[1].split('/')[0].split('.')[-2:])\n"
   ]
  },
  {
   "cell_type": "code",
   "execution_count": 2,
   "metadata": {
    "collapsed": false
   },
   "outputs": [
    {
     "name": "stderr",
     "output_type": "stream",
     "text": [
      "['hive', '-e', 'set mapreduce.job.queuename=zampda_job;set hive.cli.print.header=true;select vendor_id,adslot_id,count(1) from fraud_free.dclkv2 where year=2016 and month=10 and day=8 group by vendor_id, adslot_id']\n",
      "\n",
      "Logging initialized using configuration in file:/var/bh/lib/apache-hive-1.2.1-bin/conf/hive-log4j.properties\n",
      "Query ID = changbin_20161009174207_1c41053a-9d2b-437b-b872-c31aee803ec0\n",
      "Total jobs = 1\n",
      "Launching Job 1 out of 1\n",
      "Number of reduce tasks not specified. Estimated from input data size: 1\n",
      "In order to change the average load for a reducer (in bytes):\n",
      "  set hive.exec.reducers.bytes.per.reducer=<number>\n",
      "In order to limit the maximum number of reducers:\n",
      "  set hive.exec.reducers.max=<number>\n",
      "In order to set a constant number of reducers:\n",
      "  set mapreduce.job.reduces=<number>\n",
      "Starting Job = job_1471856463785_1077890, Tracking URL = http://TS-NN-001:50030/proxy/application_1471856463785_1077890/\n",
      "Kill Command = /var/bh/hadoop/bin/hadoop job  -kill job_1471856463785_1077890\n",
      "Hadoop job information for Stage-1: number of mappers: 235; number of reducers: 1\n",
      "2016-10-09 17:42:32,531 Stage-1 map = 0%,  reduce = 0%\n",
      "2016-10-09 17:42:46,489 Stage-1 map = 1%,  reduce = 0%, Cumulative CPU 4.09 sec\n",
      "2016-10-09 17:42:48,565 Stage-1 map = 6%,  reduce = 0%, Cumulative CPU 50.87 sec\n",
      "2016-10-09 17:42:49,603 Stage-1 map = 10%,  reduce = 0%, Cumulative CPU 89.46 sec\n",
      "2016-10-09 17:42:50,642 Stage-1 map = 15%,  reduce = 0%, Cumulative CPU 153.77 sec\n",
      "2016-10-09 17:42:51,699 Stage-1 map = 23%,  reduce = 0%, Cumulative CPU 255.49 sec\n",
      "2016-10-09 17:42:52,741 Stage-1 map = 31%,  reduce = 0%, Cumulative CPU 335.89 sec\n",
      "2016-10-09 17:42:53,787 Stage-1 map = 41%,  reduce = 0%, Cumulative CPU 455.76 sec\n",
      "2016-10-09 17:42:54,827 Stage-1 map = 47%,  reduce = 0%, Cumulative CPU 517.82 sec\n",
      "2016-10-09 17:42:55,861 Stage-1 map = 56%,  reduce = 0%, Cumulative CPU 632.9 sec\n",
      "2016-10-09 17:42:56,897 Stage-1 map = 65%,  reduce = 0%, Cumulative CPU 750.74 sec\n",
      "2016-10-09 17:42:57,933 Stage-1 map = 73%,  reduce = 0%, Cumulative CPU 853.21 sec\n",
      "2016-10-09 17:42:58,968 Stage-1 map = 77%,  reduce = 0%, Cumulative CPU 897.13 sec\n",
      "2016-10-09 17:43:00,000 Stage-1 map = 84%,  reduce = 0%, Cumulative CPU 974.31 sec\n",
      "2016-10-09 17:43:01,041 Stage-1 map = 87%,  reduce = 0%, Cumulative CPU 1000.45 sec\n",
      "2016-10-09 17:43:02,073 Stage-1 map = 90%,  reduce = 0%, Cumulative CPU 1032.48 sec\n",
      "2016-10-09 17:43:03,104 Stage-1 map = 92%,  reduce = 0%, Cumulative CPU 1050.12 sec\n",
      "2016-10-09 17:43:04,137 Stage-1 map = 93%,  reduce = 0%, Cumulative CPU 1063.52 sec\n",
      "2016-10-09 17:43:05,170 Stage-1 map = 94%,  reduce = 0%, Cumulative CPU 1072.61 sec\n",
      "2016-10-09 17:43:06,213 Stage-1 map = 96%,  reduce = 0%, Cumulative CPU 1094.23 sec\n",
      "2016-10-09 17:43:07,245 Stage-1 map = 97%,  reduce = 0%, Cumulative CPU 1106.16 sec\n",
      "2016-10-09 17:43:08,276 Stage-1 map = 98%,  reduce = 0%, Cumulative CPU 1115.75 sec\n",
      "2016-10-09 17:43:09,306 Stage-1 map = 99%,  reduce = 0%, Cumulative CPU 1116.74 sec\n",
      "2016-10-09 17:43:21,044 Stage-1 map = 100%,  reduce = 0%, Cumulative CPU 1132.92 sec\n",
      "2016-10-09 17:43:30,534 Stage-1 map = 100%,  reduce = 100%, Cumulative CPU 1137.58 sec\n",
      "MapReduce Total cumulative CPU time: 18 minutes 57 seconds 580 msec\n",
      "Ended Job = job_1471856463785_1077890\n",
      "MapReduce Jobs Launched: \n",
      "ap: 235  Reduce: 1   Cumulative CPU: 1137.58 sec   HDFS Read: 107303543 HDFS Write: 271002 SUCCESS\n",
      "Total MapReduce CPU Time Spent: 18 minutes 57 seconds 580 msec\n",
      "OK\n",
      "Time taken: 84.412 seconds, Fetched: 11438 row(s)\n",
      "\n"
     ]
    }
   ],
   "source": [
    "adslot=readHive(\"select vendor_id,adslot_id,count(1) from fraud_free.dclkv2 where year=2016 and month=10 and day=8 group by vendor_id, adslot_id\")"
   ]
  },
  {
   "cell_type": "code",
   "execution_count": 5,
   "metadata": {
    "collapsed": false
   },
   "outputs": [
    {
     "data": {
      "text/plain": [
       "0.80     13.00\n",
       "0.90     31.00\n",
       "0.95     70.00\n",
       "0.99    345.15\n",
       "Name: _c2, dtype: float64"
      ]
     },
     "execution_count": 5,
     "metadata": {},
     "output_type": "execute_result"
    }
   ],
   "source": [
    "adslot['_c2'].quantile([.80,.90,.95,.99])"
   ]
  },
  {
   "cell_type": "code",
   "execution_count": 128,
   "metadata": {
    "collapsed": false
   },
   "outputs": [
    {
     "name": "stderr",
     "output_type": "stream",
     "text": [
      "['hive', '-e', 'set mapreduce.job.queuename=zampda_job;set hive.cli.print.header=true;select * from fraud_free.dclkv2 where year=2016 and month=8 and day>=1 and adgroup_id=23377']\n",
      "\n",
      "Logging initialized using configuration in file:/var/bh/lib/apache-hive-1.2.1-bin/conf/hive-log4j.properties\n",
      "Query ID = changbin_20160930110432_24fd2e20-350b-4d21-9668-1d2353af12e2\n",
      "Total jobs = 1\n",
      "Launching Job 1 out of 1\n",
      "Number of reduce tasks is set to 0 since there's no reduce operator\n",
      "Starting Job = job_1471856463785_869340, Tracking URL = http://TS-NN-001:50030/proxy/application_1471856463785_869340/\n",
      "Kill Command = /var/bh/hadoop/bin/hadoop job  -kill job_1471856463785_869340\n",
      "Hadoop job information for Stage-1: number of mappers: 251; number of reducers: 0\n",
      "2016-09-30 11:07:05,109 Stage-1 map = 0%,  reduce = 0%\n",
      "2016-09-30 11:07:23,441 Stage-1 map = 1%,  reduce = 0%, Cumulative CPU 30.99 sec\n",
      "2016-09-30 11:07:24,478 Stage-1 map = 2%,  reduce = 0%, Cumulative CPU 80.28 sec\n",
      "2016-09-30 11:07:26,557 Stage-1 map = 3%,  reduce = 0%, Cumulative CPU 154.1 sec\n",
      "2016-09-30 11:07:27,593 Stage-1 map = 5%,  reduce = 0%, Cumulative CPU 316.71 sec\n",
      "2016-09-30 11:07:28,638 Stage-1 map = 6%,  reduce = 0%, Cumulative CPU 412.58 sec\n",
      "2016-09-30 11:07:29,680 Stage-1 map = 8%,  reduce = 0%, Cumulative CPU 563.47 sec\n",
      "2016-09-30 11:07:30,723 Stage-1 map = 9%,  reduce = 0%, Cumulative CPU 713.04 sec\n",
      "2016-09-30 11:07:31,763 Stage-1 map = 11%,  reduce = 0%, Cumulative CPU 834.21 sec\n",
      "2016-09-30 11:07:32,802 Stage-1 map = 12%,  reduce = 0%, Cumulative CPU 986.22 sec\n",
      "2016-09-30 11:07:33,843 Stage-1 map = 13%,  reduce = 0%, Cumulative CPU 1159.01 sec\n",
      "2016-09-30 11:07:34,880 Stage-1 map = 15%,  reduce = 0%, Cumulative CPU 1312.61 sec\n",
      "2016-09-30 11:07:35,912 Stage-1 map = 17%,  reduce = 0%, Cumulative CPU 1412.62 sec\n",
      "2016-09-30 11:07:36,943 Stage-1 map = 18%,  reduce = 0%, Cumulative CPU 1613.05 sec\n",
      "2016-09-30 11:07:37,974 Stage-1 map = 19%,  reduce = 0%, Cumulative CPU 1696.42 sec\n",
      "2016-09-30 11:07:39,003 Stage-1 map = 21%,  reduce = 0%, Cumulative CPU 1820.55 sec\n",
      "2016-09-30 11:07:40,032 Stage-1 map = 22%,  reduce = 0%, Cumulative CPU 1930.42 sec\n",
      "2016-09-30 11:07:41,063 Stage-1 map = 24%,  reduce = 0%, Cumulative CPU 2008.01 sec\n",
      "2016-09-30 11:07:42,091 Stage-1 map = 25%,  reduce = 0%, Cumulative CPU 2106.59 sec\n",
      "2016-09-30 11:07:43,122 Stage-1 map = 26%,  reduce = 0%, Cumulative CPU 2214.21 sec\n",
      "2016-09-30 11:07:44,154 Stage-1 map = 28%,  reduce = 0%, Cumulative CPU 2289.42 sec\n",
      "2016-09-30 11:07:45,181 Stage-1 map = 30%,  reduce = 0%, Cumulative CPU 2351.74 sec\n",
      "2016-09-30 11:07:46,211 Stage-1 map = 31%,  reduce = 0%, Cumulative CPU 2444.14 sec\n",
      "2016-09-30 11:07:47,452 Stage-1 map = 33%,  reduce = 0%, Cumulative CPU 2523.84 sec\n",
      "2016-09-30 11:07:48,483 Stage-1 map = 34%,  reduce = 0%, Cumulative CPU 2643.95 sec\n",
      "2016-09-30 11:07:49,512 Stage-1 map = 36%,  reduce = 0%, Cumulative CPU 2736.41 sec\n",
      "2016-09-30 11:07:50,540 Stage-1 map = 37%,  reduce = 0%, Cumulative CPU 2796.06 sec\n",
      "2016-09-30 11:07:51,569 Stage-1 map = 38%,  reduce = 0%, Cumulative CPU 2869.87 sec\n",
      "2016-09-30 11:07:52,597 Stage-1 map = 39%,  reduce = 0%, Cumulative CPU 2921.63 sec\n",
      "2016-09-30 11:07:53,625 Stage-1 map = 40%,  reduce = 0%, Cumulative CPU 2972.57 sec\n",
      "2016-09-30 11:07:54,653 Stage-1 map = 42%,  reduce = 0%, Cumulative CPU 3022.77 sec\n",
      "2016-09-30 11:07:55,682 Stage-1 map = 43%,  reduce = 0%, Cumulative CPU 3082.65 sec\n",
      "2016-09-30 11:07:56,711 Stage-1 map = 45%,  reduce = 0%, Cumulative CPU 3146.61 sec\n",
      "2016-09-30 11:07:57,737 Stage-1 map = 46%,  reduce = 0%, Cumulative CPU 3211.24 sec\n",
      "2016-09-30 11:07:58,764 Stage-1 map = 47%,  reduce = 0%, Cumulative CPU 3259.49 sec\n",
      "2016-09-30 11:07:59,797 Stage-1 map = 48%,  reduce = 0%, Cumulative CPU 3308.55 sec\n",
      "2016-09-30 11:08:00,826 Stage-1 map = 49%,  reduce = 0%, Cumulative CPU 3368.71 sec\n",
      "2016-09-30 11:08:01,857 Stage-1 map = 50%,  reduce = 0%, Cumulative CPU 3412.67 sec\n",
      "2016-09-30 11:08:02,903 Stage-1 map = 51%,  reduce = 0%, Cumulative CPU 3455.69 sec\n",
      "2016-09-30 11:08:03,942 Stage-1 map = 52%,  reduce = 0%, Cumulative CPU 3507.85 sec\n",
      "2016-09-30 11:08:04,972 Stage-1 map = 53%,  reduce = 0%, Cumulative CPU 3554.51 sec\n",
      "2016-09-30 11:08:06,000 Stage-1 map = 54%,  reduce = 0%, Cumulative CPU 3588.3 sec\n",
      "2016-09-30 11:08:07,030 Stage-1 map = 55%,  reduce = 0%, Cumulative CPU 3642.29 sec\n",
      "2016-09-30 11:08:08,264 Stage-1 map = 56%,  reduce = 0%, Cumulative CPU 3689.88 sec\n",
      "2016-09-30 11:08:09,295 Stage-1 map = 57%,  reduce = 0%, Cumulative CPU 3718.76 sec\n",
      "2016-09-30 11:08:10,324 Stage-1 map = 58%,  reduce = 0%, Cumulative CPU 3773.34 sec\n",
      "2016-09-30 11:08:12,384 Stage-1 map = 59%,  reduce = 0%, Cumulative CPU 3830.34 sec\n",
      "2016-09-30 11:08:13,414 Stage-1 map = 60%,  reduce = 0%, Cumulative CPU 3887.07 sec\n",
      "2016-09-30 11:08:14,440 Stage-1 map = 61%,  reduce = 0%, Cumulative CPU 3913.84 sec\n",
      "2016-09-30 11:08:16,491 Stage-1 map = 62%,  reduce = 0%, Cumulative CPU 3994.28 sec\n",
      "2016-09-30 11:08:17,517 Stage-1 map = 63%,  reduce = 0%, Cumulative CPU 4026.28 sec\n",
      "2016-09-30 11:08:19,572 Stage-1 map = 64%,  reduce = 0%, Cumulative CPU 4104.62 sec\n",
      "2016-09-30 11:08:21,627 Stage-1 map = 65%,  reduce = 0%, Cumulative CPU 4157.71 sec\n",
      "2016-09-30 11:08:22,656 Stage-1 map = 66%,  reduce = 0%, Cumulative CPU 4208.37 sec\n",
      "2016-09-30 11:08:24,721 Stage-1 map = 67%,  reduce = 0%, Cumulative CPU 4261.96 sec\n",
      "2016-09-30 11:08:26,776 Stage-1 map = 68%,  reduce = 0%, Cumulative CPU 4333.85 sec\n",
      "2016-09-30 11:08:28,829 Stage-1 map = 69%,  reduce = 0%, Cumulative CPU 4403.37 sec\n",
      "2016-09-30 11:08:29,858 Stage-1 map = 70%,  reduce = 0%, Cumulative CPU 4430.26 sec\n",
      "2016-09-30 11:08:31,909 Stage-1 map = 71%,  reduce = 0%, Cumulative CPU 4490.48 sec\n",
      "2016-09-30 11:08:33,974 Stage-1 map = 72%,  reduce = 0%, Cumulative CPU 4544.44 sec\n",
      "2016-09-30 11:08:36,035 Stage-1 map = 73%,  reduce = 0%, Cumulative CPU 4603.22 sec\n",
      "2016-09-30 11:08:39,329 Stage-1 map = 74%,  reduce = 0%, Cumulative CPU 4676.67 sec\n",
      "2016-09-30 11:08:41,584 Stage-1 map = 75%,  reduce = 0%, Cumulative CPU 4730.75 sec\n",
      "2016-09-30 11:08:43,670 Stage-1 map = 76%,  reduce = 0%, Cumulative CPU 4792.63 sec\n",
      "2016-09-30 11:08:46,755 Stage-1 map = 77%,  reduce = 0%, Cumulative CPU 4870.69 sec\n",
      "2016-09-30 11:08:48,810 Stage-1 map = 78%,  reduce = 0%, Cumulative CPU 4909.78 sec\n",
      "2016-09-30 11:08:51,885 Stage-1 map = 79%,  reduce = 0%, Cumulative CPU 4980.83 sec\n",
      "2016-09-30 11:08:53,937 Stage-1 map = 80%,  reduce = 0%, Cumulative CPU 5025.1 sec\n",
      "2016-09-30 11:08:57,014 Stage-1 map = 81%,  reduce = 0%, Cumulative CPU 5091.25 sec\n",
      "2016-09-30 11:09:00,291 Stage-1 map = 82%,  reduce = 0%, Cumulative CPU 5156.58 sec\n",
      "2016-09-30 11:09:03,411 Stage-1 map = 83%,  reduce = 0%, Cumulative CPU 5213.64 sec\n",
      "2016-09-30 11:09:07,729 Stage-1 map = 84%,  reduce = 0%, Cumulative CPU 5281.86 sec\n",
      "2016-09-30 11:09:11,826 Stage-1 map = 85%,  reduce = 0%, Cumulative CPU 5356.87 sec\n",
      "2016-09-30 11:09:14,896 Stage-1 map = 86%,  reduce = 0%, Cumulative CPU 5408.31 sec\n",
      "2016-09-30 11:09:19,229 Stage-1 map = 87%,  reduce = 0%, Cumulative CPU 5477.36 sec\n",
      "2016-09-30 11:09:22,304 Stage-1 map = 88%,  reduce = 0%, Cumulative CPU 5531.18 sec\n",
      "2016-09-30 11:09:26,825 Stage-1 map = 89%,  reduce = 0%, Cumulative CPU 5602.13 sec\n",
      "2016-09-30 11:09:31,131 Stage-1 map = 90%,  reduce = 0%, Cumulative CPU 5662.28 sec\n",
      "2016-09-30 11:09:36,259 Stage-1 map = 91%,  reduce = 0%, Cumulative CPU 5734.03 sec\n",
      "2016-09-30 11:09:41,586 Stage-1 map = 92%,  reduce = 0%, Cumulative CPU 5810.63 sec\n",
      "2016-09-30 11:09:46,719 Stage-1 map = 93%,  reduce = 0%, Cumulative CPU 5867.66 sec\n",
      "2016-09-30 11:09:52,882 Stage-1 map = 94%,  reduce = 0%, Cumulative CPU 5932.37 sec\n",
      "2016-09-30 11:10:00,059 Stage-1 map = 95%,  reduce = 0%, Cumulative CPU 5995.78 sec\n",
      "2016-09-30 11:10:12,411 Stage-1 map = 96%,  reduce = 0%, Cumulative CPU 6075.83 sec\n",
      "2016-09-30 11:10:28,401 Stage-1 map = 97%,  reduce = 0%, Cumulative CPU 6149.3 sec\n",
      "2016-09-30 11:10:50,112 Stage-1 map = 98%,  reduce = 0%, Cumulative CPU 6227.82 sec\n",
      "2016-09-30 11:11:18,299 Stage-1 map = 99%,  reduce = 0%, Cumulative CPU 6306.4 sec\n",
      "2016-09-30 11:12:19,183 Stage-1 map = 99%,  reduce = 0%, Cumulative CPU 6396.55 sec\n",
      "2016-09-30 11:13:19,769 Stage-1 map = 99%,  reduce = 0%, Cumulative CPU 6427.01 sec\n",
      "2016-09-30 11:14:01,189 Stage-1 map = 100%,  reduce = 0%, Cumulative CPU 6434.53 sec\n",
      "MapReduce Total cumulative CPU time: 0 days 1 hours 47 minutes 14 seconds 530 msec\n",
      "Ended Job = job_1471856463785_869340\n",
      "MapReduce Jobs Launched: \n",
      " Cumulative CPU: 6434.53 sec   HDFS Read: 3583289835 HDFS Write: 1318772 SUCCESS\n",
      "Total MapReduce CPU Time Spent: 0 days 1 hours 47 minutes 14 seconds 530 msec\n",
      "OK\n",
      "Time taken: 571.271 seconds, Fetched: 3195 row(s)\n",
      "\n"
     ]
    }
   ],
   "source": [
    "mc=readHive(\"select * from fraud_free.dclkv2 where year=2016 and month=8 and day>=1 and adgroup_id=23377\")"
   ]
  },
  {
   "cell_type": "code",
   "execution_count": 133,
   "metadata": {
    "collapsed": false
   },
   "outputs": [
    {
     "data": {
      "text/plain": [
       "hcmxh7g5jcc44    3\n",
       "zjublmwrp2iww    2\n",
       "25imsk4a2yll4    2\n",
       "ced2dsu5b24tw    2\n",
       "vcs2fbbuiljvc    2\n",
       "ccyqm2ssz2k3k    2\n",
       "yr44y3w7ywxra    2\n",
       "3fxothwjnrpjy    2\n",
       "ikoa3i7ikdn36    2\n",
       "n35ar2vjgslks    1\n",
       "qolrdtl6ajekq    1\n",
       "hv3fubwmue6ri    1\n",
       "eilbtc2v5blwg    1\n",
       "ty4qqj6dtdgw6    1\n",
       "rvatuk4vdt7ss    1\n",
       "zjhw6gpaw6n4k    1\n",
       "tuqqxhzc4bqzc    1\n",
       "66aqkblhquzpc    1\n",
       "srbk4pfzfriye    1\n",
       "cidtoarz2ayws    1\n",
       "7hgpsw7rgy4og    1\n",
       "tkknegofy5osk    1\n",
       "54277yj6knsp2    1\n",
       "iuobaa7sz5yzc    1\n",
       "3zbwutxvq5zgm    1\n",
       "mipgyfrwrx5ni    1\n",
       "rvwq32f5qlgqk    1\n",
       "h5uu2t4j5ejv4    1\n",
       "dfeziwkwkc2wk    1\n",
       "mrcif6fryvin2    1\n",
       "                ..\n",
       "kyhquwsrekhy6    1\n",
       "5rpmmj4u4p5os    1\n",
       "cxiy6ql7lql3q    1\n",
       "vnst2psqyhnam    1\n",
       "qqlgy6rouxzsi    1\n",
       "u4l3azq2kbic6    1\n",
       "4cy3qzu5vqh4a    1\n",
       "p5laeevo2q2ki    1\n",
       "bgzwvhpwxyxf4    1\n",
       "oc4gxwpcbobxq    1\n",
       "rflzamxz7zuku    1\n",
       "kv63j4hjnw4ps    1\n",
       "mom4ntdsmwtdq    1\n",
       "ww634pupzyvbe    1\n",
       "bgtcslvzx3lfe    1\n",
       "dqkdvh3ds5xzk    1\n",
       "5rrdzf66nyp3w    1\n",
       "cyg5h5mt6jz74    1\n",
       "t6v4ormjxbhie    1\n",
       "5z7vsiyqlwveo    1\n",
       "xbk3myv7uu37y    1\n",
       "totcuhwhift26    1\n",
       "acqjtrkjr55d6    1\n",
       "ztt5q2m5eyniw    1\n",
       "wraae7vvddpgw    1\n",
       "j2ft4tfdpajwc    1\n",
       "5jeshq6w5gvf4    1\n",
       "osz2wdzmi7una    1\n",
       "ibdxdxqkt7iro    1\n",
       "k74jtimp4wava    1\n",
       "Name: request_id, dtype: int64"
      ]
     },
     "execution_count": 133,
     "metadata": {},
     "output_type": "execute_result"
    }
   ],
   "source": [
    "mc.query(\"fraud_flag==fraud_flag\")['request_id'].value_counts()"
   ]
  },
  {
   "cell_type": "code",
   "execution_count": null,
   "metadata": {
    "collapsed": true
   },
   "outputs": [],
   "source": []
  },
  {
   "cell_type": "code",
   "execution_count": null,
   "metadata": {
    "collapsed": true
   },
   "outputs": [],
   "source": []
  },
  {
   "cell_type": "code",
   "execution_count": 41,
   "metadata": {
    "collapsed": false
   },
   "outputs": [
    {
     "name": "stderr",
     "output_type": "stream",
     "text": [
      "['hive', '-e', 'set mapreduce.job.queuename=zampda_job;set hive.cli.print.header=true;select * from fraud_free.dclkv2 where year=2016 and month=9 and day=10']\n",
      "\n",
      "Logging initialized using configuration in file:/var/bh/lib/apache-hive-1.2.1-bin/conf/hive-log4j.properties\n",
      "OK\n",
      "conds, Fetched: 195984 row(s)\n",
      "\n",
      "['hive', '-e', 'set mapreduce.job.queuename=zampda_job;set hive.cli.print.header=true;select * from etl_output.landing where year=2016 and month=9 and day=10']\n",
      "\n",
      "Logging initialized using configuration in file:/var/bh/lib/apache-hive-1.2.1-bin/conf/hive-log4j.properties\n",
      "OK\n",
      "econds, Fetched: 38506 row(s)\n",
      "\n"
     ]
    }
   ],
   "source": [
    "clk=readHive(\"select * from fraud_free.dclkv2 where year=2016 and month=9 and day=10\")\n",
    "clk['domain']=clk['url'].apply(f)\n",
    "ld=readHive(\"select * from etl_output.landing where year=2016 and month=9 and day=10\")\n",
    "join=pd.merge(clk,ld,on=\"request_id\",how='inner')"
   ]
  },
  {
   "cell_type": "code",
   "execution_count": 42,
   "metadata": {
    "collapsed": false
   },
   "outputs": [
    {
     "name": "stdout",
     "output_type": "stream",
     "text": [
      "clean: 195\n",
      "clean arr: 14\n",
      "clean zid: 157\n",
      "clean request id: 169\n",
      "wash: 12\n",
      "wash arr: 1\n",
      "wash zid: 10\n",
      "wash request id: 11\n"
     ]
    }
   ],
   "source": [
    "print \"clean:\",clk.query('domain==\"17k.com\" & fraud_flag!=fraud_flag & adslot_id==\"mm_45806929_4200163_14420407\"')['request_id'].count()\n",
    "print \"clean arr:\",join.query('domain==\"17k.com\" & fraud_flag!=fraud_flag& adslot_id==\"mm_45806929_4200163_14420407\"')['request_id'].count()\n",
    "print \"clean zid:\",clk.query('domain==\"17k.com\" & fraud_flag!=fraud_flag& adslot_id==\"mm_45806929_4200163_14420407\"')['zid'].nunique()\n",
    "print \"clean request id:\",clk.query('domain==\"17k.com\" & fraud_flag!=fraud_flag& adslot_id==\"mm_45806929_4200163_14420407\"')['request_id'].nunique()\n",
    "\n",
    "print \"wash:\",clk.query('domain==\"17k.com\" & fraud_flag==fraud_flag& adslot_id==\"mm_45806929_4200163_14420407\"')['request_id'].count()\n",
    "print \"wash arr:\",join.query('domain==\"17k.com\" & fraud_flag==fraud_flag& adslot_id==\"mm_45806929_4200163_14420407\"')['request_id'].count()\n",
    "print \"wash zid:\",clk.query('domain==\"17k.com\" & fraud_flag==fraud_flag& adslot_id==\"mm_45806929_4200163_14420407\"')['zid'].nunique()\n",
    "print \"wash request id:\",clk.query('domain==\"17k.com\" & fraud_flag==fraud_flag& adslot_id==\"mm_45806929_4200163_14420407\"')['request_id'].nunique()\n",
    "\n",
    "\n",
    "\n",
    "\n"
   ]
  },
  {
   "cell_type": "code",
   "execution_count": 33,
   "metadata": {
    "collapsed": false
   },
   "outputs": [
    {
     "name": "stderr",
     "output_type": "stream",
     "text": [
      "['hive', '-e', 'set mapreduce.job.queuename=zampda_job;set hive.cli.print.header=true;select * from fraud_free.dclkv2 where year=2016 and month=9 and day=28']\n",
      "\n",
      "Logging initialized using configuration in file:/var/bh/lib/apache-hive-1.2.1-bin/conf/hive-log4j.properties\n",
      "OK\n",
      " seconds, Fetched: 519440 row(s)\n",
      "\n",
      "['hive', '-e', 'set mapreduce.job.queuename=zampda_job;set hive.cli.print.header=true;select * from etl_output.landing where year=2016 and month=9 and day=28']\n",
      "\n",
      "Logging initialized using configuration in file:/var/bh/lib/apache-hive-1.2.1-bin/conf/hive-log4j.properties\n",
      "OK\n",
      "244 seconds, Fetched: 110998 row(s)\n",
      "\n"
     ]
    }
   ],
   "source": [
    "clk=readHive(\"select * from fraud_free.dclkv2 where year=2016 and month=9 and day=28\")\n",
    "clk['domain']=clk['url'].apply(f)\n",
    "ld=readHive(\"select * from etl_output.landing where year=2016 and month=9 and day=28\")\n",
    "join=pd.merge(clk,ld,on=\"request_id\",how='inner')"
   ]
  },
  {
   "cell_type": "code",
   "execution_count": 39,
   "metadata": {
    "collapsed": false
   },
   "outputs": [
    {
     "name": "stdout",
     "output_type": "stream",
     "text": [
      " clean: 8940\n",
      "clean arr: 1289\n",
      "clean zid: 8860\n",
      "clean request id: 8882\n",
      "wash: 114\n",
      "wash arr: 16\n",
      "wash zid: 114\n",
      "wash request id: 114\n"
     ]
    }
   ],
   "source": [
    "print \"clean:\",clk.query('domain==\"17k.com\" & fraud_flag!=fraud_flag & adslot_id==\"mm_45806929_4200163_14420407\"')['request_id'].count()\n",
    "print \"clean arr:\",join.query('domain==\"17k.com\" & fraud_flag!=fraud_flag& adslot_id==\"mm_45806929_4200163_14420407\"')['request_id'].count()\n",
    "print \"clean zid:\",clk.query('domain==\"17k.com\" & fraud_flag!=fraud_flag& adslot_id==\"mm_45806929_4200163_14420407\"')['zid'].nunique()\n",
    "print \"clean request id:\",clk.query('domain==\"17k.com\" & fraud_flag!=fraud_flag& adslot_id==\"mm_45806929_4200163_14420407\"')['request_id'].nunique()\n",
    "\n",
    "print \"wash:\",clk.query('domain==\"17k.com\" & fraud_flag==fraud_flag& adslot_id==\"mm_45806929_4200163_14420407\"')['request_id'].count()\n",
    "print \"wash arr:\",join.query('domain==\"17k.com\" & fraud_flag==fraud_flag& adslot_id==\"mm_45806929_4200163_14420407\"')['request_id'].count()\n",
    "print \"wash zid:\",clk.query('domain==\"17k.com\" & fraud_flag==fraud_flag& adslot_id==\"mm_45806929_4200163_14420407\"')['zid'].nunique()\n",
    "print \"wash request id:\",clk.query('domain==\"17k.com\" & fraud_flag==fraud_flag& adslot_id==\"mm_45806929_4200163_14420407\"')['request_id'].nunique()\n"
   ]
  },
  {
   "cell_type": "code",
   "execution_count": 53,
   "metadata": {
    "collapsed": false
   },
   "outputs": [],
   "source": [
    "err=pd.read_table(\"./allerrs\",sep='\\t',header=None,names=[\"day\",\"vendor\",\"err\",\"pv\"])"
   ]
  },
  {
   "cell_type": "code",
   "execution_count": 79,
   "metadata": {
    "collapsed": false
   },
   "outputs": [],
   "source": [
    "errcode=pd.read_table('./errcode1',sep=\"\\s+\",header=None,names=[\"err\",\"phase\"])"
   ]
  },
  {
   "cell_type": "code",
   "execution_count": 145,
   "metadata": {
    "collapsed": false
   },
   "outputs": [
    {
     "data": {
      "text/plain": [
       " 0      242\n",
       " 8      231\n",
       " 20     224\n",
       " 153    215\n",
       " 152    215\n",
       " 37     215\n",
       " 106    211\n",
       " 101    205\n",
       " 104    196\n",
       "-1      189\n",
       " 21     185\n",
       " 48     170\n",
       " 9      161\n",
       " 60     160\n",
       " 61     151\n",
       " 107    132\n",
       " 109    107\n",
       " 151    104\n",
       " 1       99\n",
       " 28      96\n",
       " 43      96\n",
       " 98      86\n",
       " 14      82\n",
       " 159     77\n",
       " 16      74\n",
       " 105     60\n",
       " 99      57\n",
       " 27      48\n",
       " 154     48\n",
       " 2       31\n",
       " 44      24\n",
       " 155     24\n",
       " 4       22\n",
       " 220     16\n",
       " 5       12\n",
       " 33      12\n",
       " 47       9\n",
       " 29       2\n",
       " 32       1\n",
       " 46       1\n",
       "Name: err, dtype: int64"
      ]
     },
     "execution_count": 145,
     "metadata": {},
     "output_type": "execute_result"
    }
   ],
   "source": [
    "join=pd.merge(err,errcode,on='err',how='inner')\n",
    "join['err'].value_counts()"
   ]
  },
  {
   "cell_type": "code",
   "execution_count": 147,
   "metadata": {
    "collapsed": false
   },
   "outputs": [
    {
     "data": {
      "text/plain": [
       "<matplotlib.axes._subplots.AxesSubplot at 0x7f668ead51d0>"
      ]
     },
     "execution_count": 147,
     "metadata": {},
     "output_type": "execute_result"
    },
    {
     "data": {
      "image/png": "[encoded data removed]",
      "text/plain": [
       "<matplotlib.figure.Figure at 0x7f668df85c90>"
      ]
     },
     "metadata": {},
     "output_type": "display_data"
    }
   ],
   "source": [
    "#(\"beforebroker\",\"argumentor/searcher\",\"broker\",\"argumentor\",\"router\",\"searcher\",\"robot\",\"yielder\",\"deliver\")\n",
    "\n",
    "ill=['(\"beforebroker\",\"argumentor/searcher\",\"broker\",\"argumentor\",\"router\")','']\n",
    "\n",
    "cap=['(\"searcher\",\"robot\",\"yielder\",\"deliver\")','']\n",
    "\n",
    "budget=['(\"searcher\",\"robot\",\"yielder\",\"deliver\")','(8)']\n",
    "\n",
    "robots=['(\"robot\",\"yielder\",\"deliver\")','']\n",
    "\n",
    "illp=join.query('phase in '+ill[0]+' & vendor==9 ').groupby('day')['pv'].sum().div(10000)\n",
    "illp.plot()\n",
    "\n",
    "bankp=join.query('err==20 & vendor==9 ').groupby('day')['pv'].sum().div(10000)\n",
    "bankp.plot()\n",
    "\n",
    "capp=join.query('phase in '+cap[0]+' & vendor==9 ').groupby('day')['pv'].sum().div(10000)\n",
    "capp.plot()\n",
    "\n",
    "# budgetp=join.query('phase in '+budget[0]+' & vendor==9 & err!=8 ').groupby('day')['pv'].sum().div(10000)\n",
    "# budgetp.plot()\n",
    "\n",
    "# rp=join.query('phase in '+robots[0]+' & vendor==9').groupby('day')['pv'].sum().div(10000)\n",
    "# rp.plot()\n",
    "# # err['err'].value_counts()"
   ]
  },
  {
   "cell_type": "code",
   "execution_count": 118,
   "metadata": {
    "collapsed": false
   },
   "outputs": [
    {
     "data": {
      "text/plain": [
       "<matplotlib.axes._subplots.AxesSubplot at 0x7f66903c7b50>"
      ]
     },
     "execution_count": 118,
     "metadata": {},
     "output_type": "execute_result"
    },
    {
     "data": {
      "image/png": "[encoded data removed]",
      "text/plain": [
       "<matplotlib.figure.Figure at 0x7f668f84c650>"
      ]
     },
     "metadata": {},
     "output_type": "display_data"
    }
   ],
   "source": [
    "\n",
    "\n",
    "join.query('phase in (\"robot\",\"yielder\",\"deliver\") & vendor==9 ').groupby('day')['pv'].sum()\n",
    "join=join.query('day!=29')\n",
    "temp=join.query('phase in (\"robot\",\"yielder\",\"deliver\")').groupby('day')['pv'].sum().div(10000)\n",
    "temp.plot()"
   ]
  },
  {
   "cell_type": "code",
   "execution_count": 120,
   "metadata": {
    "collapsed": false
   },
   "outputs": [
    {
     "data": {
      "text/plain": [
       "<matplotlib.axes._subplots.AxesSubplot at 0x7f663faffd50>"
      ]
     },
     "execution_count": 120,
     "metadata": {},
     "output_type": "execute_result"
    },
    {
     "data": {
      "image/png": "[encoded data removed]",
      "text/plain": [
       "<matplotlib.figure.Figure at 0x7f663cc73e50>"
      ]
     },
     "metadata": {},
     "output_type": "display_data"
    }
   ],
   "source": [
    "temp=join.groupby(['day','phase'])['pv'].sum().div(10000).reset_index()\n",
    "p=temp.pivot(index='day', columns='phase', values='pv')\n",
    "p.plot()"
   ]
  },
  {
   "cell_type": "code",
   "execution_count": 121,
   "metadata": {
    "collapsed": false
   },
   "outputs": [
    {
     "data": {
      "text/plain": [
       "<matplotlib.axes._subplots.AxesSubplot at 0x7f6658d28f50>"
      ]
     },
     "execution_count": 121,
     "metadata": {},
     "output_type": "execute_result"
    },
    {
     "data": {
      "image/png": "[encoded data removed]",
      "text/plain": [
       "<matplotlib.figure.Figure at 0x7f663cc73c10>"
      ]
     },
     "metadata": {},
     "output_type": "display_data"
    }
   ],
   "source": [
    "temp=join.query('phase ==\"searcher\"').groupby(['day','err'])['pv'].sum().div(10000).reset_index()\n",
    "p=temp.pivot(index='day', columns='err', values='pv')\n",
    "\n",
    "p.plot()"
   ]
  },
  {
   "cell_type": "code",
   "execution_count": 152,
   "metadata": {
    "collapsed": false
   },
   "outputs": [
    {
     "data": {
      "text/html": [
       "<div>\n",
       "<table border=\"1\" class=\"dataframe\">\n",
       "  <thead>\n",
       "    <tr style=\"text-align: right;\">\n",
       "      <th>err</th>\n",
       "      <th>-1</th>\n",
       "      <th>0</th>\n",
       "      <th>1</th>\n",
       "      <th>2</th>\n",
       "      <th>4</th>\n",
       "      <th>5</th>\n",
       "      <th>8</th>\n",
       "      <th>9</th>\n",
       "      <th>14</th>\n",
       "      <th>16</th>\n",
       "      <th>...</th>\n",
       "      <th>106</th>\n",
       "      <th>107</th>\n",
       "      <th>109</th>\n",
       "      <th>151</th>\n",
       "      <th>152</th>\n",
       "      <th>153</th>\n",
       "      <th>154</th>\n",
       "      <th>155</th>\n",
       "      <th>159</th>\n",
       "      <th>220</th>\n",
       "    </tr>\n",
       "    <tr>\n",
       "      <th>day</th>\n",
       "      <th></th>\n",
       "      <th></th>\n",
       "      <th></th>\n",
       "      <th></th>\n",
       "      <th></th>\n",
       "      <th></th>\n",
       "      <th></th>\n",
       "      <th></th>\n",
       "      <th></th>\n",
       "      <th></th>\n",
       "      <th></th>\n",
       "      <th></th>\n",
       "      <th></th>\n",
       "      <th></th>\n",
       "      <th></th>\n",
       "      <th></th>\n",
       "      <th></th>\n",
       "      <th></th>\n",
       "      <th></th>\n",
       "      <th></th>\n",
       "      <th></th>\n",
       "    </tr>\n",
       "  </thead>\n",
       "  <tbody>\n",
       "    <tr>\n",
       "      <th>18</th>\n",
       "      <td>0.4301</td>\n",
       "      <td>83716.6279</td>\n",
       "      <td>1346.1358</td>\n",
       "      <td>105.2261</td>\n",
       "      <td>0.0002</td>\n",
       "      <td>0.0006</td>\n",
       "      <td>136814.9852</td>\n",
       "      <td>26123.4443</td>\n",
       "      <td>1517.3622</td>\n",
       "      <td>7886.8909</td>\n",
       "      <td>...</td>\n",
       "      <td>541.1577</td>\n",
       "      <td>1888.2262</td>\n",
       "      <td>0.0084</td>\n",
       "      <td>9017.7921</td>\n",
       "      <td>93610.1366</td>\n",
       "      <td>216176.2625</td>\n",
       "      <td>12577.3042</td>\n",
       "      <td>27163.0100</td>\n",
       "      <td>395.2609</td>\n",
       "      <td>100270.0994</td>\n",
       "    </tr>\n",
       "    <tr>\n",
       "      <th>19</th>\n",
       "      <td>0.3281</td>\n",
       "      <td>107487.4325</td>\n",
       "      <td>5151.4917</td>\n",
       "      <td>98.1742</td>\n",
       "      <td>0.0007</td>\n",
       "      <td>0.0032</td>\n",
       "      <td>178180.7437</td>\n",
       "      <td>26532.8726</td>\n",
       "      <td>1787.5211</td>\n",
       "      <td>9462.8074</td>\n",
       "      <td>...</td>\n",
       "      <td>55.7818</td>\n",
       "      <td>NaN</td>\n",
       "      <td>0.0010</td>\n",
       "      <td>8626.8181</td>\n",
       "      <td>93111.9409</td>\n",
       "      <td>205859.7870</td>\n",
       "      <td>14506.1261</td>\n",
       "      <td>25886.0052</td>\n",
       "      <td>373.1087</td>\n",
       "      <td>93516.4712</td>\n",
       "    </tr>\n",
       "    <tr>\n",
       "      <th>20</th>\n",
       "      <td>0.3974</td>\n",
       "      <td>55211.6112</td>\n",
       "      <td>7580.2276</td>\n",
       "      <td>95.4076</td>\n",
       "      <td>0.0008</td>\n",
       "      <td>0.0069</td>\n",
       "      <td>208815.5397</td>\n",
       "      <td>17542.3113</td>\n",
       "      <td>484.1760</td>\n",
       "      <td>17610.2920</td>\n",
       "      <td>...</td>\n",
       "      <td>21.8677</td>\n",
       "      <td>NaN</td>\n",
       "      <td>0.0079</td>\n",
       "      <td>7385.8983</td>\n",
       "      <td>92381.6287</td>\n",
       "      <td>189238.1499</td>\n",
       "      <td>15371.7586</td>\n",
       "      <td>25219.3183</td>\n",
       "      <td>383.8769</td>\n",
       "      <td>90631.7625</td>\n",
       "    </tr>\n",
       "    <tr>\n",
       "      <th>21</th>\n",
       "      <td>0.8954</td>\n",
       "      <td>97721.2998</td>\n",
       "      <td>3425.6018</td>\n",
       "      <td>94.3945</td>\n",
       "      <td>0.0018</td>\n",
       "      <td>0.0075</td>\n",
       "      <td>227919.1570</td>\n",
       "      <td>9794.2984</td>\n",
       "      <td>13956.5236</td>\n",
       "      <td>13074.4442</td>\n",
       "      <td>...</td>\n",
       "      <td>407.8674</td>\n",
       "      <td>2086.3053</td>\n",
       "      <td>0.0018</td>\n",
       "      <td>7696.9246</td>\n",
       "      <td>90639.9600</td>\n",
       "      <td>168669.1678</td>\n",
       "      <td>15939.5336</td>\n",
       "      <td>25716.3199</td>\n",
       "      <td>440.8777</td>\n",
       "      <td>57343.0251</td>\n",
       "    </tr>\n",
       "    <tr>\n",
       "      <th>22</th>\n",
       "      <td>10.4862</td>\n",
       "      <td>62359.1260</td>\n",
       "      <td>2541.2621</td>\n",
       "      <td>95.3271</td>\n",
       "      <td>0.0018</td>\n",
       "      <td>0.0090</td>\n",
       "      <td>166286.1235</td>\n",
       "      <td>25465.6282</td>\n",
       "      <td>16706.9163</td>\n",
       "      <td>36614.4598</td>\n",
       "      <td>...</td>\n",
       "      <td>238.9513</td>\n",
       "      <td>1076.8294</td>\n",
       "      <td>0.0277</td>\n",
       "      <td>9175.0976</td>\n",
       "      <td>83690.4150</td>\n",
       "      <td>141409.4505</td>\n",
       "      <td>16024.9806</td>\n",
       "      <td>25440.7487</td>\n",
       "      <td>547.4434</td>\n",
       "      <td>NaN</td>\n",
       "    </tr>\n",
       "    <tr>\n",
       "      <th>23</th>\n",
       "      <td>2.1866</td>\n",
       "      <td>78521.4938</td>\n",
       "      <td>2663.1215</td>\n",
       "      <td>85.0908</td>\n",
       "      <td>0.0025</td>\n",
       "      <td>0.0033</td>\n",
       "      <td>163888.7644</td>\n",
       "      <td>36953.9223</td>\n",
       "      <td>3644.8647</td>\n",
       "      <td>34500.7634</td>\n",
       "      <td>...</td>\n",
       "      <td>389.9385</td>\n",
       "      <td>1689.0438</td>\n",
       "      <td>0.1135</td>\n",
       "      <td>9683.7865</td>\n",
       "      <td>65560.2464</td>\n",
       "      <td>99933.8192</td>\n",
       "      <td>16545.0500</td>\n",
       "      <td>26526.5911</td>\n",
       "      <td>537.8885</td>\n",
       "      <td>NaN</td>\n",
       "    </tr>\n",
       "    <tr>\n",
       "      <th>24</th>\n",
       "      <td>0.0993</td>\n",
       "      <td>61727.4965</td>\n",
       "      <td>3260.9127</td>\n",
       "      <td>104.4759</td>\n",
       "      <td>0.0019</td>\n",
       "      <td>0.0046</td>\n",
       "      <td>304052.1118</td>\n",
       "      <td>28319.1796</td>\n",
       "      <td>132.4348</td>\n",
       "      <td>25668.6621</td>\n",
       "      <td>...</td>\n",
       "      <td>1094.3658</td>\n",
       "      <td>4226.5736</td>\n",
       "      <td>NaN</td>\n",
       "      <td>8534.2690</td>\n",
       "      <td>58732.0501</td>\n",
       "      <td>96092.3728</td>\n",
       "      <td>15508.4513</td>\n",
       "      <td>28595.8805</td>\n",
       "      <td>1855.3282</td>\n",
       "      <td>NaN</td>\n",
       "    </tr>\n",
       "    <tr>\n",
       "      <th>25</th>\n",
       "      <td>0.1981</td>\n",
       "      <td>49451.7788</td>\n",
       "      <td>3448.3304</td>\n",
       "      <td>108.3218</td>\n",
       "      <td>0.0001</td>\n",
       "      <td>0.0085</td>\n",
       "      <td>316332.6944</td>\n",
       "      <td>10880.5685</td>\n",
       "      <td>1251.3559</td>\n",
       "      <td>23593.1103</td>\n",
       "      <td>...</td>\n",
       "      <td>894.7597</td>\n",
       "      <td>3094.3822</td>\n",
       "      <td>0.0003</td>\n",
       "      <td>8098.6538</td>\n",
       "      <td>57297.4606</td>\n",
       "      <td>97338.7352</td>\n",
       "      <td>17632.2119</td>\n",
       "      <td>27309.8016</td>\n",
       "      <td>6706.9530</td>\n",
       "      <td>NaN</td>\n",
       "    </tr>\n",
       "    <tr>\n",
       "      <th>26</th>\n",
       "      <td>0.1475</td>\n",
       "      <td>64146.4440</td>\n",
       "      <td>3528.3000</td>\n",
       "      <td>89.5814</td>\n",
       "      <td>0.0032</td>\n",
       "      <td>0.0091</td>\n",
       "      <td>279326.5124</td>\n",
       "      <td>11907.9743</td>\n",
       "      <td>10517.9590</td>\n",
       "      <td>30562.9013</td>\n",
       "      <td>...</td>\n",
       "      <td>67.0916</td>\n",
       "      <td>1.6324</td>\n",
       "      <td>0.0340</td>\n",
       "      <td>10059.7794</td>\n",
       "      <td>63299.0385</td>\n",
       "      <td>88552.1474</td>\n",
       "      <td>16819.3616</td>\n",
       "      <td>25194.4855</td>\n",
       "      <td>5346.1049</td>\n",
       "      <td>NaN</td>\n",
       "    </tr>\n",
       "    <tr>\n",
       "      <th>27</th>\n",
       "      <td>111.7898</td>\n",
       "      <td>61394.6608</td>\n",
       "      <td>3402.3603</td>\n",
       "      <td>88.4595</td>\n",
       "      <td>0.5584</td>\n",
       "      <td>0.0072</td>\n",
       "      <td>360612.7790</td>\n",
       "      <td>12004.2503</td>\n",
       "      <td>566.2988</td>\n",
       "      <td>46286.1710</td>\n",
       "      <td>...</td>\n",
       "      <td>355.1839</td>\n",
       "      <td>111.8306</td>\n",
       "      <td>0.0971</td>\n",
       "      <td>12064.0240</td>\n",
       "      <td>65634.0054</td>\n",
       "      <td>91224.4737</td>\n",
       "      <td>14743.0146</td>\n",
       "      <td>26691.3840</td>\n",
       "      <td>1096.9882</td>\n",
       "      <td>NaN</td>\n",
       "    </tr>\n",
       "    <tr>\n",
       "      <th>28</th>\n",
       "      <td>44.8703</td>\n",
       "      <td>114949.0866</td>\n",
       "      <td>2464.5715</td>\n",
       "      <td>92.0073</td>\n",
       "      <td>0.2451</td>\n",
       "      <td>0.0088</td>\n",
       "      <td>382039.2885</td>\n",
       "      <td>12227.4854</td>\n",
       "      <td>300.3299</td>\n",
       "      <td>24061.1970</td>\n",
       "      <td>...</td>\n",
       "      <td>1204.0424</td>\n",
       "      <td>24.5768</td>\n",
       "      <td>0.0751</td>\n",
       "      <td>11543.6480</td>\n",
       "      <td>65825.2272</td>\n",
       "      <td>90972.5849</td>\n",
       "      <td>15382.7030</td>\n",
       "      <td>24786.5951</td>\n",
       "      <td>1379.1407</td>\n",
       "      <td>NaN</td>\n",
       "    </tr>\n",
       "    <tr>\n",
       "      <th>29</th>\n",
       "      <td>0.0592</td>\n",
       "      <td>43119.6419</td>\n",
       "      <td>1243.0737</td>\n",
       "      <td>41.2370</td>\n",
       "      <td>0.0166</td>\n",
       "      <td>0.0047</td>\n",
       "      <td>178005.5689</td>\n",
       "      <td>16916.3868</td>\n",
       "      <td>21456.7170</td>\n",
       "      <td>20665.8306</td>\n",
       "      <td>...</td>\n",
       "      <td>10.7650</td>\n",
       "      <td>NaN</td>\n",
       "      <td>0.0014</td>\n",
       "      <td>6470.8423</td>\n",
       "      <td>38482.7439</td>\n",
       "      <td>53216.0086</td>\n",
       "      <td>9403.0275</td>\n",
       "      <td>13953.3612</td>\n",
       "      <td>274.2639</td>\n",
       "      <td>NaN</td>\n",
       "    </tr>\n",
       "  </tbody>\n",
       "</table>\n",
       "<p>12 rows × 40 columns</p>\n",
       "</div>"
      ],
      "text/plain": [
       "err      -1            0          1         2       4       5            8    \\\n",
       "day                                                                            \n",
       "18     0.4301   83716.6279  1346.1358  105.2261  0.0002  0.0006  136814.9852   \n",
       "19     0.3281  107487.4325  5151.4917   98.1742  0.0007  0.0032  178180.7437   \n",
       "20     0.3974   55211.6112  7580.2276   95.4076  0.0008  0.0069  208815.5397   \n",
       "21     0.8954   97721.2998  3425.6018   94.3945  0.0018  0.0075  227919.1570   \n",
       "22    10.4862   62359.1260  2541.2621   95.3271  0.0018  0.0090  166286.1235   \n",
       "23     2.1866   78521.4938  2663.1215   85.0908  0.0025  0.0033  163888.7644   \n",
       "24     0.0993   61727.4965  3260.9127  104.4759  0.0019  0.0046  304052.1118   \n",
       "25     0.1981   49451.7788  3448.3304  108.3218  0.0001  0.0085  316332.6944   \n",
       "26     0.1475   64146.4440  3528.3000   89.5814  0.0032  0.0091  279326.5124   \n",
       "27   111.7898   61394.6608  3402.3603   88.4595  0.5584  0.0072  360612.7790   \n",
       "28    44.8703  114949.0866  2464.5715   92.0073  0.2451  0.0088  382039.2885   \n",
       "29     0.0592   43119.6419  1243.0737   41.2370  0.0166  0.0047  178005.5689   \n",
       "\n",
       "err         9           14          16      ...             106        107  \\\n",
       "day                                         ...                              \n",
       "18   26123.4443   1517.3622   7886.8909     ...        541.1577  1888.2262   \n",
       "19   26532.8726   1787.5211   9462.8074     ...         55.7818        NaN   \n",
       "20   17542.3113    484.1760  17610.2920     ...         21.8677        NaN   \n",
       "21    9794.2984  13956.5236  13074.4442     ...        407.8674  2086.3053   \n",
       "22   25465.6282  16706.9163  36614.4598     ...        238.9513  1076.8294   \n",
       "23   36953.9223   3644.8647  34500.7634     ...        389.9385  1689.0438   \n",
       "24   28319.1796    132.4348  25668.6621     ...       1094.3658  4226.5736   \n",
       "25   10880.5685   1251.3559  23593.1103     ...        894.7597  3094.3822   \n",
       "26   11907.9743  10517.9590  30562.9013     ...         67.0916     1.6324   \n",
       "27   12004.2503    566.2988  46286.1710     ...        355.1839   111.8306   \n",
       "28   12227.4854    300.3299  24061.1970     ...       1204.0424    24.5768   \n",
       "29   16916.3868  21456.7170  20665.8306     ...         10.7650        NaN   \n",
       "\n",
       "err     109         151         152          153         154         155  \\\n",
       "day                                                                        \n",
       "18   0.0084   9017.7921  93610.1366  216176.2625  12577.3042  27163.0100   \n",
       "19   0.0010   8626.8181  93111.9409  205859.7870  14506.1261  25886.0052   \n",
       "20   0.0079   7385.8983  92381.6287  189238.1499  15371.7586  25219.3183   \n",
       "21   0.0018   7696.9246  90639.9600  168669.1678  15939.5336  25716.3199   \n",
       "22   0.0277   9175.0976  83690.4150  141409.4505  16024.9806  25440.7487   \n",
       "23   0.1135   9683.7865  65560.2464   99933.8192  16545.0500  26526.5911   \n",
       "24      NaN   8534.2690  58732.0501   96092.3728  15508.4513  28595.8805   \n",
       "25   0.0003   8098.6538  57297.4606   97338.7352  17632.2119  27309.8016   \n",
       "26   0.0340  10059.7794  63299.0385   88552.1474  16819.3616  25194.4855   \n",
       "27   0.0971  12064.0240  65634.0054   91224.4737  14743.0146  26691.3840   \n",
       "28   0.0751  11543.6480  65825.2272   90972.5849  15382.7030  24786.5951   \n",
       "29   0.0014   6470.8423  38482.7439   53216.0086   9403.0275  13953.3612   \n",
       "\n",
       "err        159          220  \n",
       "day                          \n",
       "18    395.2609  100270.0994  \n",
       "19    373.1087   93516.4712  \n",
       "20    383.8769   90631.7625  \n",
       "21    440.8777   57343.0251  \n",
       "22    547.4434          NaN  \n",
       "23    537.8885          NaN  \n",
       "24   1855.3282          NaN  \n",
       "25   6706.9530          NaN  \n",
       "26   5346.1049          NaN  \n",
       "27   1096.9882          NaN  \n",
       "28   1379.1407          NaN  \n",
       "29    274.2639          NaN  \n",
       "\n",
       "[12 rows x 40 columns]"
      ]
     },
     "execution_count": 152,
     "metadata": {},
     "output_type": "execute_result"
    }
   ],
   "source": [
    "temp=join.query('phase ==\"argumentor\"').groupby(['day','err'])['pv'].sum().div(10000).reset_index()\n",
    "p=temp.pivot(index='day', columns='err', values='pv')\n",
    "\n",
    "temp=join.groupby(['day','err'])['pv'].sum().div(10000).reset_index()\n",
    "temp=temp.pivot(index='day', columns='err', values='pv')\n",
    "temp"
   ]
  }
 ],
 "metadata": {
  "kernelspec": {
   "display_name": "Python 2",
   "language": "python",
   "name": "python2"
  },
  "language_info": {
   "codemirror_mode": {
    "name": "ipython",
    "version": 2
   },
   "file_extension": ".py",
   "mimetype": "text/x-python",
   "name": "python",
   "nbconvert_exporter": "python",
   "pygments_lexer": "ipython2",
   "version": "2.7.11"
  }
 },
 "nbformat": 4,
 "nbformat_minor": 0
}
