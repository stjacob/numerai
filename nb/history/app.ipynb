{
 "cells": [
  {
   "cell_type": "code",
   "execution_count": 1,
   "metadata": {
    "collapsed": false
   },
   "outputs": [
    {
     "name": "stdout",
     "output_type": "stream",
     "text": [
      "Populating the interactive namespace from numpy and matplotlib\n"
     ]
    }
   ],
   "source": [
    "import pandas as pd\n",
    "import matplotlib.pyplot as plt\n",
    "import matplotlib.patches as mpatches\n",
    "from matplotlib.font_manager import FontProperties\n",
    "\n",
    "# matplotlib.style.use('ggplot')\n",
    "import matplotlib\n",
    "# matplotlib.style.use('ggplot')\n",
    "#matplotlib.style.use('default')\n",
    "from numpy import *\n",
    "import numpy as np\n",
    "%matplotlib inline\n",
    "%pylab inline\n",
    "pylab.rcParams['figure.figsize'] = (24, 18)\n",
    "import subprocess,shlex,sys,select,re,StringIO\n",
    "def readHive(sql):\n",
    "    text = ''\n",
    "    err = ''\n",
    "    cmd = shlex.split('hive -e '+ '\"set mapreduce.job.queuename=zampda_job;set hive.cli.print.header=true;'+sql+'\"')\n",
    "    print >>sys.stderr, cmd\n",
    "    sys.stderr.flush()\n",
    "    proc = subprocess.Popen(cmd, bufsize=0, stdout=subprocess.PIPE, stderr=subprocess.PIPE)\n",
    "    while proc.poll() is None:\n",
    "        ins, outs, errs = select.select([proc.stdout, proc.stderr], [], [])\n",
    "        if proc.stdout in ins:\n",
    "            text += proc.stdout.read()\n",
    "        if proc.stderr in ins:\n",
    "            c = proc.stderr.read(1)\n",
    "            if c == '\\n':\n",
    "                print >>sys.stderr, err\n",
    "                sys.stderr.flush()\n",
    "                err = ''\n",
    "            else:\n",
    "                err += c\n",
    "    text += proc.stdout.read()\n",
    "    print >>sys.stderr, proc.stderr.read()\n",
    "    sys.stderr.flush()\n",
    "    header, content = text.split('\\n',1)\n",
    "    header = re.sub('\\w*\\.','', header)\n",
    "    return pd.read_table(StringIO.StringIO(header+'\\n'+content), error_bad_lines = False)\n",
    "\n",
    "import socket\n",
    "import struct\n",
    "\n",
    "def ip(x):\n",
    "    lint=long(x)\n",
    "    return socket.inet_ntoa(struct.pack(\"!I\", lint))\n",
    "\n",
    "import time\n",
    "def ts(x):\n",
    "    timeStamp = long(x)\n",
    "    timeArray = time.localtime(timeStamp)\n",
    "    return time.strftime(\"%Y-%m-%d %H:%M:%S\", timeArray)\n",
    "\n",
    "\n",
    "\n",
    "def f(x):\n",
    "    x=str(x)\n",
    "    tmp=x.split(\"//\")\n",
    "    if len(tmp)<=1:\n",
    "        return x\n",
    "    return '.'.join(x.strip().split('//')[1].split('/')[0].split('.')[-3:])\n",
    "def spam_flag(x):\n",
    "    if x==0:\n",
    "        return \"user\"\n",
    "    elif x==1:\n",
    "        return \"ip\"\n",
    "    elif x==2:\n",
    "        return \"domain\"\n",
    "    elif x==3:\n",
    "        return \"appid\"\n",
    "    elif x==5:\n",
    "        return \"request_id\"\n",
    "    else:\n",
    "        return \"normal\"\n",
    "def vendor_name(x):\n",
    "    if x==1:\n",
    "        return \"Adx\"\n",
    "    elif x==5:\n",
    "        return \"Admob\"\n",
    "    elif x==2:\n",
    "        return \"Tanx\"\n",
    "    elif x==15:\n",
    "        return \"TanxMob\"\n",
    "    elif x==9:\n",
    "        return \"Bdx\"\n",
    "    elif x==21:\n",
    "        return \"BdxMob\"\n",
    "    elif x==24:\n",
    "        return \"GDTMob\"\n",
    "    elif x==31:\n",
    "        return \"GDT\"\n",
    "    else:\n",
    "        return \"other\"\n",
    "    \n",
    "def preq(df):\n",
    "    print \"request_id-----------------\"\n",
    "    print df['request_id'].count()\n",
    "    print df['request_id'].nunique()\n",
    "def pzid(df):\n",
    "    print \"pid-----------------\"\n",
    "    print df['pid'].count()\n",
    "    print df['pid'].nunique()\n",
    "def pip(df):\n",
    "    print \"ip-----------------\"\n",
    "    print df['ip'].count()\n",
    "    print df['ip'].nunique()\n",
    "def pua(df):\n",
    "    print \"ua-----------------\"\n",
    "    print df['ua'].count()\n",
    "    print df['ua'].nunique()"
   ]
  },
  {
   "cell_type": "code",
   "execution_count": 3,
   "metadata": {
    "collapsed": false
   },
   "outputs": [
    {
     "name": "stderr",
     "output_type": "stream",
     "text": [
      "['hive', '-e', \"set mapreduce.job.queuename=zampda_job;set hive.cli.print.header=true;select * from fraud_free.dclkv2 where year='2016' and month='12' and day='20' and vendor_id=1 and company_id='587'\"]\n",
      "\n",
      "Logging initialized using configuration in file:/var/bh/lib/apache-hive-1.2.1-bin/conf/hive-log4j.properties\n",
      "OK\n",
      " Fetched: 1927 row(s)\n",
      "\n"
     ]
    }
   ],
   "source": [
    "c=readHive(\"select * from fraud_free.dclkv2 where year='2016' and month='12' and day='20' and vendor_id=1 and company_id='587'\")"
   ]
  },
  {
   "cell_type": "code",
   "execution_count": 12,
   "metadata": {
    "collapsed": true
   },
   "outputs": [],
   "source": [
    "c['tip']=c['ip'].apply(ip)"
   ]
  },
  {
   "cell_type": "code",
   "execution_count": null,
   "metadata": {
    "collapsed": true
   },
   "outputs": [],
   "source": []
  },
  {
   "cell_type": "code",
   "execution_count": 22,
   "metadata": {
    "collapsed": false
   },
   "outputs": [
    {
     "data": {
      "text/plain": [
       "106.75.29.15    570\n",
       "106.75.29.17    521\n",
       "106.75.29.16    506\n",
       "106.75.29.14    218\n",
       "Name: tip, dtype: int64"
      ]
     },
     "execution_count": 22,
     "metadata": {},
     "output_type": "execute_result"
    }
   ],
   "source": [
    "c[c['ua'].str.contains('python-requests')]['tip'].value_counts()"
   ]
  },
  {
   "cell_type": "code",
   "execution_count": 41,
   "metadata": {
    "collapsed": false
   },
   "outputs": [
    {
     "name": "stderr",
     "output_type": "stream",
     "text": [
      "['hive', '-e', 'set mapreduce.job.queuename=zampda_job;set hive.cli.print.header=true;select * from fraud_free.dclkv2 where year=2016 and month=12 and day=27 ']\n",
      "\n",
      "Logging initialized using configuration in file:/var/bh/lib/apache-hive-1.2.1-bin/conf/hive-log4j.properties\n",
      "OK\n",
      "conds, Fetched: 157211 row(s)\n",
      "\n"
     ]
    }
   ],
   "source": [
    "brod=readHive('select * from fraud_free.dclkv2 where year=2016 and month=12 and day=27 ')"
   ]
  },
  {
   "cell_type": "code",
   "execution_count": null,
   "metadata": {
    "collapsed": true
   },
   "outputs": [],
   "source": []
  },
  {
   "cell_type": "code",
   "execution_count": 40,
   "metadata": {
    "collapsed": false
   },
   "outputs": [
    {
     "data": {
      "text/plain": [
       "hour  fraud_flag\n",
       "13    5.0            81\n",
       "14    5.0           152\n",
       "15    5.0           156\n",
       "dtype: int64"
      ]
     },
     "execution_count": 40,
     "metadata": {},
     "output_type": "execute_result"
    }
   ],
   "source": [
    "brod[brod['ua'].str.startswith('python-requests')].groupby(['hour','fraud_flag']).size()"
   ]
  },
  {
   "cell_type": "code",
   "execution_count": null,
   "metadata": {
    "collapsed": true
   },
   "outputs": [],
   "source": []
  },
  {
   "cell_type": "code",
   "execution_count": null,
   "metadata": {
    "collapsed": true
   },
   "outputs": [],
   "source": []
  },
  {
   "cell_type": "code",
   "execution_count": null,
   "metadata": {
    "collapsed": true
   },
   "outputs": [],
   "source": []
  },
  {
   "cell_type": "code",
   "execution_count": null,
   "metadata": {
    "collapsed": true
   },
   "outputs": [],
   "source": []
  },
  {
   "cell_type": "code",
   "execution_count": null,
   "metadata": {
    "collapsed": true
   },
   "outputs": [],
   "source": []
  },
  {
   "cell_type": "code",
   "execution_count": null,
   "metadata": {
    "collapsed": true
   },
   "outputs": [],
   "source": []
  },
  {
   "cell_type": "code",
   "execution_count": null,
   "metadata": {
    "collapsed": true
   },
   "outputs": [],
   "source": []
  },
  {
   "cell_type": "code",
   "execution_count": null,
   "metadata": {
    "collapsed": true
   },
   "outputs": [],
   "source": []
  },
  {
   "cell_type": "code",
   "execution_count": null,
   "metadata": {
    "collapsed": true
   },
   "outputs": [],
   "source": []
  },
  {
   "cell_type": "code",
   "execution_count": null,
   "metadata": {
    "collapsed": true
   },
   "outputs": [],
   "source": []
  },
  {
   "cell_type": "code",
   "execution_count": null,
   "metadata": {
    "collapsed": true
   },
   "outputs": [],
   "source": []
  },
  {
   "cell_type": "code",
   "execution_count": null,
   "metadata": {
    "collapsed": true
   },
   "outputs": [],
   "source": []
  },
  {
   "cell_type": "code",
   "execution_count": null,
   "metadata": {
    "collapsed": true
   },
   "outputs": [],
   "source": []
  },
  {
   "cell_type": "code",
   "execution_count": null,
   "metadata": {
    "collapsed": true
   },
   "outputs": [],
   "source": []
  },
  {
   "cell_type": "code",
   "execution_count": null,
   "metadata": {
    "collapsed": true
   },
   "outputs": [],
   "source": []
  },
  {
   "cell_type": "code",
   "execution_count": null,
   "metadata": {
    "collapsed": true
   },
   "outputs": [],
   "source": []
  },
  {
   "cell_type": "code",
   "execution_count": null,
   "metadata": {
    "collapsed": true
   },
   "outputs": [],
   "source": []
  },
  {
   "cell_type": "code",
   "execution_count": null,
   "metadata": {
    "collapsed": true
   },
   "outputs": [],
   "source": []
  },
  {
   "cell_type": "code",
   "execution_count": null,
   "metadata": {
    "collapsed": true
   },
   "outputs": [],
   "source": []
  },
  {
   "cell_type": "code",
   "execution_count": null,
   "metadata": {
    "collapsed": true
   },
   "outputs": [],
   "source": []
  },
  {
   "cell_type": "code",
   "execution_count": null,
   "metadata": {
    "collapsed": true
   },
   "outputs": [],
   "source": []
  },
  {
   "cell_type": "code",
   "execution_count": null,
   "metadata": {
    "collapsed": true
   },
   "outputs": [],
   "source": []
  },
  {
   "cell_type": "code",
   "execution_count": null,
   "metadata": {
    "collapsed": true
   },
   "outputs": [],
   "source": []
  },
  {
   "cell_type": "code",
   "execution_count": null,
   "metadata": {
    "collapsed": true
   },
   "outputs": [],
   "source": []
  },
  {
   "cell_type": "code",
   "execution_count": null,
   "metadata": {
    "collapsed": true
   },
   "outputs": [],
   "source": []
  },
  {
   "cell_type": "code",
   "execution_count": null,
   "metadata": {
    "collapsed": true
   },
   "outputs": [],
   "source": []
  },
  {
   "cell_type": "code",
   "execution_count": null,
   "metadata": {
    "collapsed": true
   },
   "outputs": [],
   "source": []
  },
  {
   "cell_type": "code",
   "execution_count": null,
   "metadata": {
    "collapsed": true
   },
   "outputs": [],
   "source": []
  },
  {
   "cell_type": "code",
   "execution_count": null,
   "metadata": {
    "collapsed": true
   },
   "outputs": [],
   "source": []
  },
  {
   "cell_type": "code",
   "execution_count": null,
   "metadata": {
    "collapsed": true
   },
   "outputs": [],
   "source": []
  },
  {
   "cell_type": "code",
   "execution_count": null,
   "metadata": {
    "collapsed": true
   },
   "outputs": [],
   "source": []
  },
  {
   "cell_type": "code",
   "execution_count": 18,
   "metadata": {
    "collapsed": true
   },
   "outputs": [],
   "source": [
    "lspam=pd.read_table('/home/changbin/20161115spams',sep='\\t',header=None,names=['vendor','spam','l'])\n",
    "rspam=pd.read_table('/home/changbin/20161202spams',sep='\\t',header=None,names=['vendor','spam','r'])"
   ]
  },
  {
   "cell_type": "code",
   "execution_count": 19,
   "metadata": {
    "collapsed": false
   },
   "outputs": [],
   "source": [
    "l=lspam.set_index(['vendor','spam'])\n",
    "r=rspam.set_index(['vendor','spam'])"
   ]
  },
  {
   "cell_type": "code",
   "execution_count": 26,
   "metadata": {
    "collapsed": false
   },
   "outputs": [],
   "source": [
    "res=pd.concat([l,r],axis=[1,2])\n",
    "res['diff']=res['r']-res['l']\n",
    "res['ratio']=(res['r']/res['l']-1)*100"
   ]
  },
  {
   "cell_type": "code",
   "execution_count": 33,
   "metadata": {
    "collapsed": false
   },
   "outputs": [
    {
     "data": {
      "text/html": [
       "<div>\n",
       "<table border=\"1\" class=\"dataframe\">\n",
       "  <thead>\n",
       "    <tr style=\"text-align: right;\">\n",
       "      <th></th>\n",
       "      <th></th>\n",
       "      <th>l</th>\n",
       "      <th>r</th>\n",
       "      <th>diff</th>\n",
       "      <th>ratio</th>\n",
       "    </tr>\n",
       "    <tr>\n",
       "      <th>vendor</th>\n",
       "      <th>spam</th>\n",
       "      <th></th>\n",
       "      <th></th>\n",
       "      <th></th>\n",
       "      <th></th>\n",
       "    </tr>\n",
       "  </thead>\n",
       "  <tbody>\n",
       "    <tr>\n",
       "      <th rowspan=\"16\" valign=\"top\">1</th>\n",
       "      <th>2</th>\n",
       "      <td>3003853.0</td>\n",
       "      <td>4289347.0</td>\n",
       "      <td>1285494.0</td>\n",
       "      <td>42.794837</td>\n",
       "    </tr>\n",
       "    <tr>\n",
       "      <th>8</th>\n",
       "      <td>2560725.0</td>\n",
       "      <td>2959768.0</td>\n",
       "      <td>399043.0</td>\n",
       "      <td>15.583204</td>\n",
       "    </tr>\n",
       "    <tr>\n",
       "      <th>9</th>\n",
       "      <td>7275337.0</td>\n",
       "      <td>2454153.0</td>\n",
       "      <td>-4821184.0</td>\n",
       "      <td>-66.267501</td>\n",
       "    </tr>\n",
       "    <tr>\n",
       "      <th>10</th>\n",
       "      <td>203828.0</td>\n",
       "      <td>207641.0</td>\n",
       "      <td>3813.0</td>\n",
       "      <td>1.870695</td>\n",
       "    </tr>\n",
       "    <tr>\n",
       "      <th>13</th>\n",
       "      <td>NaN</td>\n",
       "      <td>65845.0</td>\n",
       "      <td>NaN</td>\n",
       "      <td>NaN</td>\n",
       "    </tr>\n",
       "    <tr>\n",
       "      <th>14</th>\n",
       "      <td>NaN</td>\n",
       "      <td>23.0</td>\n",
       "      <td>NaN</td>\n",
       "      <td>NaN</td>\n",
       "    </tr>\n",
       "    <tr>\n",
       "      <th>15</th>\n",
       "      <td>755709.0</td>\n",
       "      <td>907733.0</td>\n",
       "      <td>152024.0</td>\n",
       "      <td>20.116738</td>\n",
       "    </tr>\n",
       "    <tr>\n",
       "      <th>16</th>\n",
       "      <td>782638.0</td>\n",
       "      <td>955563.0</td>\n",
       "      <td>172925.0</td>\n",
       "      <td>22.095145</td>\n",
       "    </tr>\n",
       "    <tr>\n",
       "      <th>18</th>\n",
       "      <td>17.0</td>\n",
       "      <td>5.0</td>\n",
       "      <td>-12.0</td>\n",
       "      <td>-70.588235</td>\n",
       "    </tr>\n",
       "    <tr>\n",
       "      <th>19</th>\n",
       "      <td>891891.0</td>\n",
       "      <td>671208.0</td>\n",
       "      <td>-220683.0</td>\n",
       "      <td>-24.743270</td>\n",
       "    </tr>\n",
       "    <tr>\n",
       "      <th>20</th>\n",
       "      <td>891891.0</td>\n",
       "      <td>671208.0</td>\n",
       "      <td>-220683.0</td>\n",
       "      <td>-24.743270</td>\n",
       "    </tr>\n",
       "    <tr>\n",
       "      <th>21</th>\n",
       "      <td>18364.0</td>\n",
       "      <td>18544.0</td>\n",
       "      <td>180.0</td>\n",
       "      <td>0.980179</td>\n",
       "    </tr>\n",
       "    <tr>\n",
       "      <th>25</th>\n",
       "      <td>4405.0</td>\n",
       "      <td>7390.0</td>\n",
       "      <td>2985.0</td>\n",
       "      <td>67.763905</td>\n",
       "    </tr>\n",
       "    <tr>\n",
       "      <th>26</th>\n",
       "      <td>1849834.0</td>\n",
       "      <td>1089517.0</td>\n",
       "      <td>-760317.0</td>\n",
       "      <td>-41.101904</td>\n",
       "    </tr>\n",
       "    <tr>\n",
       "      <th>33</th>\n",
       "      <td>44625918.0</td>\n",
       "      <td>33699476.0</td>\n",
       "      <td>-10926442.0</td>\n",
       "      <td>-24.484520</td>\n",
       "    </tr>\n",
       "    <tr>\n",
       "      <th>36</th>\n",
       "      <td>284748.0</td>\n",
       "      <td>337830.0</td>\n",
       "      <td>53082.0</td>\n",
       "      <td>18.641746</td>\n",
       "    </tr>\n",
       "    <tr>\n",
       "      <th rowspan=\"14\" valign=\"top\">2</th>\n",
       "      <th>2</th>\n",
       "      <td>20787624.0</td>\n",
       "      <td>70922912.0</td>\n",
       "      <td>50135288.0</td>\n",
       "      <td>241.178540</td>\n",
       "    </tr>\n",
       "    <tr>\n",
       "      <th>5</th>\n",
       "      <td>125.0</td>\n",
       "      <td>NaN</td>\n",
       "      <td>NaN</td>\n",
       "      <td>NaN</td>\n",
       "    </tr>\n",
       "    <tr>\n",
       "      <th>8</th>\n",
       "      <td>3820215.0</td>\n",
       "      <td>13838368.0</td>\n",
       "      <td>10018153.0</td>\n",
       "      <td>262.240555</td>\n",
       "    </tr>\n",
       "    <tr>\n",
       "      <th>9</th>\n",
       "      <td>4181916.0</td>\n",
       "      <td>11249499.0</td>\n",
       "      <td>7067583.0</td>\n",
       "      <td>169.003466</td>\n",
       "    </tr>\n",
       "    <tr>\n",
       "      <th>10</th>\n",
       "      <td>86103.0</td>\n",
       "      <td>2111261.0</td>\n",
       "      <td>2025158.0</td>\n",
       "      <td>2352.017932</td>\n",
       "    </tr>\n",
       "    <tr>\n",
       "      <th>14</th>\n",
       "      <td>188.0</td>\n",
       "      <td>6457.0</td>\n",
       "      <td>6269.0</td>\n",
       "      <td>3334.574468</td>\n",
       "    </tr>\n",
       "    <tr>\n",
       "      <th>15</th>\n",
       "      <td>1263957.0</td>\n",
       "      <td>5583768.0</td>\n",
       "      <td>4319811.0</td>\n",
       "      <td>341.768826</td>\n",
       "    </tr>\n",
       "    <tr>\n",
       "      <th>16</th>\n",
       "      <td>1364581.0</td>\n",
       "      <td>5656528.0</td>\n",
       "      <td>4291947.0</td>\n",
       "      <td>314.524898</td>\n",
       "    </tr>\n",
       "    <tr>\n",
       "      <th>18</th>\n",
       "      <td>130.0</td>\n",
       "      <td>3609.0</td>\n",
       "      <td>3479.0</td>\n",
       "      <td>2676.153846</td>\n",
       "    </tr>\n",
       "    <tr>\n",
       "      <th>19</th>\n",
       "      <td>6311201.0</td>\n",
       "      <td>24352989.0</td>\n",
       "      <td>18041788.0</td>\n",
       "      <td>285.869330</td>\n",
       "    </tr>\n",
       "    <tr>\n",
       "      <th>20</th>\n",
       "      <td>2363941.0</td>\n",
       "      <td>10026330.0</td>\n",
       "      <td>7662389.0</td>\n",
       "      <td>324.136220</td>\n",
       "    </tr>\n",
       "    <tr>\n",
       "      <th>21</th>\n",
       "      <td>226350.0</td>\n",
       "      <td>1577209.0</td>\n",
       "      <td>1350859.0</td>\n",
       "      <td>596.800972</td>\n",
       "    </tr>\n",
       "    <tr>\n",
       "      <th>25</th>\n",
       "      <td>629669.0</td>\n",
       "      <td>909689.0</td>\n",
       "      <td>280020.0</td>\n",
       "      <td>44.470984</td>\n",
       "    </tr>\n",
       "    <tr>\n",
       "      <th>26</th>\n",
       "      <td>5009141.0</td>\n",
       "      <td>13714235.0</td>\n",
       "      <td>8705094.0</td>\n",
       "      <td>173.784168</td>\n",
       "    </tr>\n",
       "    <tr>\n",
       "      <th>...</th>\n",
       "      <th>...</th>\n",
       "      <td>...</td>\n",
       "      <td>...</td>\n",
       "      <td>...</td>\n",
       "      <td>...</td>\n",
       "    </tr>\n",
       "    <tr>\n",
       "      <th rowspan=\"11\" valign=\"top\">24</th>\n",
       "      <th>12</th>\n",
       "      <td>3518215.0</td>\n",
       "      <td>1420890.0</td>\n",
       "      <td>-2097325.0</td>\n",
       "      <td>-59.613327</td>\n",
       "    </tr>\n",
       "    <tr>\n",
       "      <th>14</th>\n",
       "      <td>45.0</td>\n",
       "      <td>18.0</td>\n",
       "      <td>-27.0</td>\n",
       "      <td>-60.000000</td>\n",
       "    </tr>\n",
       "    <tr>\n",
       "      <th>15</th>\n",
       "      <td>7874702.0</td>\n",
       "      <td>243012.0</td>\n",
       "      <td>-7631690.0</td>\n",
       "      <td>-96.914017</td>\n",
       "    </tr>\n",
       "    <tr>\n",
       "      <th>16</th>\n",
       "      <td>6439852.0</td>\n",
       "      <td>217807.0</td>\n",
       "      <td>-6222045.0</td>\n",
       "      <td>-96.617826</td>\n",
       "    </tr>\n",
       "    <tr>\n",
       "      <th>18</th>\n",
       "      <td>2749.0</td>\n",
       "      <td>NaN</td>\n",
       "      <td>NaN</td>\n",
       "      <td>NaN</td>\n",
       "    </tr>\n",
       "    <tr>\n",
       "      <th>19</th>\n",
       "      <td>19571181.0</td>\n",
       "      <td>1909337.0</td>\n",
       "      <td>-17661844.0</td>\n",
       "      <td>-90.244140</td>\n",
       "    </tr>\n",
       "    <tr>\n",
       "      <th>20</th>\n",
       "      <td>6975191.0</td>\n",
       "      <td>322838.0</td>\n",
       "      <td>-6652353.0</td>\n",
       "      <td>-95.371625</td>\n",
       "    </tr>\n",
       "    <tr>\n",
       "      <th>25</th>\n",
       "      <td>970287.0</td>\n",
       "      <td>30079.0</td>\n",
       "      <td>-940208.0</td>\n",
       "      <td>-96.899989</td>\n",
       "    </tr>\n",
       "    <tr>\n",
       "      <th>26</th>\n",
       "      <td>17851165.0</td>\n",
       "      <td>7312196.0</td>\n",
       "      <td>-10538969.0</td>\n",
       "      <td>-59.037990</td>\n",
       "    </tr>\n",
       "    <tr>\n",
       "      <th>28</th>\n",
       "      <td>305.0</td>\n",
       "      <td>NaN</td>\n",
       "      <td>NaN</td>\n",
       "      <td>NaN</td>\n",
       "    </tr>\n",
       "    <tr>\n",
       "      <th>33</th>\n",
       "      <td>21367010.0</td>\n",
       "      <td>3152693.0</td>\n",
       "      <td>-18214317.0</td>\n",
       "      <td>-85.245044</td>\n",
       "    </tr>\n",
       "    <tr>\n",
       "      <th rowspan=\"10\" valign=\"top\">31</th>\n",
       "      <th>5</th>\n",
       "      <td>43.0</td>\n",
       "      <td>NaN</td>\n",
       "      <td>NaN</td>\n",
       "      <td>NaN</td>\n",
       "    </tr>\n",
       "    <tr>\n",
       "      <th>8</th>\n",
       "      <td>591337.0</td>\n",
       "      <td>NaN</td>\n",
       "      <td>NaN</td>\n",
       "      <td>NaN</td>\n",
       "    </tr>\n",
       "    <tr>\n",
       "      <th>9</th>\n",
       "      <td>436624.0</td>\n",
       "      <td>500.0</td>\n",
       "      <td>-436124.0</td>\n",
       "      <td>-99.885485</td>\n",
       "    </tr>\n",
       "    <tr>\n",
       "      <th>15</th>\n",
       "      <td>5077850.0</td>\n",
       "      <td>41.0</td>\n",
       "      <td>-5077809.0</td>\n",
       "      <td>-99.999193</td>\n",
       "    </tr>\n",
       "    <tr>\n",
       "      <th>16</th>\n",
       "      <td>7092054.0</td>\n",
       "      <td>39.0</td>\n",
       "      <td>-7092015.0</td>\n",
       "      <td>-99.999450</td>\n",
       "    </tr>\n",
       "    <tr>\n",
       "      <th>19</th>\n",
       "      <td>9918517.0</td>\n",
       "      <td>10044.0</td>\n",
       "      <td>-9908473.0</td>\n",
       "      <td>-99.898735</td>\n",
       "    </tr>\n",
       "    <tr>\n",
       "      <th>20</th>\n",
       "      <td>2928862.0</td>\n",
       "      <td>4216.0</td>\n",
       "      <td>-2924646.0</td>\n",
       "      <td>-99.856053</td>\n",
       "    </tr>\n",
       "    <tr>\n",
       "      <th>25</th>\n",
       "      <td>338427.0</td>\n",
       "      <td>3.0</td>\n",
       "      <td>-338424.0</td>\n",
       "      <td>-99.999114</td>\n",
       "    </tr>\n",
       "    <tr>\n",
       "      <th>26</th>\n",
       "      <td>46198065.0</td>\n",
       "      <td>6045.0</td>\n",
       "      <td>-46192020.0</td>\n",
       "      <td>-99.986915</td>\n",
       "    </tr>\n",
       "    <tr>\n",
       "      <th>33</th>\n",
       "      <td>18389670.0</td>\n",
       "      <td>32925.0</td>\n",
       "      <td>-18356745.0</td>\n",
       "      <td>-99.820959</td>\n",
       "    </tr>\n",
       "    <tr>\n",
       "      <th>38</th>\n",
       "      <th>2</th>\n",
       "      <td>843.0</td>\n",
       "      <td>NaN</td>\n",
       "      <td>NaN</td>\n",
       "      <td>NaN</td>\n",
       "    </tr>\n",
       "    <tr>\n",
       "      <th rowspan=\"8\" valign=\"top\">57</th>\n",
       "      <th>8</th>\n",
       "      <td>12951.0</td>\n",
       "      <td>NaN</td>\n",
       "      <td>NaN</td>\n",
       "      <td>NaN</td>\n",
       "    </tr>\n",
       "    <tr>\n",
       "      <th>9</th>\n",
       "      <td>20588.0</td>\n",
       "      <td>NaN</td>\n",
       "      <td>NaN</td>\n",
       "      <td>NaN</td>\n",
       "    </tr>\n",
       "    <tr>\n",
       "      <th>15</th>\n",
       "      <td>88497.0</td>\n",
       "      <td>NaN</td>\n",
       "      <td>NaN</td>\n",
       "      <td>NaN</td>\n",
       "    </tr>\n",
       "    <tr>\n",
       "      <th>16</th>\n",
       "      <td>88497.0</td>\n",
       "      <td>NaN</td>\n",
       "      <td>NaN</td>\n",
       "      <td>NaN</td>\n",
       "    </tr>\n",
       "    <tr>\n",
       "      <th>19</th>\n",
       "      <td>222636.0</td>\n",
       "      <td>NaN</td>\n",
       "      <td>NaN</td>\n",
       "      <td>NaN</td>\n",
       "    </tr>\n",
       "    <tr>\n",
       "      <th>20</th>\n",
       "      <td>197037.0</td>\n",
       "      <td>NaN</td>\n",
       "      <td>NaN</td>\n",
       "      <td>NaN</td>\n",
       "    </tr>\n",
       "    <tr>\n",
       "      <th>26</th>\n",
       "      <td>51553.0</td>\n",
       "      <td>NaN</td>\n",
       "      <td>NaN</td>\n",
       "      <td>NaN</td>\n",
       "    </tr>\n",
       "    <tr>\n",
       "      <th>33</th>\n",
       "      <td>89078.0</td>\n",
       "      <td>NaN</td>\n",
       "      <td>NaN</td>\n",
       "      <td>NaN</td>\n",
       "    </tr>\n",
       "  </tbody>\n",
       "</table>\n",
       "<p>191 rows × 4 columns</p>\n",
       "</div>"
      ],
      "text/plain": [
       "                      l           r        diff        ratio\n",
       "vendor spam                                                 \n",
       "1      2      3003853.0   4289347.0   1285494.0    42.794837\n",
       "       8      2560725.0   2959768.0    399043.0    15.583204\n",
       "       9      7275337.0   2454153.0  -4821184.0   -66.267501\n",
       "       10      203828.0    207641.0      3813.0     1.870695\n",
       "       13           NaN     65845.0         NaN          NaN\n",
       "       14           NaN        23.0         NaN          NaN\n",
       "       15      755709.0    907733.0    152024.0    20.116738\n",
       "       16      782638.0    955563.0    172925.0    22.095145\n",
       "       18          17.0         5.0       -12.0   -70.588235\n",
       "       19      891891.0    671208.0   -220683.0   -24.743270\n",
       "       20      891891.0    671208.0   -220683.0   -24.743270\n",
       "       21       18364.0     18544.0       180.0     0.980179\n",
       "       25        4405.0      7390.0      2985.0    67.763905\n",
       "       26     1849834.0   1089517.0   -760317.0   -41.101904\n",
       "       33    44625918.0  33699476.0 -10926442.0   -24.484520\n",
       "       36      284748.0    337830.0     53082.0    18.641746\n",
       "2      2     20787624.0  70922912.0  50135288.0   241.178540\n",
       "       5          125.0         NaN         NaN          NaN\n",
       "       8      3820215.0  13838368.0  10018153.0   262.240555\n",
       "       9      4181916.0  11249499.0   7067583.0   169.003466\n",
       "       10       86103.0   2111261.0   2025158.0  2352.017932\n",
       "       14         188.0      6457.0      6269.0  3334.574468\n",
       "       15     1263957.0   5583768.0   4319811.0   341.768826\n",
       "       16     1364581.0   5656528.0   4291947.0   314.524898\n",
       "       18         130.0      3609.0      3479.0  2676.153846\n",
       "       19     6311201.0  24352989.0  18041788.0   285.869330\n",
       "       20     2363941.0  10026330.0   7662389.0   324.136220\n",
       "       21      226350.0   1577209.0   1350859.0   596.800972\n",
       "       25      629669.0    909689.0    280020.0    44.470984\n",
       "       26     5009141.0  13714235.0   8705094.0   173.784168\n",
       "...                 ...         ...         ...          ...\n",
       "24     12     3518215.0   1420890.0  -2097325.0   -59.613327\n",
       "       14          45.0        18.0       -27.0   -60.000000\n",
       "       15     7874702.0    243012.0  -7631690.0   -96.914017\n",
       "       16     6439852.0    217807.0  -6222045.0   -96.617826\n",
       "       18        2749.0         NaN         NaN          NaN\n",
       "       19    19571181.0   1909337.0 -17661844.0   -90.244140\n",
       "       20     6975191.0    322838.0  -6652353.0   -95.371625\n",
       "       25      970287.0     30079.0   -940208.0   -96.899989\n",
       "       26    17851165.0   7312196.0 -10538969.0   -59.037990\n",
       "       28         305.0         NaN         NaN          NaN\n",
       "       33    21367010.0   3152693.0 -18214317.0   -85.245044\n",
       "31     5           43.0         NaN         NaN          NaN\n",
       "       8       591337.0         NaN         NaN          NaN\n",
       "       9       436624.0       500.0   -436124.0   -99.885485\n",
       "       15     5077850.0        41.0  -5077809.0   -99.999193\n",
       "       16     7092054.0        39.0  -7092015.0   -99.999450\n",
       "       19     9918517.0     10044.0  -9908473.0   -99.898735\n",
       "       20     2928862.0      4216.0  -2924646.0   -99.856053\n",
       "       25      338427.0         3.0   -338424.0   -99.999114\n",
       "       26    46198065.0      6045.0 -46192020.0   -99.986915\n",
       "       33    18389670.0     32925.0 -18356745.0   -99.820959\n",
       "38     2          843.0         NaN         NaN          NaN\n",
       "57     8        12951.0         NaN         NaN          NaN\n",
       "       9        20588.0         NaN         NaN          NaN\n",
       "       15       88497.0         NaN         NaN          NaN\n",
       "       16       88497.0         NaN         NaN          NaN\n",
       "       19      222636.0         NaN         NaN          NaN\n",
       "       20      197037.0         NaN         NaN          NaN\n",
       "       26       51553.0         NaN         NaN          NaN\n",
       "       33       89078.0         NaN         NaN          NaN\n",
       "\n",
       "[191 rows x 4 columns]"
      ]
     },
     "execution_count": 33,
     "metadata": {},
     "output_type": "execute_result"
    }
   ],
   "source": [
    "res"
   ]
  },
  {
   "cell_type": "code",
   "execution_count": 32,
   "metadata": {
    "collapsed": false
   },
   "outputs": [
    {
     "data": {
      "text/html": [
       "<div>\n",
       "<table border=\"1\" class=\"dataframe\">\n",
       "  <thead>\n",
       "    <tr style=\"text-align: right;\">\n",
       "      <th></th>\n",
       "      <th></th>\n",
       "      <th>r</th>\n",
       "    </tr>\n",
       "    <tr>\n",
       "      <th>vendor</th>\n",
       "      <th>spam</th>\n",
       "      <th></th>\n",
       "    </tr>\n",
       "  </thead>\n",
       "  <tbody>\n",
       "  </tbody>\n",
       "</table>\n",
       "</div>"
      ],
      "text/plain": [
       "Empty DataFrame\n",
       "Columns: [r]\n",
       "Index: []"
      ]
     },
     "execution_count": 32,
     "metadata": {},
     "output_type": "execute_result"
    }
   ],
   "source": [
    "r.query('vendor==75')"
   ]
  },
  {
   "cell_type": "code",
   "execution_count": null,
   "metadata": {
    "collapsed": false
   },
   "outputs": [],
   "source": [
    "cre=pd.read_table('/home/changbin/rtbmiss_criteo_click',sep='\\t',names=['zid', 'ts', 'hour', 'minute', 'url', 'refer', 'ip', 'ua'])"
   ]
  },
  {
   "cell_type": "code",
   "execution_count": null,
   "metadata": {
    "collapsed": false
   },
   "outputs": [],
   "source": [
    "cre[['zid','ip','ua']].to_csv('/home/changbin/zid',sep='\\t',index=None)"
   ]
  },
  {
   "cell_type": "code",
   "execution_count": null,
   "metadata": {
    "collapsed": false
   },
   "outputs": [],
   "source": [
    "cre['ip_']=cre['ip'].apply(ip)\n",
    "cre['ts_']=cre['ts'].apply(ts)"
   ]
  },
  {
   "cell_type": "code",
   "execution_count": null,
   "metadata": {
    "collapsed": false
   },
   "outputs": [],
   "source": [
    "cre[['ip_','ua']].to_csv('/home/changbin/ip_ua',sep='\\t')"
   ]
  },
  {
   "cell_type": "code",
   "execution_count": null,
   "metadata": {
    "collapsed": false
   },
   "outputs": [],
   "source": [
    "res=readHive(\"select * from archive.rtbv2 a join changbin.zid_ip_ua b on a.ip=b.ip and a.user_agent=b.ua where a.year=2016 and a.month=11 and a.day=28\")"
   ]
  },
  {
   "cell_type": "code",
   "execution_count": null,
   "metadata": {
    "collapsed": false
   },
   "outputs": [],
   "source": [
    "miss=readHive(\"select * from changbin.zid_ip_ua\")"
   ]
  },
  {
   "cell_type": "code",
   "execution_count": null,
   "metadata": {
    "collapsed": false,
    "scrolled": true
   },
   "outputs": [],
   "source": [
    "resall=readHive(\"select * from archive.rtbv2 a join changbin.zid_ip_ua_all b on a.ip=b.ip and a.user_agent=b.ua where a.year=2016 and a.month=11 and a.day=28\")"
   ]
  },
  {
   "cell_type": "code",
   "execution_count": null,
   "metadata": {
    "collapsed": false
   },
   "outputs": [],
   "source": [
    "resadgroup=readHive(\"select distinct request_id, zid,`timestamp` from archive.rtbv2 lateral view explode(ad_response[0].bid_code) ids as id1 where year=2016 and month=11 and day=28 and hour>=17 and hour<19 and in_file(zid,'/home/changbin/criteo_all_click_zids') and id1.adgroup_id=26778 and vendor_id in (9);\")"
   ]
  },
  {
   "cell_type": "code",
   "execution_count": null,
   "metadata": {
    "collapsed": false
   },
   "outputs": [],
   "source": [
    "resseg=readHive(\"select distinct request_id, zid,`timestamp` from archive.rtbv2 lateral view explode(ad_response[0].matched_segments) ids as id1 where year=2016 and month=11 and day=28 and in_file(zid,'/home/changbin/criteo_all_click_zids') and id1.id=4889 and vendor_id in (9);\")"
   ]
  },
  {
   "cell_type": "code",
   "execution_count": null,
   "metadata": {
    "collapsed": false,
    "scrolled": true
   },
   "outputs": [],
   "source": [
    "# a.zid not in ('ce4d970c5c15abb5b4950de43c514fcf','e09947276b54a2304835ae8a65da8b10')\n",
    "reszid=readHive(\"select * from archive.rtbv2 a join changbin.zid_ip_ua_all b on a.zid=b.zid where a.zid=a.zid and a.year=2016 and a.month=11 and a.day=28 and a.zid not in ('ce4d970c5c15abb5b4950de43c514fcf','e09947276b54a2304835ae8a65da8b10')\")"
   ]
  },
  {
   "cell_type": "code",
   "execution_count": null,
   "metadata": {
    "collapsed": false
   },
   "outputs": [],
   "source": [
    "\n",
    "resbid=pd.read_table('/home/changbin/rtb_day_winprice_log',header=None,names=['request_id', 'zid', 'timestamp', 'hour', 'min', 'compaign', 'bid_price', 'win_price', 'is_displayed', 'is_click'])\n",
    "reswin=resbid.query('win_price>0')\n",
    "reswin"
   ]
  },
  {
   "cell_type": "code",
   "execution_count": null,
   "metadata": {
    "collapsed": false
   },
   "outputs": [],
   "source": [
    "#proc datetime\n",
    "import datetime\n",
    "def to_date(x):\n",
    "    ts=int(x)+3600*8\n",
    "    return pd.to_datetime(ts,unit='s',box=True)\n",
    "resbid['bid']=resbid['timestamp'].apply(to_date)\n",
    "reswin['win']=reswin['timestamp'].apply(to_date)\n",
    "resseg['seg']=resseg['timestamp'].apply(to_date)\n",
    "resadgroup['adgroup']=resadgroup['timestamp'].apply(to_date)\n",
    "reszid['brodcast_bin']=reszid['timestamp'].apply(to_date)#pd.to_datetime(reszid['timestamp'],unit='s',box=True)\n",
    "reszid['criteo_bin']=reszid['ts'].apply(to_date)#pd.to_datetime(reszid['ts'],unit='s',box=True)\n",
    "reszid.rename(columns={'zid.1': 'zid_y','hour.1': 'hour_y','refer.1': 'refer_y','ip.1': 'ip_y'}, inplace=True)\n",
    "# reszid.query('zid==\"2d84624b3a45dbf597fe76c3ad39878f\"')"
   ]
  },
  {
   "cell_type": "code",
   "execution_count": null,
   "metadata": {
    "collapsed": false
   },
   "outputs": [],
   "source": [
    "temp.query(target).ip\n",
    "print ip(3071416885)"
   ]
  },
  {
   "cell_type": "code",
   "execution_count": null,
   "metadata": {
    "collapsed": true
   },
   "outputs": [],
   "source": [
    "allwinzids =['2d84624b3a45dbf597fe76c3ad39878f',\n",
    "'4647895d6ce90b478e135eea25fa9b70',\n",
    "'6ffe01eea158ccd2bb7cd2a24a61cdee',\n",
    "'71f1afdd04c4dddd6d7bd6dae90ad2e4',\n",
    "'78602be560ac24c392e1459afe01af61',\n",
    "'7e3468dcae25de01045f6cec73759d45',\n",
    " 'a572bfdeff58fc099a48c4bd5c1ab44d',\n",
    " 'ab95641ba92bc6f24738c2fb77cce6c5',\n",
    " 'c83e48111462b8490cbf183e92db26dd',\n",
    " 'cdce06ff3fa38a712b3e61918c9cf9a1',\n",
    " 'd27bec7275f17d297087ce436c7f9d88',\n",
    " 'dc98ccd4b70ad3a0856bb87655300292',\n",
    " 'eb722a4bb298575c99223c86cfcc1e8b',\n",
    " 'ebc3046dbf22efe6afab88b4efba6a97']\n",
    "notwinzids=['36312029f7c8c42d1e476b9951d92550',\n",
    "'e10e69e7ed64e77ee1755e241f1e4bd6',\n",
    "'931158a73f08ab6ffb2de679347cf039',\n",
    "'c4b69b3794266f1724035c36436fcd56',\n",
    "'58b370df10d70d1a662f1c5713911c32',\n",
    "'fcb3ecbeb5406668541c397e34036836',\n",
    "'da1abf792cfe0be71db4930be29034a3',\n",
    "'35168e0300e022f746dd3aefeadb779d'\n",
    "]\n",
    "freqzids=['0180f0075bfd64bf474ff0733a2433f1',\n",
    "'12887720558e379c15d9d2bbca4a8e04',\n",
    "'1ec07e5fcb66196004a1c25cb297651f',\n",
    "'29c30b07469f0c95b5e5f4dc7aae88d0',\n",
    "'2e402d28d0532f0fbac1c13963d202a7',\n",
    "'2f8dacbb46074b5a0f150cfe16d234fe',\n",
    "'32aa12b549541e38b3c0ab05578db0a8',\n",
    "'367560d5bb2fb08b49a28ab3ca858eed',\n",
    "'39f7b1b7460753d153db95bbb9d50396',\n",
    "'3e609bdfeda47596a5f326a0083b8fc3',\n",
    "'3f9a24c98f37147b049bdd046db5cc8e',\n",
    "'45dac31354776ab7c120551024620e5c',\n",
    "'46ab8ad97118d120fb1a455edb77766a',\n",
    "'496f59d3debb1b961e736263b0c2a6c5',\n",
    "'4f7e34552939534bf628313dc3db7ca3',\n",
    "'53b3ca586a88cade594bbea5e6cded1f',\n",
    "'56aa7cf88418e5649023fbe693b81ee9',\n",
    "'5d1dd575ed2d551604c8df4b5a418391',\n",
    "'646778f7758b7c825b08f4013156180f',\n",
    "'6bda6432f6f34338b0cf80b44df0d4d4',\n",
    "'74901db70cbeda00a8b731d20cd9ec6c',\n",
    "'7a95f2ad07134da6313d7acdafe52ef8',\n",
    "'890994e503c7603070b61053ca1992fa',\n",
    "'892993c434dd202ba0d3119919f8c3a8',\n",
    "'8a6d6b983c3a43fe25692c4419475d54',\n",
    "'9e7e76c17f0ae5ac60fdb6dce56413ed',\n",
    "'a334afbdccf01f7d1b3f23fe7d95dd91',\n",
    "'a5b134dbd06eb0399b40570a4028139c',\n",
    "'ad2ef2f8c72eb3b3add92d87c7031b49',\n",
    "'b87805ada2508de6758bbe835bb240b4',\n",
    "'c2ea7bff3565603d583263e49f5ea54f',\n",
    "'ca030776ca87ddf232ea091aa3db0df7',\n",
    "'ce4d970c5c15abb5b4950de43c514fcf',\n",
    "'d5746c6488ea8d42a516698be0014a7d',\n",
    "'e09947276b54a2304835ae8a65da8b10',\n",
    "'e18cdc77bd70650d7113f279b52b370c',\n",
    "'e97d4605b57faf445cb3d57ea86f7dea',\n",
    "'f0b65b4844613a80c470383beb67f6ad',\n",
    "'ff209c1e263bd72e92725e52b4407d74']"
   ]
  },
  {
   "cell_type": "code",
   "execution_count": null,
   "metadata": {
    "collapsed": false
   },
   "outputs": [],
   "source": [
    "from pylab import rcParams\n",
    "import matplotlib\n",
    "%matplotlib inline   \n",
    "%pylab inline\n",
    "matplotlib.style.use('ggplot')\n",
    "window='300s'\n",
    "zids_set=[allwinzids,notwinzids,freqzids]\n",
    "tags=['allwin','notallwin','freq']\n",
    "for i in range(len(zids_set)):\n",
    "    zids=zids_set[i]\n",
    "    tag=tags[i]\n",
    "    for zid in zids:\n",
    "        # for zid in zids:\n",
    "        target='zid==\"'+zid+'\"'\n",
    "        #selection\n",
    "        print \"zid:\",zid\n",
    "        segtemp=resseg.query(target)\n",
    "        adgrouptemp=resadgroup.query(target)\n",
    "        bidtemp=resbid.query(target)\n",
    "        wintemp=reswin.query(target)\n",
    "        temp=reszid.query('zid==zid_y & vendor_id==9 &'+target)\n",
    "        #resample\n",
    "        seged=segtemp.groupby(['seg'])['request_id'].nunique().resample(window).sum().reset_index().set_index('seg')\n",
    "        adgrouped=adgrouptemp.groupby(['adgroup'])['request_id'].nunique().resample(window).sum().reset_index().set_index('adgroup')\n",
    "        bid=bidtemp.groupby(['bid'])['request_id'].nunique().resample(window).sum().reset_index().set_index('bid')\n",
    "        win=wintemp.groupby(['win'])['request_id'].nunique().resample(window).sum().reset_index().set_index('win')\n",
    "        l=temp.groupby(['brodcast_bin'])['request_id'].nunique().resample(window).sum().reset_index().set_index('brodcast_bin')#.tz_localize(\"Asia/Shanghai\")\n",
    "        r=temp.groupby(['criteo_bin'])['request_id'].nunique().resample(window).sum().reset_index().set_index('criteo_bin')#.tz_localize(\"Asia/Shanghai\")\n",
    "        r['request_id']=l['request_id'].mean()\n",
    "        seged.rename(columns={'request_id':'seg'}, inplace=True)\n",
    "        adgrouped.rename(columns={'request_id':'adgroup'}, inplace=True)\n",
    "        bid.rename(columns={'request_id':'bid'}, inplace=True)\n",
    "        win.rename(columns={'request_id':'win'}, inplace=True)\n",
    "        l.rename(columns={'request_id':'cap'}, inplace=True)\n",
    "        r.rename(columns={'request_id':'criteo'}, inplace=True)\n",
    "        phase=['2016-11-28 16:30:00','2016-11-28 20:00:00']\n",
    "        res=pd.concat([l,seged,adgrouped,bid,win,r],axis=1)\n",
    "        rcParams['figure.figsize'] = 24, 10\n",
    "        fig = plt.figure()\n",
    "        ax=res.sort_index()[phase[0]:phase[1]].plot(kind='bar',title=tag+'-'+zid)\n",
    "        ax.get_figure().savefig('/home/changbin/timedist/'+tag+'-'+zid+'.png')\n",
    "#         plt.close(fig)\n",
    "        # res.sort_index().plot.bar()"
   ]
  },
  {
   "cell_type": "code",
   "execution_count": null,
   "metadata": {
    "collapsed": false,
    "scrolled": false
   },
   "outputs": [],
   "source": [
    "# 36312029f7c8c42d1e476b9951d92550\n",
    "# e10e69e7ed64e77ee1755e241f1e4bd6\n",
    "# 931158a73f08ab6ffb2de679347cf039\n",
    "# c4b69b3794266f1724035c36436fcd56\n",
    "# 58b370df10d70d1a662f1c5713911c32\n",
    "# fcb3ecbeb5406668541c397e34036836\n",
    "# da1abf792cfe0be71db4930be29034a3\n",
    "# 35168e0300e022f746dd3aefeadb779d\n",
    "window='600s'\n",
    "target='zid==\"da1abf792cfe0be71db4930be29034a3\"'\n",
    "#selection\n",
    "print \"zid:\",zid\n",
    "segtemp=resseg.query(target)\n",
    "adgrouptemp=resadgroup.query(target)\n",
    "bidtemp=resbid.query(target)\n",
    "wintemp=reswin.query(target)\n",
    "temp=reszid.query('zid==zid_y & vendor_id==9 &'+target)\n",
    "#resample\n",
    "seged=segtemp.groupby(['seg'])['request_id'].nunique().resample(window).sum().reset_index().set_index('seg')\n",
    "adgrouped=adgrouptemp.groupby(['adgroup'])['request_id'].nunique().resample(window).sum().reset_index().set_index('adgroup')\n",
    "bid=bidtemp.groupby(['bid'])['request_id'].nunique().resample(window).sum().reset_index().set_index('bid')\n",
    "win=wintemp.groupby(['win'])['request_id'].nunique().resample(window).sum().reset_index().set_index('win')\n",
    "l=temp.groupby(['brodcast_bin'])['request_id'].nunique().resample(window).sum().reset_index().set_index('brodcast_bin')#.tz_localize(\"Asia/Shanghai\")\n",
    "r=temp.groupby(['criteo_bin'])['request_id'].nunique().resample(window).sum().reset_index().set_index('criteo_bin')#.tz_localize(\"Asia/Shanghai\")\n",
    "r['request_id']=l['request_id'].mean()\n",
    "seged.rename(columns={'request_id':'seg'}, inplace=True)\n",
    "adgrouped.rename(columns={'request_id':'adgroup'}, inplace=True)\n",
    "bid.rename(columns={'request_id':'bid'}, inplace=True)\n",
    "win.rename(columns={'request_id':'win'}, inplace=True)\n",
    "l.rename(columns={'request_id':'cap'}, inplace=True)\n",
    "r.rename(columns={'request_id':'criteo'}, inplace=True)\n",
    "phase=['2016-11-28 17:00:00','2016-11-28 20:00:00']\n",
    "res=pd.concat([l,seged,adgrouped,bid,win,r],axis=1)\n",
    "rcParams['figure.figsize'] = 24, 10\n",
    "fig = plt.figure()\n",
    "res.sort_index()[phase[0]:phase[1]].plot(kind='bar',title=zid)\n",
    "fig.savefig('/home/changbin/timedist/'+zid+'.png')"
   ]
  },
  {
   "cell_type": "code",
   "execution_count": null,
   "metadata": {
    "collapsed": false,
    "scrolled": false
   },
   "outputs": [],
   "source": [
    "# date_index=pd.date_range('11/28/2016', periods=144, freq='1800s')\n",
    "\n",
    "\n",
    "\n",
    "\n",
    "\n",
    "\n",
    "# l['r']=r['request_id']\n",
    "# l.rename(columns={'request_id':'capture','r':'criteo'}, inplace=True)\n",
    "# l.plot(kind='bar')\n"
   ]
  },
  {
   "cell_type": "code",
   "execution_count": null,
   "metadata": {
    "collapsed": false
   },
   "outputs": [],
   "source": []
  },
  {
   "cell_type": "code",
   "execution_count": null,
   "metadata": {
    "collapsed": false
   },
   "outputs": [],
   "source": [
    "temp=resall.query('zid==zid_y & vendor_id==9 & zid==\"4990d4acff9055cc68b6801ee53bb608\"')\n",
    "temp.groupby(['brodcast_bin']).sum()['vendor_id'].plot()\n",
    "temp.groupby(['criteo_bin']).sum()['vendor_id'].plot()\n"
   ]
  },
  {
   "cell_type": "code",
   "execution_count": null,
   "metadata": {
    "collapsed": false
   },
   "outputs": [],
   "source": [
    "r=pd.date_range('11/28/2016', periods=144, freq='600s')\n",
    "r"
   ]
  },
  {
   "cell_type": "code",
   "execution_count": null,
   "metadata": {
    "collapsed": false
   },
   "outputs": [],
   "source": [
    "#res.query('hour==18 & vendor_id==9 & zid==\"b3dff87c0cc04a163111d8d345e0a4c2\"')['ad_response'].iloc[0]\n",
    "j=pd.merge(res,miss,how='outer',left_on='zid.1',right_on='zid')\n",
    "j.query('request_id!=request_id')['zid_y'].nunique()\n",
    "\n"
   ]
  },
  {
   "cell_type": "code",
   "execution_count": null,
   "metadata": {
    "collapsed": false
   },
   "outputs": [],
   "source": [
    "j.query('request_id==request_id & zid_x==zid_y')['zid_x'].nunique()"
   ]
  },
  {
   "cell_type": "code",
   "execution_count": null,
   "metadata": {
    "collapsed": false
   },
   "outputs": [],
   "source": [
    "res.rename(columns={'zid.1': 'zid_y'}, inplace=True)"
   ]
  },
  {
   "cell_type": "code",
   "execution_count": null,
   "metadata": {
    "collapsed": false
   },
   "outputs": [],
   "source": [
    "res.query('zid==zid_y &vendor_id==9')['zid_y'].value_counts()"
   ]
  },
  {
   "cell_type": "code",
   "execution_count": null,
   "metadata": {
    "collapsed": false
   },
   "outputs": [],
   "source": [
    "# print 'miss',j.query('request_id==request_id')['zid_y'].nunique()\n",
    "# print miss['zid'].nunique()\n",
    "res.query('vendor_id==9 & zid==zid & zid==zid_y ')['hour'].value_counts()"
   ]
  },
  {
   "cell_type": "code",
   "execution_count": null,
   "metadata": {
    "collapsed": true
   },
   "outputs": [],
   "source": []
  },
  {
   "cell_type": "code",
   "execution_count": null,
   "metadata": {
    "collapsed": true
   },
   "outputs": [],
   "source": []
  },
  {
   "cell_type": "code",
   "execution_count": null,
   "metadata": {
    "collapsed": true
   },
   "outputs": [],
   "source": []
  },
  {
   "cell_type": "code",
   "execution_count": null,
   "metadata": {
    "collapsed": true
   },
   "outputs": [],
   "source": []
  },
  {
   "cell_type": "code",
   "execution_count": null,
   "metadata": {
    "collapsed": true
   },
   "outputs": [],
   "source": []
  },
  {
   "cell_type": "code",
   "execution_count": null,
   "metadata": {
    "collapsed": true
   },
   "outputs": [],
   "source": []
  },
  {
   "cell_type": "code",
   "execution_count": null,
   "metadata": {
    "collapsed": true
   },
   "outputs": [],
   "source": []
  },
  {
   "cell_type": "code",
   "execution_count": null,
   "metadata": {
    "collapsed": true
   },
   "outputs": [],
   "source": []
  },
  {
   "cell_type": "code",
   "execution_count": null,
   "metadata": {
    "collapsed": true
   },
   "outputs": [],
   "source": []
  },
  {
   "cell_type": "code",
   "execution_count": null,
   "metadata": {
    "collapsed": true
   },
   "outputs": [],
   "source": []
  },
  {
   "cell_type": "code",
   "execution_count": null,
   "metadata": {
    "collapsed": true
   },
   "outputs": [],
   "source": []
  },
  {
   "cell_type": "code",
   "execution_count": null,
   "metadata": {
    "collapsed": true
   },
   "outputs": [],
   "source": []
  },
  {
   "cell_type": "code",
   "execution_count": null,
   "metadata": {
    "collapsed": true
   },
   "outputs": [],
   "source": []
  },
  {
   "cell_type": "code",
   "execution_count": null,
   "metadata": {
    "collapsed": true
   },
   "outputs": [],
   "source": []
  },
  {
   "cell_type": "code",
   "execution_count": null,
   "metadata": {
    "collapsed": true
   },
   "outputs": [],
   "source": []
  },
  {
   "cell_type": "code",
   "execution_count": null,
   "metadata": {
    "collapsed": true
   },
   "outputs": [],
   "source": []
  },
  {
   "cell_type": "code",
   "execution_count": null,
   "metadata": {
    "collapsed": true
   },
   "outputs": [],
   "source": []
  },
  {
   "cell_type": "code",
   "execution_count": null,
   "metadata": {
    "collapsed": true
   },
   "outputs": [],
   "source": []
  },
  {
   "cell_type": "code",
   "execution_count": null,
   "metadata": {
    "collapsed": true
   },
   "outputs": [],
   "source": []
  },
  {
   "cell_type": "code",
   "execution_count": null,
   "metadata": {
    "collapsed": true
   },
   "outputs": [],
   "source": []
  },
  {
   "cell_type": "code",
   "execution_count": null,
   "metadata": {
    "collapsed": true
   },
   "outputs": [],
   "source": []
  },
  {
   "cell_type": "code",
   "execution_count": null,
   "metadata": {
    "collapsed": true
   },
   "outputs": [],
   "source": []
  },
  {
   "cell_type": "code",
   "execution_count": null,
   "metadata": {
    "collapsed": true
   },
   "outputs": [],
   "source": []
  },
  {
   "cell_type": "code",
   "execution_count": null,
   "metadata": {
    "collapsed": true
   },
   "outputs": [],
   "source": []
  },
  {
   "cell_type": "code",
   "execution_count": null,
   "metadata": {
    "collapsed": true
   },
   "outputs": [],
   "source": []
  },
  {
   "cell_type": "code",
   "execution_count": null,
   "metadata": {
    "collapsed": true
   },
   "outputs": [],
   "source": []
  },
  {
   "cell_type": "code",
   "execution_count": null,
   "metadata": {
    "collapsed": true
   },
   "outputs": [],
   "source": []
  },
  {
   "cell_type": "code",
   "execution_count": null,
   "metadata": {
    "collapsed": true
   },
   "outputs": [],
   "source": []
  },
  {
   "cell_type": "code",
   "execution_count": null,
   "metadata": {
    "collapsed": true
   },
   "outputs": [],
   "source": []
  },
  {
   "cell_type": "code",
   "execution_count": null,
   "metadata": {
    "collapsed": true
   },
   "outputs": [],
   "source": []
  },
  {
   "cell_type": "code",
   "execution_count": null,
   "metadata": {
    "collapsed": true
   },
   "outputs": [],
   "source": []
  },
  {
   "cell_type": "code",
   "execution_count": null,
   "metadata": {
    "collapsed": true
   },
   "outputs": [],
   "source": []
  },
  {
   "cell_type": "code",
   "execution_count": null,
   "metadata": {
    "collapsed": true
   },
   "outputs": [],
   "source": []
  },
  {
   "cell_type": "code",
   "execution_count": null,
   "metadata": {
    "collapsed": true
   },
   "outputs": [],
   "source": []
  },
  {
   "cell_type": "code",
   "execution_count": null,
   "metadata": {
    "collapsed": true
   },
   "outputs": [],
   "source": []
  },
  {
   "cell_type": "code",
   "execution_count": null,
   "metadata": {
    "collapsed": true
   },
   "outputs": [],
   "source": []
  },
  {
   "cell_type": "code",
   "execution_count": null,
   "metadata": {
    "collapsed": true
   },
   "outputs": [],
   "source": []
  },
  {
   "cell_type": "code",
   "execution_count": null,
   "metadata": {
    "collapsed": true
   },
   "outputs": [],
   "source": []
  },
  {
   "cell_type": "code",
   "execution_count": null,
   "metadata": {
    "collapsed": true
   },
   "outputs": [],
   "source": []
  },
  {
   "cell_type": "code",
   "execution_count": null,
   "metadata": {
    "collapsed": true
   },
   "outputs": [],
   "source": []
  },
  {
   "cell_type": "code",
   "execution_count": null,
   "metadata": {
    "collapsed": true
   },
   "outputs": [],
   "source": []
  },
  {
   "cell_type": "code",
   "execution_count": null,
   "metadata": {
    "collapsed": true
   },
   "outputs": [],
   "source": []
  },
  {
   "cell_type": "code",
   "execution_count": null,
   "metadata": {
    "collapsed": true
   },
   "outputs": [],
   "source": []
  },
  {
   "cell_type": "code",
   "execution_count": null,
   "metadata": {
    "collapsed": true
   },
   "outputs": [],
   "source": []
  },
  {
   "cell_type": "code",
   "execution_count": null,
   "metadata": {
    "collapsed": true
   },
   "outputs": [],
   "source": []
  },
  {
   "cell_type": "code",
   "execution_count": null,
   "metadata": {
    "collapsed": true
   },
   "outputs": [],
   "source": []
  },
  {
   "cell_type": "code",
   "execution_count": null,
   "metadata": {
    "collapsed": true
   },
   "outputs": [],
   "source": []
  },
  {
   "cell_type": "code",
   "execution_count": null,
   "metadata": {
    "collapsed": true
   },
   "outputs": [],
   "source": []
  },
  {
   "cell_type": "code",
   "execution_count": null,
   "metadata": {
    "collapsed": true
   },
   "outputs": [],
   "source": []
  },
  {
   "cell_type": "code",
   "execution_count": null,
   "metadata": {
    "collapsed": true
   },
   "outputs": [],
   "source": []
  },
  {
   "cell_type": "code",
   "execution_count": null,
   "metadata": {
    "collapsed": true
   },
   "outputs": [],
   "source": []
  },
  {
   "cell_type": "code",
   "execution_count": null,
   "metadata": {
    "collapsed": true
   },
   "outputs": [],
   "source": []
  },
  {
   "cell_type": "code",
   "execution_count": null,
   "metadata": {
    "collapsed": true
   },
   "outputs": [],
   "source": []
  },
  {
   "cell_type": "code",
   "execution_count": null,
   "metadata": {
    "collapsed": true
   },
   "outputs": [],
   "source": []
  },
  {
   "cell_type": "code",
   "execution_count": null,
   "metadata": {
    "collapsed": true
   },
   "outputs": [],
   "source": []
  },
  {
   "cell_type": "code",
   "execution_count": null,
   "metadata": {
    "collapsed": true
   },
   "outputs": [],
   "source": []
  },
  {
   "cell_type": "code",
   "execution_count": null,
   "metadata": {
    "collapsed": true
   },
   "outputs": [],
   "source": []
  },
  {
   "cell_type": "code",
   "execution_count": null,
   "metadata": {
    "collapsed": true
   },
   "outputs": [],
   "source": []
  },
  {
   "cell_type": "code",
   "execution_count": null,
   "metadata": {
    "collapsed": true
   },
   "outputs": [],
   "source": []
  },
  {
   "cell_type": "code",
   "execution_count": null,
   "metadata": {
    "collapsed": true
   },
   "outputs": [],
   "source": []
  },
  {
   "cell_type": "code",
   "execution_count": null,
   "metadata": {
    "collapsed": true
   },
   "outputs": [],
   "source": []
  },
  {
   "cell_type": "code",
   "execution_count": null,
   "metadata": {
    "collapsed": false
   },
   "outputs": [],
   "source": [
    "s21=readHive(\"select vendor_id, spams, count(1) from archive.rtbv2 lateral view explode(ad_response[0].spam_ids) spam as spams where year=2016 and month=11 and day=21 group by vendor_id ,spams;\")\n",
    "s27=readHive(\"select vendor_id, spams, count(1) from archive.rtbv2 lateral view explode(ad_response[0].spam_ids) spam as spams where year=2016 and month=11 and day=27 group by vendor_id ,spams;\")\n"
   ]
  },
  {
   "cell_type": "code",
   "execution_count": null,
   "metadata": {
    "collapsed": false
   },
   "outputs": [],
   "source": [
    "#m=pd.merge(s21,s27,on=['vendor_id','spams'],how='inner')\n",
    "r21=readHive(\"select vendor_id, size(ad_response[0].spam_ids)>0, count(1) from archive.rtbv2 where year=2016 and month=11 and day=21 group by vendor_id,size(ad_response[0].spam_ids)>0;\")\n",
    "r27=readHive(\"select vendor_id, size(ad_response[0].spam_ids)>0, count(1) from archive.rtbv2 where year=2016 and month=11 and day=27 group by vendor_id,size(ad_response[0].spam_ids)>0;\")\n"
   ]
  },
  {
   "cell_type": "code",
   "execution_count": null,
   "metadata": {
    "collapsed": false
   },
   "outputs": [],
   "source": [
    "m['r']=(m['_c2_y']-m['_c2_x'])/m['_c2_x']"
   ]
  },
  {
   "cell_type": "code",
   "execution_count": null,
   "metadata": {
    "collapsed": false
   },
   "outputs": [],
   "source": [
    "m.query('vendor_id==2')"
   ]
  },
  {
   "cell_type": "code",
   "execution_count": null,
   "metadata": {
    "collapsed": false
   },
   "outputs": [],
   "source": [
    "yhd=readHive(\"select * from fraud_free.dclkv2 where year=2016 and month=11 and day=21 and adgroup_id=26731\")"
   ]
  },
  {
   "cell_type": "code",
   "execution_count": null,
   "metadata": {
    "collapsed": false,
    "scrolled": true
   },
   "outputs": [],
   "source": [
    "cre=readHive(\"select * from fraud_free.dclkv2 where year=2016 and month=11 and day=28 and zid='1c4766ddb3f2bb5cd064295efa2b15fc'\")"
   ]
  },
  {
   "cell_type": "code",
   "execution_count": null,
   "metadata": {
    "collapsed": false
   },
   "outputs": [],
   "source": [
    "cre"
   ]
  },
  {
   "cell_type": "code",
   "execution_count": null,
   "metadata": {
    "collapsed": true
   },
   "outputs": [],
   "source": []
  },
  {
   "cell_type": "code",
   "execution_count": null,
   "metadata": {
    "collapsed": false
   },
   "outputs": [],
   "source": [
    "yhd['domain']=yhd['url'].apply(f)\n",
    "preq(yhd.query('fraud_flag==5'))"
   ]
  },
  {
   "cell_type": "code",
   "execution_count": null,
   "metadata": {
    "collapsed": false
   },
   "outputs": [],
   "source": [
    "\n",
    "yhd.query('fraud_flag==5')['domain'].value_counts()"
   ]
  },
  {
   "cell_type": "code",
   "execution_count": null,
   "metadata": {
    "collapsed": false
   },
   "outputs": [],
   "source": []
  },
  {
   "cell_type": "code",
   "execution_count": null,
   "metadata": {
    "collapsed": false
   },
   "outputs": [],
   "source": [
    "imphour=readHive(\"select * from fraud_free.dimpv2 where year=2016 and month=11 and day=11 and hour>=19 and hour<=20\")\n",
    "clkhour=readHive(\"select * from fraud_free.dclkv2 where year=2016 and month=11 and day=11 and hour>=19 and hour<=20\")\n",
    "clk=readHive(\"select * from fraud_free.dclkv2 where year=2016 and month=11 and day=11\")"
   ]
  },
  {
   "cell_type": "code",
   "execution_count": null,
   "metadata": {
    "collapsed": true
   },
   "outputs": [],
   "source": [
    "clk['vendor_name']=clk['vendor_id'].apply(vendor_name)\n",
    "clk['domain']=clk['url'].apply(f)\n",
    "clk['wash_label']=clk['fraud_flag'].apply(spam_flag)\n",
    "\n",
    "clkhour['vendor_name']=clkhour['vendor_id'].apply(vendor_name)\n",
    "clkhour['domain']=clkhour['url'].apply(f)\n",
    "clkhour['wash_label']=clkhour['fraud_flag'].apply(spam_flag)"
   ]
  },
  {
   "cell_type": "code",
   "execution_count": null,
   "metadata": {
    "collapsed": false,
    "scrolled": false
   },
   "outputs": [],
   "source": [
    "# print clk.replace(np.nan, 'normal').groupby(['domain','fraud_flag']).size().order(ascending=False)\n",
    "print clk.groupby(['vendor_name','wash_label']).size().order(ascending=False).head(100)\n",
    "print clk.groupby(['domain','wash_label']).size().order(ascending=False).head(100)\n",
    "print clk.groupby(['company_id','wash_label']).size().order(ascending=False).head(100)\n",
    "preq(clk.query('fraud_flag!=fraud_flag'))\n",
    "pzid(clk.query('fraud_flag!=fraud_flag'))\n",
    "pip(clk.query('fraud_flag!=fraud_flag'))\n",
    "\n",
    "preq(clk.query('fraud_flag==fraud_flag'))\n",
    "pzid(clk.query('fraud_flag==fraud_flag'))\n",
    "pip(clk.query('fraud_flag==fraud_flag'))\n",
    "# clk['domain'].value_counts()\n",
    "# clk.groupby['vendor_id','fraud_flag'].size()"
   ]
  },
  {
   "cell_type": "code",
   "execution_count": null,
   "metadata": {
    "collapsed": false
   },
   "outputs": [],
   "source": [
    "domain=clk.query('fraud_flag!=fraud_flag').groupby(['domain','wash_label']).size().reset_index()\n",
    "domain['count']=domain[0]\n",
    "count_bins=[0 ,1000,2000 ,4000, 8000 ,16000,  32000, 64000,100000]\n",
    "print count_bins\n",
    "domain['bins']=pd.cut(domain['count'],count_bins)\n",
    "domain.groupby([\"bins\"])['count'].size()\n",
    "print domain['count'].sum()"
   ]
  },
  {
   "cell_type": "code",
   "execution_count": null,
   "metadata": {
    "collapsed": false
   },
   "outputs": [],
   "source": [
    "clk.groupby('wash_label').size()"
   ]
  },
  {
   "cell_type": "code",
   "execution_count": null,
   "metadata": {
    "collapsed": false
   },
   "outputs": [],
   "source": [
    "preq(clk.query('domain==\"tv.2345.com\"'))\n",
    "preq(clk.query('domain==\"tv.2345.com\" & fraud_flag==fraud_flag'))\n",
    "preq(clk.query('domain==\"www.ku6.com\"'))\n",
    "preq(clk.query('domain==\"www.ku6.com\" & fraud_flag==fraud_flag'))\n",
    "clk.query('fraud_flag==fraud_flag')['fraud_flag'].value_counts()"
   ]
  },
  {
   "cell_type": "code",
   "execution_count": null,
   "metadata": {
    "collapsed": false
   },
   "outputs": [],
   "source": [
    "app=pd.read_table(\"../app_data\",header=0)#None,names=['day','vendor','err','count'])\n",
    "# clk_bins=np.arange(0,1,0.001)"
   ]
  },
  {
   "cell_type": "code",
   "execution_count": null,
   "metadata": {
    "collapsed": false
   },
   "outputs": [],
   "source": [
    "app.query('allimp>50000000')"
   ]
  },
  {
   "cell_type": "code",
   "execution_count": null,
   "metadata": {
    "collapsed": false
   },
   "outputs": [],
   "source": [
    "err.query(\"err ==0\").groupby(['day','vendor'])['count'].sum()"
   ]
  },
  {
   "cell_type": "code",
   "execution_count": null,
   "metadata": {
    "collapsed": false
   },
   "outputs": [],
   "source": [
    "temp=clkhour.query('fraud_flag!=fraud_flag')\n",
    "preq(temp)\n",
    "pzid(temp)\n",
    "pip(temp)\n",
    "pua(temp)"
   ]
  },
  {
   "cell_type": "code",
   "execution_count": null,
   "metadata": {
    "collapsed": false
   },
   "outputs": [],
   "source": [
    "temp['vendor_name']=temp['vendor_id'].apply(vendor_name)\n",
    "temp['domain']=temp['url'].apply(f)\n",
    "temp['wash_label']=temp['fraud_flag'].apply(spam_flag)\n",
    "print temp.groupby(['vendor_name','wash_label']).size().order(ascending=False).head(100)\n",
    "print temp.groupby(['domain','wash_label']).size().order(ascending=False).head(100)\n",
    "print temp.groupby(['company_id','wash_label']).size().order(ascending=False).head(100)"
   ]
  },
  {
   "cell_type": "code",
   "execution_count": null,
   "metadata": {
    "collapsed": false
   },
   "outputs": [],
   "source": [
    "print clk.query('fraud_flag==fraud_flag & vendor_id==9')['domain'].value_counts()\n",
    "# 21      16671376369665264848\n",
    "# 2       mm_108636149_8862290_42786782\n",
    "# 2       mm_26632206_2690592_13290789\n",
    "# 2       mm_26632206_2690592_14738448\n",
    "# 9       9223372032562359521\n",
    "# 9       9223372032562452846\n",
    "# 9       9223372032562467558\n",
    "\n",
    "# 9223372032561520956    2034\n",
    "# 9223372032562020292    1811\n",
    "# 9223372032562082811    1784\n",
    "# 9223372032562004323    1601\n",
    "# 9223372032562530560    1510\n",
    "# 9223372032562359521    1463\n",
    "# 9223372032562071233    1403\n",
    "# 9223372032562452846    1388\n",
    "# 9223372032562416712    1317\n",
    "# 9223372032562531153    1308\n",
    "# 9223372032560087934    1228\n",
    "# 9223372032560501554    1052\n",
    "# 9223372032561548281    1030"
   ]
  },
  {
   "cell_type": "code",
   "execution_count": null,
   "metadata": {
    "collapsed": false
   },
   "outputs": [],
   "source": [
    "ctr_bins=np.arange(0,1,0.001)\n",
    "cpc_bins=np.arange(0,100,0.05)"
   ]
  },
  {
   "cell_type": "code",
   "execution_count": null,
   "metadata": {
    "collapsed": false
   },
   "outputs": [],
   "source": [
    "c=pd.read_table(\"/home/changbin/blobtest/appid_ctr_cpc_imp\",header=0)\n",
    "c.query('allimp>1000')['cpc'].value_counts(bins=cpc_bins)\n",
    "# c.query('allimp>1000')['ctr'].value_counts(bins=ctr_bins)\n",
    "c['ctr_bins']=pd.cut(c['ctr'],ctr_bins)\n",
    "c['cpc_bins']=pd.cut(c['cpc'],cpc_bins)"
   ]
  },
  {
   "cell_type": "code",
   "execution_count": null,
   "metadata": {
    "collapsed": false
   },
   "outputs": [],
   "source": [
    "ku6=readHive(\"select * from fraud_free.dclkv2 where year=2016 and month=11 and day=10 and url like '%ku6.com%'\")"
   ]
  },
  {
   "cell_type": "code",
   "execution_count": null,
   "metadata": {
    "collapsed": false
   },
   "outputs": [],
   "source": [
    "ku6.replace(np.nan,-1).groupby('fraud_flag').size()\n",
    "pzid(ku6.query('fraud_flag==fraud_flag'))"
   ]
  },
  {
   "cell_type": "code",
   "execution_count": null,
   "metadata": {
    "collapsed": true
   },
   "outputs": [],
   "source": []
  },
  {
   "cell_type": "code",
   "execution_count": null,
   "metadata": {
    "collapsed": true
   },
   "outputs": [],
   "source": []
  },
  {
   "cell_type": "code",
   "execution_count": null,
   "metadata": {
    "collapsed": true
   },
   "outputs": [],
   "source": []
  },
  {
   "cell_type": "code",
   "execution_count": null,
   "metadata": {
    "collapsed": true
   },
   "outputs": [],
   "source": []
  },
  {
   "cell_type": "code",
   "execution_count": null,
   "metadata": {
    "collapsed": true
   },
   "outputs": [],
   "source": []
  }
 ],
 "metadata": {
  "kernelspec": {
   "display_name": "Python 2",
   "language": "python",
   "name": "python2"
  },
  "language_info": {
   "codemirror_mode": {
    "name": "ipython",
    "version": 2
   },
   "file_extension": ".py",
   "mimetype": "text/x-python",
   "name": "python",
   "nbconvert_exporter": "python",
   "pygments_lexer": "ipython2",
   "version": "2.7.11"
  }
 },
 "nbformat": 4,
 "nbformat_minor": 0
}
