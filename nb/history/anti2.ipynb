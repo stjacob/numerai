{
 "cells": [
  {
   "cell_type": "code",
   "execution_count": 2,
   "metadata": {
    "collapsed": false
   },
   "outputs": [
    {
     "name": "stdout",
     "output_type": "stream",
     "text": [
      "Populating the interactive namespace from numpy and matplotlib\n"
     ]
    }
   ],
   "source": [
    "import pandas as pd\n",
    "import matplotlib.pyplot as plt\n",
    "import matplotlib.patches as mpatches\n",
    "from matplotlib.font_manager import FontProperties\n",
    "\n",
    "# matplotlib.style.use('ggplot')\n",
    "import matplotlib\n",
    "# matplotlib.style.use('ggplot')\n",
    "#matplotlib.style.use('default')\n",
    "from numpy import *\n",
    "import numpy as np\n",
    "%matplotlib inline\n",
    "%pylab inline\n",
    "pylab.rcParams['figure.figsize'] = (8, 6)\n",
    "import subprocess,shlex,sys,select,re,StringIO\n",
    "def readHive(sql):\n",
    "    text = ''\n",
    "    err = ''\n",
    "    cmd = shlex.split('hive -e '+ '\"set mapreduce.job.queuename=zampda_job;set hive.cli.print.header=true;'+sql+'\"')\n",
    "    print >>sys.stderr, cmd\n",
    "    sys.stderr.flush()\n",
    "    proc = subprocess.Popen(cmd, bufsize=0, stdout=subprocess.PIPE, stderr=subprocess.PIPE)\n",
    "    while proc.poll() is None:\n",
    "        ins, outs, errs = select.select([proc.stdout, proc.stderr], [], [])\n",
    "        if proc.stdout in ins:\n",
    "            text += proc.stdout.read()\n",
    "        if proc.stderr in ins:\n",
    "            c = proc.stderr.read(1)\n",
    "            if c == '\\n':\n",
    "                print >>sys.stderr, err\n",
    "                sys.stderr.flush()\n",
    "                err = ''\n",
    "            else:\n",
    "                err += c\n",
    "    text += proc.stdout.read()\n",
    "    print >>sys.stderr, proc.stderr.read()\n",
    "    sys.stderr.flush()\n",
    "    header, content = text.split('\\n',1)\n",
    "    header = re.sub('\\w*\\.','', header)\n",
    "    return pd.read_table(StringIO.StringIO(header+'\\n'+content), error_bad_lines = False)\n",
    "\n",
    "def f(x):\n",
    "    x=str(x)\n",
    "    tmp=x.split(\"//\")\n",
    "    if len(tmp)<=1:\n",
    "        return x\n",
    "    return '.'.join(x.strip().split('//')[1].split('/')[0].split('.')[-2:])"
   ]
  },
  {
   "cell_type": "code",
   "execution_count": null,
   "metadata": {
    "collapsed": true
   },
   "outputs": [],
   "source": []
  },
  {
   "cell_type": "code",
   "execution_count": 3,
   "metadata": {
    "collapsed": false
   },
   "outputs": [
    {
     "name": "stderr",
     "output_type": "stream",
     "text": [
      "['hive', '-e', 'set mapreduce.job.queuename=zampda_job;set hive.cli.print.header=true;select * from fraud_free.dclkv2 where year=2016 and month=8 and day=17']\n",
      "\n",
      "Logging initialized using configuration in file:/var/bh/lib/apache-hive-1.2.1-bin/conf/hive-log4j.properties\n",
      "OK\n",
      " Fetched: 552107 row(s)\n",
      "\n",
      "/home/jay/anaconda/lib/python2.7/site-packages/IPython/core/interactiveshell.py:2825: DtypeWarning: Columns (23) have mixed types. Specify dtype option on import or set low_memory=False.\n",
      "  if self.run_code(code, result):\n",
      "['hive', '-e', 'set mapreduce.job.queuename=zampda_job;set hive.cli.print.header=true;select * from etl_output.landing where year=2016 and month=8 and day=17 and request_id is not null']\n",
      "\n",
      "Logging initialized using configuration in file:/var/bh/lib/apache-hive-1.2.1-bin/conf/hive-log4j.properties\n",
      "OK\n",
      "conds, Fetched: 99280 row(s)\n",
      "\n"
     ]
    }
   ],
   "source": [
    "clk=readHive(\"\"\"select * from fraud_free.dclkv2 where year=2016 and month=8 and day=17\"\"\")\n",
    "ld=readHive(\"\"\"select * from etl_output.landing where year=2016 and month=8 and day=17 and request_id is not null\"\"\")"
   ]
  },
  {
   "cell_type": "code",
   "execution_count": 17,
   "metadata": {
    "collapsed": false
   },
   "outputs": [
    {
     "name": "stdout",
     "output_type": "stream",
     "text": [
      "976641 520295\n"
     ]
    }
   ],
   "source": [
    "j=pd.merge(clk,ld,on='request_id',how='left')\n",
    "print len(j),len(j.query(\"fraud_flag==fraud_flag\"))"
   ]
  },
  {
   "cell_type": "code",
   "execution_count": 18,
   "metadata": {
    "collapsed": false
   },
   "outputs": [
    {
     "name": "stdout",
     "output_type": "stream",
     "text": [
      "552107 141207\n"
     ]
    }
   ],
   "source": [
    "print len(clk),len(clk.query(\"fraud_flag==fraud_flag\"))"
   ]
  },
  {
   "cell_type": "code",
   "execution_count": 20,
   "metadata": {
    "collapsed": false
   },
   "outputs": [],
   "source": [
    "clk['domain']=clk['url'].apply(f)\n",
    "total=j['adslot_id'].value_counts().reset_index()\n",
    "total.rename(columns={'adslot_id':'all'},inplace=True)\n",
    "total_clean=j.query(\"fraud_flag==fraud_flag\")['adslot_id'].value_counts().reset_index()\n",
    "total_clean.rename(columns={'adslot_id':'clean'},inplace=True)\n",
    "# total_ld=j.query(\"year_y==year_y\")['adslot_id'].value_counts().reset_index()\n",
    "# total_ld.rename(columns={'adslot_id':'ld'},inplace=True)\n",
    "first=pd.merge(total,total_clean,on='index',how='inner')\n",
    "first['cleanr']=first['clean']/first['all']\n",
    "# second=pd.merge(first,total_ld,on='index',how='inner')\n",
    "# second['cleanr']=second['clean']/second['all']\n",
    "# second['landingr']=second['ld']/second['all']\n",
    "third=pd.merge(first,clk[['adslot_id','domain','vendor_id']].drop_duplicates(),left_on='index',right_on='adslot_id',how='inner')"
   ]
  },
  {
   "cell_type": "code",
   "execution_count": 22,
   "metadata": {
    "collapsed": false
   },
   "outputs": [
    {
     "data": {
      "text/plain": [
       "1.0    62391\n",
       "0.0    52032\n",
       "5.0    24611\n",
       "2.0     2173\n",
       "Name: fraud_flag, dtype: int64"
      ]
     },
     "execution_count": 22,
     "metadata": {},
     "output_type": "execute_result"
    }
   ],
   "source": [
    "clk.query(\"fraud_flag==fraud_flag\")['fraud_flag'].value_counts()"
   ]
  },
  {
   "cell_type": "code",
   "execution_count": null,
   "metadata": {
    "collapsed": true
   },
   "outputs": [],
   "source": []
  },
  {
   "cell_type": "code",
   "execution_count": null,
   "metadata": {
    "collapsed": true
   },
   "outputs": [],
   "source": []
  },
  {
   "cell_type": "code",
   "execution_count": null,
   "metadata": {
    "collapsed": true
   },
   "outputs": [],
   "source": []
  },
  {
   "cell_type": "code",
   "execution_count": null,
   "metadata": {
    "collapsed": true
   },
   "outputs": [],
   "source": []
  },
  {
   "cell_type": "code",
   "execution_count": 14,
   "metadata": {
    "collapsed": false
   },
   "outputs": [],
   "source": [
    "\n",
    "\n",
    "# third.query('cleanr<=0.3 &vendor_id==10& domain in (\\'youku.com\\',\\'tudou.com\\',\\'ynet.com\\',\\'miercn.com\\',\\'mianhuatang.la\\',\\'xinjunshi.com\\',\\'9ku.com\\',\\'le.com\\',\\'y2002.com\\',\\'eastday.com\\',\\'faloo.com\\',\\'fxingw.com\\',\\'cntv.cn\\',\\'wasu.cn\\',\\'555zw.com\\',\\'xiaoxiaoshuwu.com\\',\\'manhuatai.com\\',\\'d8qu.com\\')')[['index','adslot_id_x','cleanr','landingr','domain','vendor_id']]"
   ]
  },
  {
   "cell_type": "code",
   "execution_count": null,
   "metadata": {
    "collapsed": false
   },
   "outputs": [],
   "source": [
    "third"
   ]
  },
  {
   "cell_type": "code",
   "execution_count": null,
   "metadata": {
    "collapsed": true
   },
   "outputs": [],
   "source": []
  },
  {
   "cell_type": "code",
   "execution_count": null,
   "metadata": {
    "collapsed": false
   },
   "outputs": [],
   "source": []
  },
  {
   "cell_type": "code",
   "execution_count": null,
   "metadata": {
    "collapsed": true
   },
   "outputs": [],
   "source": []
  },
  {
   "cell_type": "code",
   "execution_count": null,
   "metadata": {
    "collapsed": false,
    "scrolled": true
   },
   "outputs": [],
   "source": []
  },
  {
   "cell_type": "code",
   "execution_count": null,
   "metadata": {
    "collapsed": true
   },
   "outputs": [],
   "source": []
  },
  {
   "cell_type": "code",
   "execution_count": 9,
   "metadata": {
    "collapsed": false
   },
   "outputs": [],
   "source": []
  },
  {
   "cell_type": "code",
   "execution_count": null,
   "metadata": {
    "collapsed": true
   },
   "outputs": [],
   "source": []
  },
  {
   "cell_type": "code",
   "execution_count": null,
   "metadata": {
    "collapsed": true
   },
   "outputs": [],
   "source": []
  },
  {
   "cell_type": "code",
   "execution_count": null,
   "metadata": {
    "collapsed": true
   },
   "outputs": [],
   "source": []
  },
  {
   "cell_type": "code",
   "execution_count": null,
   "metadata": {
    "collapsed": true
   },
   "outputs": [],
   "source": []
  },
  {
   "cell_type": "code",
   "execution_count": null,
   "metadata": {
    "collapsed": true
   },
   "outputs": [],
   "source": []
  }
 ],
 "metadata": {
  "kernelspec": {
   "display_name": "Python 2",
   "language": "python",
   "name": "python2"
  },
  "language_info": {
   "codemirror_mode": {
    "name": "ipython",
    "version": 2
   },
   "file_extension": ".py",
   "mimetype": "text/x-python",
   "name": "python",
   "nbconvert_exporter": "python",
   "pygments_lexer": "ipython2",
   "version": "2.7.11"
  }
 },
 "nbformat": 4,
 "nbformat_minor": 0
}
