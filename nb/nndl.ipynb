{
 "cells": [
  {
   "cell_type": "code",
   "execution_count": 5,
   "metadata": {
    "collapsed": false
   },
   "outputs": [],
   "source": [
    "import tensorflow as tf\n",
    "import matplotlib.pyplot as plt\n",
    "\n",
    "from matplotlib import animation, rc\n",
    "from IPython.display import HTML\n",
    "import matplotlib.cm as cm\n",
    "import numpy as np\n",
    "%matplotlib inline"
   ]
  },
  {
   "cell_type": "code",
   "execution_count": null,
   "metadata": {
    "collapsed": true
   },
   "outputs": [],
   "source": []
  },
  {
   "cell_type": "code",
   "execution_count": null,
   "metadata": {
    "collapsed": false
   },
   "outputs": [],
   "source": [
    "dot_num = 100\n",
    "x_p = np.random.normal(3., 1, dot_num)\n",
    "y_p = np.random.normal(6., 1, dot_num)\n",
    "y = np.ones(dot_num)\n",
    "# print x_p[0]\n",
    "# print y_p[0]\n",
    "# print y[0]\n",
    "C1 = np.array([x_p, y_p,y]).T\n",
    "# print C1[0]\n",
    "x_n = np.random.normal(6., 1, dot_num)\n",
    "y_n = np.random.normal(3., 1, dot_num)\n",
    "y = np.zeros(dot_num)\n",
    "C2 = np.array([x_n, y_n, y]).T\n",
    "\n",
    "plt.scatter(C1[:, 0], C1[:, 1], c='b', marker='+')\n",
    "plt.scatter(C2[:, 0], C2[:, 1], c='g', marker='o')\n",
    "\n",
    "data_set = np.concatenate((C1, C2), axis=0)\n",
    "np.random.shuffle(data_set)\n",
    "\n",
    "# help(np.ndarray)"
   ]
  },
  {
   "cell_type": "code",
   "execution_count": null,
   "metadata": {
    "collapsed": false
   },
   "outputs": [],
   "source": [
    "################Graph building stage################\n",
    "# Define placeholders for input\n",
    "X = tf.placeholder(tf.float32, shape=(None, 2))\n",
    "y = tf.placeholder(tf.float32, shape=(None, 1)) \n",
    "\n",
    "# Define variables to be learned\n",
    "with tf.variable_scope(\"Logistic_regression\"):\n",
    "    W = tf.Variable(np.random.rand(2, 1), 'weight', dtype=tf.float32)\n",
    "    b = tf.Variable(np.random.rand(1, 1), 'bias', dtype=tf.float32)\n",
    "    \n",
    "    logits = tf.matmul(X, W) + b\n",
    "    pred = tf.sigmoid(logits)\n",
    "    loss = tf.nn.sigmoid_cross_entropy_with_logits(logits, y)\n",
    "    loss = tf.reduce_mean(loss)\n",
    "#     y_hat = tf.sigmoid(logits)\n",
    "#     loss = tf.reduce_mean(y * -tf.log(y_hat+1e-12) + (1 - y) * -tf.log(1 - y_hat+1e-12)) #cross entropy\n",
    "\n",
    "opt = tf.train.AdamOptimizer(0.01)\n",
    "opt_operation = opt.minimize(loss)\n",
    "####################end of building graph###########\n",
    "animation_fram = []\n",
    "\n",
    "################Run/fetch the graph#################\n",
    "with tf.Session() as sess:\n",
    "    sess.run(tf.global_variables_initializer())\n",
    "    for _ in xrange(500):\n",
    "        _, loss_val = sess.run([opt_operation, loss], feed_dict={X: data_set[:, :2], y: data_set[:, 2].reshape((-1, 1))})\n",
    "        W_opt, b_opt = sess.run([W, b])\n",
    "        animation_fram.append((W_opt[0, 0], W_opt[1, 0], b_opt, loss_val))"
   ]
  },
  {
   "cell_type": "code",
   "execution_count": null,
   "metadata": {
    "collapsed": false,
    "scrolled": false
   },
   "outputs": [],
   "source": [
    "f, ax = plt.subplots(figsize=(6,4))\n",
    "f.suptitle('Logistic Regression Example', fontsize=15)\n",
    "plt.ylabel('Y')\n",
    "plt.xlabel('X')\n",
    "ax.set_xlim(0, 10)\n",
    "ax.set_ylim(0, 10)\n",
    "\n",
    "line_d, = ax.plot([], [], label='fit_line')\n",
    "C1_dots, = ax.plot([], [], '+', c='b', label='actual_dots')\n",
    "C2_dots, = ax.plot([], [], 'o', c='g' ,label='actual_dots')\n",
    "\n",
    "\n",
    "frame_text = ax.text(0.02, 0.95,'',horizontalalignment='left',verticalalignment='top', transform=ax.transAxes)\n",
    "# ax.legend()\n",
    "\n",
    "def init():\n",
    "    line_d.set_data([],[])\n",
    "    C1_dots.set_data([],[])\n",
    "    C2_dots.set_data([],[])\n",
    "    return (line_d,) + (C1_dots,) + (C2_dots,)\n",
    "\n",
    "def animate(i):\n",
    "    xx = np.arange(10, step=0.1)\n",
    "    a = animation_fram[i][0]\n",
    "    b = animation_fram[i][1]\n",
    "    c = animation_fram[i][2]\n",
    "    yy = a/-b * xx +c/-b\n",
    "    line_d.set_data(xx, yy)\n",
    "        \n",
    "    C1_dots.set_data(C1[:, 0], C1[:, 1])\n",
    "    C2_dots.set_data(C2[:, 0], C2[:, 1])\n",
    "    \n",
    "    frame_text.set_text('Timestep = %.1d/%.1d\\nLoss = %.3f' % (i, len(animation_fram), animation_fram[i][3]))\n",
    "    \n",
    "    return (line_d,) + (C1_dots,) + (C2_dots,)\n",
    "\n",
    "anim = animation.FuncAnimation(f, animate, init_func=init,\n",
    "                               frames=len(animation_fram), interval=30, blit=True)\n",
    "HTML(anim.to_html5_video())\n"
   ]
  },
  {
   "cell_type": "code",
   "execution_count": null,
   "metadata": {
    "collapsed": true
   },
   "outputs": [],
   "source": []
  }
 ],
 "metadata": {
  "anaconda-cloud": {},
  "kernelspec": {
   "display_name": "Python [conda root]",
   "language": "python",
   "name": "conda-root-py"
  },
  "language_info": {
   "codemirror_mode": {
    "name": "ipython",
    "version": 2
   },
   "file_extension": ".py",
   "mimetype": "text/x-python",
   "name": "python",
   "nbconvert_exporter": "python",
   "pygments_lexer": "ipython2",
   "version": "2.7.12"
  }
 },
 "nbformat": 4,
 "nbformat_minor": 1
}
