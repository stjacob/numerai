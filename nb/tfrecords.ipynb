{
 "cells": [
  {
   "cell_type": "code",
   "execution_count": 4,
   "metadata": {
    "collapsed": true
   },
   "outputs": [],
   "source": [
    "import os\n",
    "import tensorflow as tf \n",
    "from PIL import Image"
   ]
  },
  {
   "cell_type": "code",
   "execution_count": 13,
   "metadata": {
    "collapsed": false
   },
   "outputs": [],
   "source": [
    "# print classes\n",
    "# cwd = os.getcwd()\n",
    "# writer = tf.python_io.TFRecordWriter(\"train.tfrecords\")\n",
    "# for index, name in enumerate(classes):\n",
    "#     class_path = cwd + name + \"/\"\n",
    "writer = tf.python_io.TFRecordWriter(\"train.tfrecords\")\n",
    "index=1\n",
    "class_path=\"history/png/1/\"\n",
    "for img_name in os.listdir(class_path):\n",
    "    img_path = class_path + img_name\n",
    "    img = Imagee.open(img_path)\n",
    "    img = img.resize((224, 224))\n",
    "    img_raw = img.tobytes()             \n",
    "    example = tf.train.Example(features=tf.train.Features(feature={\n",
    "        \"label\": tf.train.Feature(int64_list=tf.train.Int64List(value=[index])),\n",
    "        'img_raw': tf.train.Feature(bytes_list=tf.train.BytesList(value=[img_raw]))\n",
    "    }))\n",
    "    writer.write(example.SerializeToString())  \n",
    "writer.close()"
   ]
  }
 ],
 "metadata": {
  "anaconda-cloud": {},
  "kernelspec": {
   "display_name": "Python [conda root]",
   "language": "python",
   "name": "conda-root-py"
  },
  "language_info": {
   "codemirror_mode": {
    "name": "ipython",
    "version": 2
   },
   "file_extension": ".py",
   "mimetype": "text/x-python",
   "name": "python",
   "nbconvert_exporter": "python",
   "pygments_lexer": "ipython2",
   "version": "2.7.12"
  }
 },
 "nbformat": 4,
 "nbformat_minor": 1
}
